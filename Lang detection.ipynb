{
 "cells": [
  {
   "cell_type": "markdown",
   "metadata": {},
   "source": [
    "# Practical survey of language detection algorithms in Python\n",
    "\n",
    "In this article I test several algorithms and libraries for language detection in Python. You can see similar article in https://tech.people-doc.com/how-to-detect-western-language-with-python.html, but in my case I have some special needs:\n",
    "\n",
    "- I need detect the language of blog and news titles: not the complete text , only the title\n",
    "- The sentences will be in Spanish, English and Galician.\n",
    "\n",
    "\n",
    "The original article test the algoriths with sentences extracted from Genesis corpus. In this case the sentences are very similar, it doesn't include several languages in the same sentence, the vocabulary is limited and there aren't a Galician version of Genesis corpus available. \n",
    "\n",
    "This study is part of a larger project, so I create a small test case with titles extracted from the real case. \n",
    "\n",
    "The Galician is underrepresented int the test set, but is a similar percentage than the real case. I add some Portuguese sentences too. This is because Galician and Portuguese are very similar, and is difficult for algorithms tell apart both languages, and there aren't data to train the algorithms for Galician, so the challenge is more interesign.\n",
    "\n",
    "You can see more info about Galician in https://en.wikipedia.org/wiki/Galician_language\n",
    "\n",
    "(Note: this code was tested with Python 3.6.4)\n",
    "\n"
   ]
  },
  {
   "cell_type": "markdown",
   "metadata": {},
   "source": [
    "This two functions allows save and load models, arrays, etc. to disk, If some process is very time consuming (process a list of words, or generate a statistical mode, for example) we can do the process, save the result and, the next time, load from disk."
   ]
  },
  {
   "cell_type": "code",
   "execution_count": 1,
   "metadata": {},
   "outputs": [],
   "source": [
    "import pickle\n",
    "\n",
    "import  pprint \n",
    "pp = pprint.PrettyPrinter(indent=4, width=70, compact=True)\n",
    "\n",
    "\n",
    "def deserialize_from_disk(filename):\n",
    "    pp.pprint (f'deserializing from {filename}')\n",
    "    with open(filename,'rb') as fin:\n",
    "        tagger = pickle.load(fin)\n",
    "    return tagger\n",
    "\n",
    "def serialize_to_disk(filename, tagger):\n",
    "    pp.pprint (f'serializing to  {filename}')\n",
    "    with open(filename, 'wb') as fout:\n",
    "        pickle.dump(tagger, fout)\n"
   ]
  },
  {
   "cell_type": "markdown",
   "metadata": {},
   "source": [
    "## Creating the test set"
   ]
  },
  {
   "cell_type": "markdown",
   "metadata": {},
   "source": [
    "Some libraries works with complete sentences, others with tokens (words), so I created two sets for naive test, and two functions for run the algorithms over the full test set.\n",
    "\n",
    "In order to install nltk lib run:\n",
    "\n",
    "```shell\n",
    "pip install nltk\n",
    "```\n",
    "    "
   ]
  },
  {
   "cell_type": "code",
   "execution_count": 2,
   "metadata": {},
   "outputs": [],
   "source": [
    "# some basic imports, etc.\n",
    "\n",
    "import nltk\n",
    "import sys\n",
    "\n",
    "\n",
    "include_pt = True\n",
    "use_complete_text = True\n",
    "\n",
    "iso_to_human = {'un': 'unknow', 'en': 'english', 'es': 'spanish', 'gl': 'galician', }\n",
    "if (include_pt):\n",
    "    iso_to_human['pt'] = 'portuguese'\n",
    "tmp_dir = '/media/xurxo/Sistema/tmp/python'\n"
   ]
  },
  {
   "cell_type": "code",
   "execution_count": 3,
   "metadata": {},
   "outputs": [
    {
     "name": "stdout",
     "output_type": "stream",
     "text": [
      "[nltk_data] Downloading package punkt to /home/xurxo/nltk_data...\n",
      "[nltk_data]   Package punkt is already up-to-date!\n"
     ]
    },
    {
     "data": {
      "text/plain": [
       "True"
      ]
     },
     "execution_count": 3,
     "metadata": {},
     "output_type": "execute_result"
    }
   ],
   "source": [
    "import nltk\n",
    "nltk.download('punkt')\n"
   ]
  },
  {
   "cell_type": "code",
   "execution_count": 4,
   "metadata": {
    "scrolled": true
   },
   "outputs": [],
   "source": [
    "from nltk import  word_tokenize\n",
    "# one sentence for each language to test the methods\n",
    "english_text = '''\n",
    "Hi! Was wondering if anyone had tips/tricks on how to reset your hook grip between reps. This typically is only an issue for me when I'm doing something like a heavy triple clean. First rep is no problem...no pain, nothing. But I have a hard time holding on to my hook grip with full rotation high\n",
    "'''\n",
    "spanish_text = '''\n",
    "Akira Kurosawa puso su grano de arena para explicar el Japón de la derrota militar en sus filmes de posguerra (Un domingo maravilloso), exploró los códigos del cine negro (El ángel ebrio) y puso en diálogo las historias del Japón feudal con el western (Los siete samuráis) o con la dramaturgia de\n",
    "'''\n",
    "galician_text = '''\n",
    "Os activistas explicaron aos presentes que a reapertura da explotación en Touro “non ten viablidade”. E avisaron da “forte oposición” veciñal á mesma, que soborda a bisbarra e esténdese Ulla abaixo. De feito, as comarcas da Arousa atópanse entre as prinicipais zonas contrarias á mina.\n",
    "'''\n",
    "portuguese_text = '''\n",
    "Uma equipa de especialistas do Porto está a desenvolver um sistema que realiza previsões climáticas \"precisas\" de curto, médio e longo prazo, baseadas num novo algoritmo, com o intuito de auxiliar empresas e as entidades públicas na tomada de decisão\n",
    "'''\n",
    "en_tokens  = [word.lower() for word in word_tokenize(english_text)]\n",
    "es_tokens  = [word.lower() for word in word_tokenize(spanish_text)]\n",
    "gl_tokens  = [word.lower() for word in word_tokenize(galician_text)]\n",
    "pt_tokens  = [word.lower() for word in word_tokenize(portuguese_text)]"
   ]
  },
  {
   "cell_type": "markdown",
   "metadata": {},
   "source": [
    "Insall pandas with\n",
    "\n",
    "```shell\n",
    "pip install pandas\n",
    "```"
   ]
  },
  {
   "cell_type": "code",
   "execution_count": 5,
   "metadata": {},
   "outputs": [
    {
     "name": "stdout",
     "output_type": "stream",
     "text": [
      "'english -> 500 sentences'\n",
      "'spanish -> 500 sentences'\n",
      "'galician -> 500 sentences'\n",
      "'portuguese -> 500 sentences'\n"
     ]
    }
   ],
   "source": [
    "import pandas as pd\n",
    "\n",
    "# load the test set from files\n",
    "\n",
    "dfs  = []\n",
    "langs =['english','spanish','galician',]\n",
    "\n",
    "complete_postfix = '_complete' if use_complete_text else ''\n",
    "if (include_pt): langs.append('portuguese')\n",
    "for lang in langs:\n",
    "    titles = pd.read_table(f'{lang}_testset{complete_postfix}.txt',names=['sentences'], skiprows=1 )[0:500]\n",
    "    titles['sentences'] = titles['sentences'].apply(str.lower)\n",
    "    titles['label'] = lang\n",
    "    titles['tokens'] = titles['sentences'].apply(str.lower).apply(word_tokenize)\n",
    "    pp.pprint (f'{lang} -> {titles.shape[0]} sentences')\n",
    "    dfs.append(titles)\n",
    "\n",
    "titles_sentences_small = pd.concat([d for d in dfs[0:50]], ignore_index=True)\n",
    "titles_sentences = pd.concat(dfs, ignore_index=True)\n",
    "\n",
    "\n"
   ]
  },
  {
   "cell_type": "markdown",
   "metadata": {},
   "source": [
    "## Accuracy test\n",
    "\n",
    "Let's create a function to test the algorithms. It apply the algorithm to a data frame and store the accuracy of the result, and the running time. También mostramos una matriz de errores normalizada. El código original está sacado de https://stackoverflow.com/a/29877565\n"
   ]
  },
  {
   "cell_type": "code",
   "execution_count": 6,
   "metadata": {},
   "outputs": [],
   "source": [
    "# from nltk.metrics import ConfusionMatrix\n",
    "import time\n",
    "from sklearn.metrics import confusion_matrix\n",
    "import matplotlib.pyplot as plt\n",
    "import numpy as np\n",
    "import itertools\n",
    "\n",
    "\n",
    "times = {}\n",
    "accuracies = {}\n",
    "confussion_matrices = {}\n",
    "\n",
    "\n",
    "def plot_confusion_matrix(df_confusion, title='Confusion matrix', cmap=plt.cm.Blues):\n",
    "    \n",
    "    import matplotlib.pyplot as plt\n",
    "    plt.imshow(df_confusion, cmap=cmap) # matshow\n",
    "    plt.title(title)\n",
    "    # plt.colorbar()\n",
    "    tick_marks = np.arange(len(df_confusion.columns))\n",
    "    plt.xticks(tick_marks, df_confusion.columns, rotation=45)\n",
    "    plt.yticks(tick_marks, df_confusion.index)\n",
    "    plt.tight_layout()\n",
    "    \n",
    "    fmt = '.2f'\n",
    "    thresh = df_confusion.max().max() / 2.\n",
    "    for i, j in itertools.product(range(len(df_confusion.columns)), range(len(df_confusion.index))):\n",
    "        a = df_confusion.columns[i]\n",
    "        b = df_confusion.index[j]\n",
    "        val = df_confusion[a][b]\n",
    "        plt.text(j, i, format(df_confusion[a][b], fmt),\n",
    "                 horizontalalignment=\"center\",\n",
    "                 color=\"white\" if val > thresh else \"black\")\n",
    "    plt.ylabel(df_confusion.index.name)\n",
    "    plt.xlabel(df_confusion.columns.name)\n",
    "    \n",
    "    \n",
    "def plot_all_confusion_matrix():\n",
    "    for name, matrix in confussion_matrices.items():\n",
    "        np.set_printoptions(precision=2)\n",
    "        plt.figure()\n",
    "        plot_confusion_matrix(matrix, title=name)\n",
    "        \n",
    "        \n",
    "\n",
    "def plot_all_accuracies():\n",
    "    for name, matrix in confussion_matrices.items():\n",
    "        plot_confusion_matrix(matrix, title=name)\n",
    "        \n",
    "        \n",
    "def plot_all_accuracies():\n",
    "    print_table (accuracies, 'accuracy')\n",
    "    print()\n",
    "    print_table (times, 'time')\n",
    "    \n",
    "    \n",
    "def print_table (dictonary, label):\n",
    "    print (\"{:>35}     {:<25}\".format('algorithm', label))\n",
    "    print (\"{:>35}     {:<25}\".format('----', '----'))\n",
    "    for k in dictonary:\n",
    "        print (\"{:>35}     {:<25}\".format(k, dictonary[k]))\n",
    "        \n",
    "def compute_accuracy (df, predictor, columns, verbose, plot_confusion):\n",
    "    start_time = time.time()\n",
    "    if len(columns ) ==1:\n",
    "        df['r_' + predictor.__name__] = df[columns[0]].apply(predictor) \n",
    "    else:\n",
    "        df['r_' + predictor.__name__] = df.loc[:,columns].apply(predictor,  axis=1) \n",
    "    \n",
    "    # time = %timeit -n1 -r1 -p3 -o accuracies [predictor.__name__] = (result == expected).sum() / len(df)\n",
    "    # times [predictor.__name__] = time.best\n",
    "    accuracy = (df['r_' + predictor.__name__] == df['label']).sum() / len(df)\n",
    "    accuracies [predictor.__name__] = accuracy\n",
    "    stime = (time.time() - start_time)\n",
    "    times [predictor.__name__] = stime\n",
    "             \n",
    "    print (f'{predictor.__name__}     Accuracy: {accuracy}       Time: {stime}')\n",
    "    if verbose: \n",
    "        print_table (accuracies, 'accuracy')\n",
    "        print()\n",
    "        print_table (times, 'time')\n",
    "    \n",
    "    y_actu = df['label']\n",
    "    y_pred = df['r_' + predictor.__name__]\n",
    "    df_confusion = pd.crosstab(y_actu, y_pred, rownames=['Actual'], colnames=['Predicted'], margins=False, normalize='index')\n",
    "    \n",
    "    # df_confusion = confusion_matrix(y_actu, y_pred)\n",
    "    confussion_matrices [predictor.__name__] = df_confusion\n",
    "    if plot_confusion:\n",
    "        plot_confusion_matrix(df_confusion, title=predictor.__name__)\n",
    "    \n",
    "    return accuracy\n",
    "    \n",
    "def compute_accuracy_tokens(df, predictor, verbose=False, plot_confusion=True):\n",
    "    return compute_accuracy(df, predictor, ['tokens'], verbose, plot_confusion)\n",
    "\n",
    "def compute_accuracy_sentences(df, predictor, verbose=False, plot_confusion=True):\n",
    "    return compute_accuracy(df, predictor, ['sentences'], verbose, plot_confusion)"
   ]
  },
  {
   "cell_type": "markdown",
   "metadata": {},
   "source": [
    "# Detecting with NLTK and stopwords\n",
    "\n",
    "You can see an explanation of this algorithm in http://blog.alejandronolla.com/2013/05/15/detecting-text-language-with-python-and-nltk/. It uses a list of stopwords per objetive language, computing language probability depending on which stopwords are used. The NLTK library have several stopwords lists, but not for Galician. Fortunately, in https://github.com/stopwords-iso/stopwords-gl  there are one. I use it in this test. In https://www.ranks.nl/stopwords there are other, if you want test."
   ]
  },
  {
   "cell_type": "code",
   "execution_count": 7,
   "metadata": {},
   "outputs": [
    {
     "name": "stdout",
     "output_type": "stream",
     "text": [
      "[nltk_data] Downloading package stopwords to /home/xurxo/nltk_data...\n",
      "[nltk_data]   Package stopwords is already up-to-date!\n"
     ]
    }
   ],
   "source": [
    "from nltk.corpus import stopwords    \n",
    "nltk.download('stopwords')\n",
    "\n",
    "\n",
    "fileids=['spanish','english']\n",
    "if (include_pt): fileids.append('portuguese')\n",
    "\n",
    "\n",
    "# Compute per language included in nltk number of unique stopwords\n",
    "# appearing in analyzed text\n",
    "nltk_stopwords_sets = { language: list(set(stopwords.words(language))) \n",
    "                  for language in fileids} # list of stopwords per language\n",
    "\n",
    "file = open(\"resources/galician_stopwords.txt\", \"r\") \n",
    "original_galician_stopwords = [l[:-1] for l in file.readlines()]\n",
    "nltk_stopwords_sets['galician'] = original_galician_stopwords"
   ]
  },
  {
   "cell_type": "code",
   "execution_count": 8,
   "metadata": {},
   "outputs": [],
   "source": [
    "import random\n",
    "def _calculate_languages_ratios(stopwords_sets, tokens, verbose):\n",
    "    if verbose:\n",
    "        print ('tokens:')\n",
    "        pp.pprint (tokens)\n",
    "    languages_ratios = {}\n",
    "\n",
    "\n",
    "    # Compute per language included in nltk number of unique stopwords\n",
    "    # appearing in analyzed text\n",
    "    for language in stopwords_sets.keys():\n",
    "        stopwords_set = stopwords_sets[language]\n",
    "        words_set = set(tokens)\n",
    "        common_elements = words_set.intersection(stopwords_set)\n",
    "        if verbose:\n",
    "            print(f'{language} common words: ')\n",
    "            pp.pprint( common_elements)\n",
    "            \n",
    "        languages_ratios[language] = len(common_elements) # language \"score\"\n",
    "\n",
    "    return languages_ratios\n",
    "\n",
    "\n",
    "def detect_with_stopwords(stopwords_sets, tokens, verbose=False):\n",
    "    ratios = _calculate_languages_ratios(stopwords_sets, tokens, verbose)\n",
    "    m = max(ratios.values())\n",
    "    return random.choice([k for k, v in ratios.items() if v == m])\n",
    "    \n",
    "def detect_nltk_stopwords (tokens):\n",
    "    return detect_with_stopwords (nltk_stopwords_sets, tokens)\n",
    "\n",
    "\n"
   ]
  },
  {
   "cell_type": "code",
   "execution_count": 9,
   "metadata": {},
   "outputs": [
    {
     "name": "stdout",
     "output_type": "stream",
     "text": [
      "tokens:\n",
      "['ou', 'a', 'praia', 'ou', 'vou', 'ao', 'monte']\n",
      "spanish common words: \n",
      "{'a'}\n",
      "english common words: \n",
      "{'a'}\n",
      "portuguese common words: \n",
      "{'ou', 'a', 'ao'}\n",
      "galician common words: \n",
      "{'a', 'ou', 'ao'}\n"
     ]
    },
    {
     "data": {
      "text/plain": [
       "'portuguese'"
      ]
     },
     "execution_count": 9,
     "metadata": {},
     "output_type": "execute_result"
    }
   ],
   "source": [
    "detect_with_stopwords(nltk_stopwords_sets, 'Ou a praia ou vou ao monte'.lower().split(), verbose=True )"
   ]
  },
  {
   "cell_type": "code",
   "execution_count": 10,
   "metadata": {},
   "outputs": [
    {
     "name": "stdout",
     "output_type": "stream",
     "text": [
      "english\n",
      "spanish\n",
      "galician\n",
      "portuguese\n"
     ]
    }
   ],
   "source": [
    "print(detect_nltk_stopwords(en_tokens))\n",
    "print(detect_nltk_stopwords(es_tokens))\n",
    "print(detect_nltk_stopwords(gl_tokens))\n",
    "print(detect_nltk_stopwords(pt_tokens))"
   ]
  },
  {
   "cell_type": "code",
   "execution_count": 11,
   "metadata": {},
   "outputs": [
    {
     "name": "stdout",
     "output_type": "stream",
     "text": [
      "detect_nltk_stopwords     Accuracy: 0.9625       Time: 0.21731877326965332\n"
     ]
    },
    {
     "data": {
      "text/plain": [
       "0.9625"
      ]
     },
     "execution_count": 11,
     "metadata": {},
     "output_type": "execute_result"
    },
    {
     "data": {
      "image/png": "[encoded data removed]",
      "text/plain": [
       "<Figure size 432x288 with 1 Axes>"
      ]
     },
     "metadata": {
      "needs_background": "light"
     },
     "output_type": "display_data"
    }
   ],
   "source": [
    "    \n",
    "compute_accuracy_tokens(titles_sentences, detect_nltk_stopwords)"
   ]
  },
  {
   "cell_type": "markdown",
   "metadata": {},
   "source": [
    "## Handmade Galician stopwords list\n",
    "I tried a bigger stopword list for Galician language, based on the 5000 more frequent words (CORGA corpus, by  Centro Ramón Piñeiro). The original list is case sensitive, and too long, so I lowercase it and select the first 400 words, a similar size than other lists. I manually remove common nouns from \n",
    "\n",
    "\n",
    "Reference: Centro Ramón Piñeiro para a investigación en humanidades: Corpus de Referencia do Galego Actual (CORGA) [3.0] <http://corpus.cirp.gal/corga/> "
   ]
  },
  {
   "cell_type": "code",
   "execution_count": 12,
   "metadata": {},
   "outputs": [],
   "source": [
    "import numpy as np\n",
    "\n",
    "galician_freq = pd.read_csv('resources/galician_frequency.txt', sep= '\\t', index_col=0, decimal=',', thousands='.',\n",
    "                           dtype={'Unidade':np.str ,\n",
    "                                  'Coincidencias':np.int ,\n",
    "                                  'Frecuencia':np.float ,\n",
    "                                  'Frecuencia acumulada':np.float})\n",
    "\n"
   ]
  },
  {
   "cell_type": "code",
   "execution_count": 13,
   "metadata": {},
   "outputs": [
    {
     "name": "stdout",
     "output_type": "stream",
     "text": [
      "[   'de', 'que', 'a', 'e', 'o', 'do', 'da', 'non', 'en', 'os', 'un',\n",
      "    'se', 'para', 'unha', 'as', 'no', 'por', 'é', 'na', 'como', 'dos',\n",
      "    'con', 'máis', 'á', 'das', 'ou', 'súa', 'ó', 'seu', 'pero', 'xa',\n",
      "    'ao', 'nos', 'polo', 'lle', 'era', 'tamén', 'cando', 'pola',\n",
      "    'todo', 'sen', 'sobre', 'entre', 'son', 'coa', 'co', 'ser', 'hai',\n",
      "    'foi', 'eu', 'dun', 'aínda', 'moi', 'nas', 'me', 'está', 'así',\n",
      "    'ben', 'anos', 'el', 'seus', 'mesmo', 'porque', 'dunha', 'só',\n",
      "    'este', 'ás', 'ten', 'esta', 'onde', 'nun', 'tempo', 'galicia',\n",
      "    'nin', 'agora', 'coma', 'si', 'quen', 'ata', 'desde', 'dous',\n",
      "    'vez', 'sempre', 'iso', 'día', 'súas', 'parte', 'todos',\n",
      "    'segundo', 'nada', 'pode', 'vida', 'cada', 'despois', 'ós',\n",
      "    'facer', 'estaba', 'tan', 'nunha', 'outra', 'algo', 'casa',\n",
      "    'tanto', 'ela', 'tiña', 'onte', 'ano', 'cara', 'mais', 'contra',\n",
      "    'logo', 'mundo', 'moito', 'meu', 'home', 'cos', 'pois', 'antes',\n",
      "    'pouco', 'outro', 'menos', 'miña', 'tres', 'caso', 'vai',\n",
      "    'galego', 'outros', 'aos', 'primeiro', 'ti', 'novo', 'cun', 'ver',\n",
      "    'ter', 'traballo', 'hoxe', 'nunca', 'dúas', 'lugar', 'goberno',\n",
      "    'ademais', 'aquí', 'mellor', 'dixo', 'mentres', 'durante', 'toda',\n",
      "    'primeira', 'días', 'alí', 'había', 'esa', 'medio', 'momento',\n",
      "    'ese', 'min', 'polos', 'están', 'xeito', 'muller', 'uns', 'dicir',\n",
      "    'cunha', 'cousas', 'isto', 'galega', 'noite', 'coas', 'senón',\n",
      "    'estado', 'deste', 'persoas', 'país', 'veces', 'tal', 'dende',\n",
      "    'xente', 'case', 'neste', 'maior', 'presidente', 'teñen',\n",
      "    'españa', 'nova', 'eles', 'outras', 'xeral', 'política',\n",
      "    'calquera', 'nós', 'man', 'polas', 'foron', 'ollos', 'lles',\n",
      "    'millóns', 'cidade', 'forma', 'conta', 'mesma', 'nosa', 'dentro',\n",
      "    'moitos', 'sexa', 'aquel', 'historia', 'cousa', 'sei', 'eran',\n",
      "    'grupo', 'todas', 'terra', 'desta', 'feito', 'gran', 'fin', 'fai',\n",
      "    'catro', 'poder', 'tipo', 'santiago', 'mar', 'ante', 'será',\n",
      "    'estes', 'certo', 'don', 'estar', 'ninguén', 'social', 'mulleres',\n",
      "    'aquela', 'auga', 'pasado', 'noso', 'situación', 'canto', 'tras',\n",
      "    'falar', 'baixo', 'estas', 'pai', 'horas', 'xunta', 'grande',\n",
      "    'corpo', 'dar', 'poden', 'cento', 'entón', 'fixo', 'homes',\n",
      "    'partido', 'moitas', 'cabeza', 'mal', 'daquela', 'cultura',\n",
      "    'teño', 'nome', 'porta', 'camiño', 'che', 'claro', 'ía', 'debe',\n",
      "    'obra', 'morte', 'sistema', 'ir', 'unhas', 'grandes', 'tarde',\n",
      "    'número', 'sociedade', 'fronte', 'madrid', 'di', 'mañá',\n",
      "    'realidade', 'podía', 'algúns', 'centro', 'manuel', 'sería',\n",
      "    'nai', 'lei', 'fóra', 'ningún', 'coruña', 'boa', 'importante',\n",
      "    'exemplo', 'diante', 'del', 'te', 'hora', 'galegos', 'fose',\n",
      "    'información', 'voz', 'través', 'mans', 'proceso', 'señor',\n",
      "    'fora', 'saber', 'libro', 'la', 'bo', 'banda', 'cal', 'luz',\n",
      "    'vigo', 'cinco', 'tampouco', 'punto', 'proxecto', 'chegar',\n",
      "    'palabras', 'temos', 'parece', 'san', 'maría', 'aí', 'relación',\n",
      "    'josé', 'sentido', 'propia', 'algún', 'tivo', 'sabe', 'nesta',\n",
      "    'respecto', 'propio', 'pra', 'maneira', 'público', 'paso',\n",
      "    'nacional', 'quere', 'meses', 'van', 'novas', 'guerra', 'acordo',\n",
      "    'tódolos', 'podería', 'posible', 'longo', 'datos', 'pp', 'fondo',\n",
      "    'lingua', 'forza', 'total', 'media', 'familia', 'final',\n",
      "    'vostede', 'empresas', 'problemas', 'ca', 'países', 'problema',\n",
      "    'empresa', 'estou', 'verdade', 'partir', 'diferentes', 'século',\n",
      "    'sector', 'desenvolvemento', 'fillo', 'novos', 'interior', 'lado',\n",
      "    'ningunha', 'estaban', 'semana', 'futuro', 'pasar', 'sendo',\n",
      "    'euros', 'español', 'único', 'persoa', 'comunidade', 'amor',\n",
      "    'vello', 'papel', 'idea', 'dereito', 'cabo', 'últimos', 'medios',\n",
      "    'último', 'algunha', 'real', '1']\n"
     ]
    }
   ],
   "source": [
    "galician_freq.Unidade = galician_freq.Unidade.apply(lambda x: str(x).lower())\n",
    "grouped = galician_freq.groupby('Unidade')['Coincidencias'].sum().reset_index()\n",
    "galician_stopwords = [l for l in grouped.sort_values(by='Coincidencias', ascending=False)[:400]['Unidade']]\n",
    "\n",
    "pp.pprint (galician_stopwords)"
   ]
  },
  {
   "cell_type": "markdown",
   "metadata": {},
   "source": [
    "The contains nouns and adjetives, so I manually edited it and create a personalized stopword list."
   ]
  },
  {
   "cell_type": "code",
   "execution_count": 14,
   "metadata": {},
   "outputs": [],
   "source": [
    "galician_stopwords = ['de', 'que', 'a', 'e', 'o', 'do', 'da', 'non', 'en', 'os', 'un', 'se', 'para', 'unha', 'as',\n",
    "                      'no', 'por', 'é', 'na', 'como', 'dos', 'con', 'máis', 'á', 'das', 'ou', 'súa', 'ó', 'seu', \n",
    "                      'pero', 'xa', 'ao', 'nos', 'polo', 'lle', 'era', 'tamén', 'cando', 'pola', 'todo', 'sen', \n",
    "                      'sobre', 'entre', 'son', 'coa', 'co', 'ser', 'hai', 'foi', 'eu', 'dun', 'aínda', 'moi', \n",
    "                      'nas', 'me', 'está', 'así', 'ben', 'el', 'seus', 'mesmo', 'porque', 'dunha', 'só', 'este',\n",
    "                      'ás', 'ten', 'esta', 'onde', 'nun', 'nin', 'coma', 'si', 'quen', 'ata', 'desde', 'sempre',\n",
    "                      'iso', 'súas', 'parte', 'todos', 'segundo', 'nada', 'pode', 'cada', 'despois', 'ós', 'facer', \n",
    "                      'estaba', 'tan', 'nunha', 'outra', 'algo', 'tanto', 'ela', 'tiña', 'mais', 'contra', 'logo',\n",
    "                      'moito', 'meu', 'cos', 'pois', 'antes', 'pouco', 'outro', 'menos', 'miña', 'vai', 'outros', \n",
    "                      'aos', 'ti', 'cun', 'ver', 'ter', 'nunca', 'dúas', 'lugar', 'ademais', 'aquí', 'mellor', 'dixo', \n",
    "                      'mentres', 'durante', 'toda', 'primeira', 'días', 'alí', 'había', 'esa', 'ese', 'min', 'polos', \n",
    "                      'están', 'uns', 'dicir', 'cunha', 'isto', 'noite', 'coas', 'senón', 'deste', 'veces', 'tal', \n",
    "                      'dende', 'case', 'neste', 'maior', 'teñen', 'eles', 'outras', 'xeral', 'calquera', 'nós', 'polas',\n",
    "                      'foron', 'lles', 'forma', 'conta', 'mesma', 'nosa', 'dentro', 'moitos', 'sexa', 'aquel', 'sei',\n",
    "                      'eran', 'todas', 'desta', 'gran', 'fai', 'ante', 'será', 'estes', 'estar', 'ninguén', 'aquela',\n",
    "                      'noso', 'baixo', 'estas', 'dar', 'poden', 'entón', 'fixo', 'moitas', 'mal', 'cultura', 'teño',\n",
    "                      'che', 'ía', 'debe', 'ir', 'unhas', 'grandes', 'di', 'mañá', 'podía', 'algúns', 'sería', 'fóra',\n",
    "                      'ningún', 'diante', 'del', 'te', 'fose', 'través', 'fora', 'saber', 'la', 'bo', 'cal', 'tampouco',\n",
    "                      'temos', 'algún', 'tivo', 'sabe', 'nesta', 'propio', 'pra', 'quere', 'van', 'tódolos', 'podería',\n",
    "                      'vostede', 'ca', 'estou', 'partir', 'ningunha', 'estaban', 'sendo', 'cabo', 'algunha']\n"
   ]
  },
  {
   "cell_type": "code",
   "execution_count": 15,
   "metadata": {},
   "outputs": [],
   "source": [
    "\n",
    "glhandmade_stopwords_sets = dict(nltk_stopwords_sets)\n",
    "glhandmade_stopwords_sets['galician']={l for l in galician_stopwords}\n",
    "\n"
   ]
  },
  {
   "cell_type": "code",
   "execution_count": 16,
   "metadata": {},
   "outputs": [
    {
     "name": "stdout",
     "output_type": "stream",
     "text": [
      "detect_glhandmade_stopwords     Accuracy: 0.9425       Time: 0.19560027122497559\n"
     ]
    },
    {
     "data": {
      "text/plain": [
       "0.9425"
      ]
     },
     "execution_count": 16,
     "metadata": {},
     "output_type": "execute_result"
    },
    {
     "data": {
      "image/png": "[encoded data removed]",
      "text/plain": [
       "<Figure size 432x288 with 1 Axes>"
      ]
     },
     "metadata": {
      "needs_background": "light"
     },
     "output_type": "display_data"
    }
   ],
   "source": [
    "\n",
    "def detect_glhandmade_stopwords (tokens):\n",
    "    return detect_with_stopwords (glhandmade_stopwords_sets, tokens)\n",
    "\n",
    "\n",
    "compute_accuracy_tokens(titles_sentences, detect_glhandmade_stopwords)"
   ]
  },
  {
   "cell_type": "markdown",
   "metadata": {},
   "source": [
    "## Delete common words from lists\n",
    "\n",
    "What about remove words presents in serveral languages (i.e. 'me','a', 'do', ...)?"
   ]
  },
  {
   "cell_type": "code",
   "execution_count": 17,
   "metadata": {},
   "outputs": [
    {
     "name": "stdout",
     "output_type": "stream",
     "text": [
      "detect_unique_stopwords     Accuracy: 0.9155       Time: 0.17684698104858398\n"
     ]
    },
    {
     "data": {
      "image/png": "[encoded data removed]",
      "text/plain": [
       "<Figure size 432x288 with 1 Axes>"
      ]
     },
     "metadata": {
      "needs_background": "light"
     },
     "output_type": "display_data"
    }
   ],
   "source": [
    "from collections import Counter\n",
    "if (include_pt):\n",
    "    c = Counter()\n",
    "    for sw in ['galician','portuguese']: #nltk_stopwords_sets:\n",
    "        c.update(nltk_stopwords_sets[sw])\n",
    "    duplicated = [w for w in c if c[w]>1]\n",
    "\n",
    "    unique_stopwords_sets = dict(nltk_stopwords_sets)\n",
    "    for sw in  unique_stopwords_sets:\n",
    "        unique_stopwords_sets[sw]=list(set(unique_stopwords_sets[sw])-set(duplicated))\n",
    "\n",
    "\n",
    "    def detect_unique_stopwords (tokens):\n",
    "        return detect_with_stopwords (unique_stopwords_sets, tokens)\n",
    "\n",
    "\n",
    "    compute_accuracy_tokens(titles_sentences, detect_unique_stopwords)\n"
   ]
  },
  {
   "cell_type": "markdown",
   "metadata": {},
   "source": [
    "## stopwords, other implementation\n",
    "\n",
    "https://tech.people-doc.com/how-to-detect-western-language-with-python.html\n",
    "\n",
    "We first create a dictionary of stop words per language. It must be noted that this dictionnary includes languages which are not present in the genesis corpus, such as Norwegian or Danish. This ensures a fair comparison between custom solutions and external libraries (which have no restriction on which languages might be present).\n"
   ]
  },
  {
   "cell_type": "code",
   "execution_count": 18,
   "metadata": {},
   "outputs": [],
   "source": [
    "\n",
    "\n",
    "from nltk.corpus import stopwords\n",
    "from collections import defaultdict\n",
    "import random\n",
    "from collections import defaultdict, Counter\n",
    "\n",
    "languages = nltk_stopwords_sets.keys()\n",
    "\n",
    "\n",
    "inverse_stopwords_dict = defaultdict(list) # list of languages per stopword\n",
    "for l in languages:\n",
    "    for sw in nltk_stopwords_sets[l]:\n",
    "        inverse_stopwords_dict[sw].append(l)     \n",
    "        \n",
    "\n",
    "def predict_language_naive(tokens, verbose=False): \n",
    "    random.seed(0)\n",
    "    cnt = Counter()\n",
    "    cnt.update(language\n",
    "              for word in tokens\n",
    "              for language in inverse_stopwords_dict.get(word, ()))\n",
    "    if not cnt:\n",
    "        return 'unknown'\n",
    "    if verbose:\n",
    "        pp.pprint(cnt)\n",
    "    m = max(cnt.values())\n",
    "    return random.choice([k for k, v in cnt.items() if v == m])\n",
    "    "
   ]
  },
  {
   "cell_type": "code",
   "execution_count": 19,
   "metadata": {},
   "outputs": [
    {
     "name": "stdout",
     "output_type": "stream",
     "text": [
      "Counter({'spanish': 5, 'galician': 4, 'english': 3, 'portuguese': 3})\n"
     ]
    },
    {
     "data": {
      "text/plain": [
       "'spanish'"
      ]
     },
     "execution_count": 19,
     "metadata": {},
     "output_type": "execute_result"
    }
   ],
   "source": [
    "predict_language_naive('o a la playa o al monte'.split(), verbose=True)"
   ]
  },
  {
   "cell_type": "code",
   "execution_count": 20,
   "metadata": {},
   "outputs": [
    {
     "name": "stdout",
     "output_type": "stream",
     "text": [
      "predict_language_naive     Accuracy: 0.9605       Time: 0.22910714149475098\n"
     ]
    },
    {
     "data": {
      "text/plain": [
       "0.9605"
      ]
     },
     "execution_count": 20,
     "metadata": {},
     "output_type": "execute_result"
    },
    {
     "data": {
      "image/png": "[encoded data removed]",
      "text/plain": [
       "<Figure size 432x288 with 1 Axes>"
      ]
     },
     "metadata": {
      "needs_background": "light"
     },
     "output_type": "display_data"
    }
   ],
   "source": [
    "compute_accuracy_tokens(titles_sentences, predict_language_naive)"
   ]
  },
  {
   "cell_type": "code",
   "execution_count": 21,
   "metadata": {},
   "outputs": [
    {
     "name": "stdout",
     "output_type": "stream",
     "text": [
      "                          algorithm     accuracy                 \n",
      "                               ----     ----                     \n",
      "              detect_nltk_stopwords     0.9625                   \n",
      "        detect_glhandmade_stopwords     0.9425                   \n",
      "            detect_unique_stopwords     0.9155                   \n",
      "             predict_language_naive     0.9605                   \n",
      "\n",
      "                          algorithm     time                     \n",
      "                               ----     ----                     \n",
      "              detect_nltk_stopwords     0.21731877326965332      \n",
      "        detect_glhandmade_stopwords     0.19560027122497559      \n",
      "            detect_unique_stopwords     0.17684698104858398      \n",
      "             predict_language_naive     0.22910714149475098      \n"
     ]
    },
    {
     "data": {
      "image/png": "[encoded data removed]",
      "text/plain": [
       "<Figure size 432x288 with 1 Axes>"
      ]
     },
     "metadata": {
      "needs_background": "light"
     },
     "output_type": "display_data"
    },
    {
     "data": {
      "image/png": "[encoded data removed]",
      "text/plain": [
       "<Figure size 432x288 with 1 Axes>"
      ]
     },
     "metadata": {
      "needs_background": "light"
     },
     "output_type": "display_data"
    },
    {
     "data": {
      "image/png": "[encoded data removed]",
      "text/plain": [
       "<Figure size 432x288 with 1 Axes>"
      ]
     },
     "metadata": {
      "needs_background": "light"
     },
     "output_type": "display_data"
    },
    {
     "data": {
      "image/png": "[encoded data removed]",
      "text/plain": [
       "<Figure size 432x288 with 1 Axes>"
      ]
     },
     "metadata": {
      "needs_background": "light"
     },
     "output_type": "display_data"
    }
   ],
   "source": [
    "plot_all_accuracies()\n",
    "plot_all_confusion_matrix()"
   ]
  },
  {
   "cell_type": "markdown",
   "metadata": {},
   "source": [
    "# Creating corpora\n",
    "Para algunos algoritmos necesitaremos algunos corpus de diferentes idiomas, compuestos por listas de palabras a partir de diccionarios, textos, etc. Por una parte usaremos algunos de los corpus presentes en NLTK, la librería más usada para iniciarse en el procesamiento de lenguaje natural con Python. Pero también hemos creado dos corpus en gallego para la ocasión, uno a partir de la lista de palabras más usadas en gallego (de nuevo, usando el corpus de Corga) y otro a partir de la Galipedia, la Wikipedia en gallego.\n",
    "\n",
    "Los corpus de NLTK necesitan algunas transformaciones, puesto que existen terminos completos como 'poner_en_marcha' en el que las palabras vienen separadas originalmente por guiones bajos. Otros corpus tienen palabras en mayúsculas y minúsculas, etc."
   ]
  },
  {
   "cell_type": "markdown",
   "metadata": {},
   "source": [
    "\n",
    "To create a galician corpus, we use the wikipedia. You can create a text version with Wikipedia Extractor. Download code  http://medialab.di.unipi.it/wiki/Wikipedia_Extractor . You can make some tweaks like include (or not) titles, sort articles, etc. The process takes 5 min. aprox.\n",
    "\n",
    "```bash\n",
    "\n",
    "$ git clone https://github.com/attardi/wikiextractor.git\n",
    "$ cd wikiextractor\n",
    "$ wget https://dumps.wikimedia.org/glwiki/latest/glwiki-latest-pages-articles.xml.bz2\n",
    "$ bzip2 -d glwiki-latest-pages-articles.xml.bz2\n",
    "$ ./WikiExtractor.py -o . -s --no-templates --min_text_length 150 --filter_disambig_pages -de gallery,timeline,noinclude  glwiki-latest-pages-articles.xml -it abbr,b,big --json -cb 250K\n",
    "...\n",
    "INFO: 414064\tPedersöre\n",
    "INFO: Finished 3-process extraction of 149036 articles in 295.8s (503.8 art/s)\n",
    "\n",
    "$  find . -name '*bz2' -exec bunzip2 -c {} \\; >galician_wikipedia_text.json\n",
    "$  rm -rf extracted\n",
    "```\n"
   ]
  },
  {
   "cell_type": "code",
   "execution_count": 22,
   "metadata": {},
   "outputs": [
    {
     "name": "stdout",
     "output_type": "stream",
     "text": [
      "[nltk_data] Downloading package words to /home/xurxo/nltk_data...\n",
      "[nltk_data]   Package words is already up-to-date!\n",
      "[nltk_data] Downloading package cess_esp to /home/xurxo/nltk_data...\n",
      "[nltk_data]   Package cess_esp is already up-to-date!\n",
      "[nltk_data] Downloading package floresta to /home/xurxo/nltk_data...\n",
      "[nltk_data]   Package floresta is already up-to-date!\n",
      "[nltk_data] Downloading package brown to /home/xurxo/nltk_data...\n",
      "[nltk_data]   Package brown is already up-to-date!\n",
      "[nltk_data] Downloading package omw to /home/xurxo/nltk_data...\n",
      "[nltk_data]   Package omw is already up-to-date!\n",
      "[nltk_data] Downloading package europarl_raw to\n",
      "[nltk_data]     /home/xurxo/nltk_data...\n",
      "[nltk_data]   Package europarl_raw is already up-to-date!\n"
     ]
    }
   ],
   "source": [
    "import nltk\n",
    "import nltk.corpus.europarl_raw\n",
    "# download corpus\n",
    "nltk.download('words')\n",
    "nltk.download('cess_esp')\n",
    "nltk.download('floresta')\n",
    "nltk.download('brown')\n",
    "nltk.download('omw')\n",
    "nltk.download('europarl_raw')\n",
    "\n",
    "\n",
    "def clean_tokens(tokens):\n",
    "    return [token.lower().replace('_', ' ') for token in tokens if token.isalpha()]\n",
    "\n",
    "def get_corpus (corpus_name, word_list):\n",
    "    try:\n",
    "        vocab = deserialize_from_disk(f'{tmp_dir}/corpus/{corpus_name}.corpus')\n",
    "    except:\n",
    "        vocab = clean_tokens(w for w in word_list())\n",
    "        serialize_to_disk(f'{tmp_dir}/corpus/{corpus_name}.corpus', vocab)\n",
    "    return vocab\n",
    "\n",
    "\n",
    "def create_gl_corga():\n",
    "    print('create_gl_corga')\n",
    "    with open(\"resources/galician_frequency.txt\", \"r\") as file: \n",
    "        return list(l for l in (l.split('\\t')[1] for l in file.readlines()[0:10000]))\n",
    "    \n",
    "def create_gl_wikipedia ():\n",
    "    print('create_gl_wikipedia')\n",
    "    import json\n",
    "\n",
    "    corpus_gl_wikipedia = []\n",
    "    file = open(\"resources/galician_wikipedia_text.json\", \"r\") \n",
    "    for l in file.readlines():\n",
    "\n",
    "        text = json.loads(l)['text']\n",
    "        # remove title\n",
    "        text = text.split('\\n\\n')[1:]\n",
    "        text = ' '.join(text)\n",
    "        tokenized_text = nltk.word_tokenize(text)\n",
    "        corpus_gl_wikipedia.extend(([w for w in tokenized_text ]))\n",
    "    return corpus_gl_wikipedia\n",
    "\n",
    "\n",
    "\n",
    "# english\n",
    "corpus_en_brown = lambda:get_corpus('en_brown',nltk.corpus.brown.words)\n",
    "corpus_en_wordnet = lambda:get_corpus('en_wordnet', lambda:nltk.corpus.wordnet.words(lang='eng'))\n",
    "corpus_en_europarl = lambda:get_corpus('en_europarl',nltk.corpus.europarl_raw.__getattribute__('english').words)\n",
    "\n",
    "#spanish\n",
    "corpus_sp_cess = lambda:get_corpus('sp_cess',nltk.corpus.cess_esp.words() )\n",
    "corpus_sp_wordnet = lambda:get_corpus('sp_wordnet',lambda:nltk.corpus.wordnet.words(lang='spa'))\n",
    "corpus_sp_europarl = lambda:get_corpus('sp_europarl',nltk.corpus.europarl_raw.__getattribute__('spanish').words)\n",
    "\n",
    "# portuguese\n",
    "if(include_pt):\n",
    "    corpus_pt_floresta = lambda:get_corpus('pt_floresta',nltk.corpus.floresta.words )\n",
    "    corpus_pt_wordnet = lambda:get_corpus('pt_wordnet',lambda:nltk.corpus.wordnet.words(lang='por'))\n",
    "    corpus_pt_europarl = lambda:get_corpus('pt_europarl',nltk.corpus.europarl_raw.__getattribute__('portuguese').words)\n",
    "\n",
    "# galician\n",
    "corpus_gl_wordnet = lambda:get_corpus('gl_wordnet',lambda:nltk.corpus.wordnet.words(lang='glg'))\n",
    "corpus_gl_corga = lambda:get_corpus('gl_corga', create_gl_corga)\n",
    "corpus_gl_wikipedia = lambda: get_corpus('gl_wikipedia', create_gl_wikipedia)\n",
    "    \n",
    "    \n",
    "    \n",
    "\n",
    "    "
   ]
  },
  {
   "cell_type": "code",
   "execution_count": 33,
   "metadata": {},
   "outputs": [],
   "source": [
    "\n",
    "all_corpus = { 'english':\n",
    "              {\n",
    "                  'en_brown': corpus_en_brown,\n",
    "                  'en_wordnet': corpus_en_wordnet,                               \n",
    "                  'en_europarl': corpus_en_europarl,\n",
    "              },\n",
    "              'spanish':\n",
    "              {\n",
    "                  'sp_cess': corpus_sp_cess, \n",
    "                  'sp_wordnet': corpus_sp_wordnet,\n",
    "                  'sp_europarl': corpus_sp_europarl,\n",
    "              },\n",
    "              'galician': \n",
    "              {\n",
    "                  'gl_corga':  corpus_gl_corga, \n",
    "                  'gl_wordnetl':corpus_gl_wordnet,\n",
    "                  'gl_wikipedia': corpus_gl_wikipedia,\n",
    "              },\n",
    "             }\n",
    "        \n",
    "        \n",
    "if include_pt:\n",
    "              all_corpus['portuguese'] =   {\n",
    "                  'pt_floresta': corpus_pt_floresta, \n",
    "                  'pt_wordnet': corpus_pt_wordnet,\n",
    "                  'pt_europarl': corpus_pt_wordnet,\n",
    "              }"
   ]
  },
  {
   "cell_type": "code",
   "execution_count": 34,
   "metadata": {},
   "outputs": [
    {
     "name": "stdout",
     "output_type": "stream",
     "text": [
      "('deserializing from '\n",
      " '/media/xurxo/Sistema/tmp/python/vocabularies/en_brown.vocab')\n",
      "('deserializing from '\n",
      " '/media/xurxo/Sistema/tmp/python/vocabularies/en_wordnet.vocab')\n",
      "('deserializing from '\n",
      " '/media/xurxo/Sistema/tmp/python/vocabularies/en_europarl.vocab')\n",
      "('deserializing from '\n",
      " '/media/xurxo/Sistema/tmp/python/vocabularies/sp_cess.vocab')\n",
      "('deserializing from '\n",
      " '/media/xurxo/Sistema/tmp/python/vocabularies/sp_wordnet.vocab')\n",
      "('deserializing from '\n",
      " '/media/xurxo/Sistema/tmp/python/vocabularies/sp_europarl.vocab')\n",
      "('deserializing from '\n",
      " '/media/xurxo/Sistema/tmp/python/vocabularies/gl_corga.vocab')\n",
      "('deserializing from '\n",
      " '/media/xurxo/Sistema/tmp/python/vocabularies/gl_wordnetl.vocab')\n",
      "('deserializing from '\n",
      " '/media/xurxo/Sistema/tmp/python/vocabularies/gl_wikipedia.vocab')\n",
      "('deserializing from '\n",
      " '/media/xurxo/Sistema/tmp/python/vocabularies/pt_floresta.vocab')\n",
      "('deserializing from '\n",
      " '/media/xurxo/Sistema/tmp/python/vocabularies/pt_wordnet.vocab')\n",
      "('deserializing from '\n",
      " '/media/xurxo/Sistema/tmp/python/vocabularies/pt_europarl.vocab')\n"
     ]
    }
   ],
   "source": [
    "def get_vocabulary (corpus_name, word_list):\n",
    "    try:\n",
    "        vocab = deserialize_from_disk(f'{tmp_dir}/vocabularies/{corpus_name}.vocab')\n",
    "    except:\n",
    "        vocab = set(w for w in word_list())\n",
    "        serialize_to_disk(f'{tmp_dir}/vocabularies/{corpus_name}.vocab', vocab)\n",
    "    return vocab\n",
    "\n",
    "\n",
    "all_vocab= {}\n",
    "for lang, corpus_dict in all_corpus.items():\n",
    "    all_vocab[lang] = {}\n",
    "    for corpus_name, corpus in corpus_dict.items():\n",
    "        all_vocab[lang][corpus_name] =  get_vocabulary(corpus_name, corpus)  "
   ]
  },
  {
   "cell_type": "markdown",
   "metadata": {},
   "source": [
    "# NLTK: comparing words of text with words of corpus \n",
    "\n",
    "\n",
    "The idea is similar to previous part: compare the words in the sentence with a list of words. But in ths case I use a big list of words. Again,for Galician, I use CORGA corpus again\n",
    "\n",
    "\n",
    "For Spanish I used CESS corpora, present in NLTK library, and for Portuguese we use Floresta corups, in NLTK too. I choose it because it have pt_BR and pt_PT sentences. The alternavie, use Mac_morpho corpus, with pt_BR sentences.\n",
    "\n",
    "The algorithm is sensible to dictionary. For example, first I tried nltk.corpus.words corpus to try detect English sentences. But, as you can see in https://stackoverflow.com/questions/34756738/missing-words-in-nltk-vocabulary-python\n",
    "this corpus is big (234377 words), but old (1932): it don't include words like _software_ _monitoring_ _server_ or _recommendations_. So, using this corpus, the algorith returns:\n",
    "\n",
    "```python\n",
    ">>> detect_vocab(['recommendations', 'on', 'server', 'monitoring', 'software'])\n",
    "galician\n",
    "```\n",
    "\n",
    "I try others wordlists, including Brow, Floresta, CESS and WordNet corpora, all present in NLTK. For Galician, again, I use the CORGA corpus, processing it because the original is case sensitive. \n",
    "\n",
    "I tried all the combinations of wordlists:\n",
    "English: brown, wordnet\n",
    "Portuguese: floresta, wordnet\n",
    "Spanish: cess, wordnet\n",
    "Galician: wordnet, Corga corpus \n"
   ]
  },
  {
   "cell_type": "code",
   "execution_count": 35,
   "metadata": {},
   "outputs": [],
   "source": [
    "\n",
    "def detect_vocab (tokens, verbose=False, plot_confusion=True):\n",
    "    ratios={}\n",
    "    text_vocab = set(w for w in tokens if w.isalpha())\n",
    "    if verbose: pp.pprint(('vocab: ', text_vocab))\n",
    "    for v in vocabs:\n",
    "        if verbose: pp.pprint((v, text_vocab.difference(vocabs[v])))\n",
    "        ratios[v] = len(text_vocab.difference(vocabs[v]) )\n",
    "    m = min(ratios.values())\n",
    "    l = [k for k, v in ratios.items() if v == m]\n",
    "    # if (len(l)>1): print(tokens,ratios)\n",
    "    return random.choice([k for k, v in ratios.items() if v == m])\n",
    "\n",
    "    \n"
   ]
  },
  {
   "cell_type": "code",
   "execution_count": 36,
   "metadata": {},
   "outputs": [
    {
     "name": "stdout",
     "output_type": "stream",
     "text": [
      "detect_vocab     Accuracy: 0.986       Time: 0.24593710899353027\n",
      "detect_vocab     Accuracy: 0.93       Time: 0.22719526290893555\n",
      "detect_vocab     Accuracy: 0.929       Time: 0.23113083839416504\n",
      "detect_vocab     Accuracy: 0.745       Time: 0.22948718070983887\n",
      "detect_vocab     Accuracy: 0.7365       Time: 0.23101377487182617\n",
      "detect_vocab     Accuracy: 0.7405       Time: 0.2269911766052246\n",
      "detect_vocab     Accuracy: 0.3535       Time: 0.29981398582458496\n",
      "detect_vocab     Accuracy: 0.318       Time: 0.2622511386871338\n",
      "detect_vocab     Accuracy: 0.314       Time: 0.28250551223754883\n",
      "detect_vocab     Accuracy: 0.7545       Time: 0.27976369857788086\n",
      "detect_vocab     Accuracy: 0.6955       Time: 0.2709817886352539\n",
      "detect_vocab     Accuracy: 0.697       Time: 0.24793457984924316\n",
      "detect_vocab     Accuracy: 0.689       Time: 0.2285473346710205\n",
      "detect_vocab     Accuracy: 0.769       Time: 0.22694087028503418\n",
      "detect_vocab     Accuracy: 0.7765       Time: 0.2476949691772461\n",
      "detect_vocab     Accuracy: 0.3555       Time: 0.2572898864746094\n",
      "detect_vocab     Accuracy: 0.3115       Time: 0.24251198768615723\n",
      "detect_vocab     Accuracy: 0.317       Time: 0.25177001953125\n",
      "detect_vocab     Accuracy: 0.986       Time: 0.2258753776550293\n",
      "detect_vocab     Accuracy: 0.9285       Time: 0.2275831699371338\n",
      "detect_vocab     Accuracy: 0.929       Time: 0.22913384437561035\n",
      "detect_vocab     Accuracy: 0.745       Time: 0.23728299140930176\n",
      "detect_vocab     Accuracy: 0.7305       Time: 0.22948861122131348\n",
      "detect_vocab     Accuracy: 0.728       Time: 0.22708392143249512\n",
      "detect_vocab     Accuracy: 0.354       Time: 0.2563028335571289\n",
      "detect_vocab     Accuracy: 0.315       Time: 0.24666380882263184\n",
      "detect_vocab     Accuracy: 0.3155       Time: 0.2496170997619629\n",
      "detect_vocab     Accuracy: 0.986       Time: 0.22676944732666016\n",
      "detect_vocab     Accuracy: 0.929       Time: 0.2357640266418457\n",
      "detect_vocab     Accuracy: 0.929       Time: 0.2309267520904541\n",
      "detect_vocab     Accuracy: 0.747       Time: 0.22966551780700684\n",
      "detect_vocab     Accuracy: 0.7425       Time: 0.22949934005737305\n",
      "detect_vocab     Accuracy: 0.74       Time: 0.2278146743774414\n",
      "detect_vocab     Accuracy: 0.2885       Time: 0.2573974132537842\n",
      "detect_vocab     Accuracy: 0.253       Time: 0.2637336254119873\n",
      "detect_vocab     Accuracy: 0.253       Time: 0.25539588928222656\n",
      "detect_vocab     Accuracy: 0.758       Time: 0.23366498947143555\n",
      "detect_vocab     Accuracy: 0.7005       Time: 0.22694134712219238\n",
      "detect_vocab     Accuracy: 0.701       Time: 0.2304401397705078\n",
      "detect_vocab     Accuracy: 0.6945       Time: 0.22953128814697266\n",
      "detect_vocab     Accuracy: 0.781       Time: 0.24021387100219727\n",
      "detect_vocab     Accuracy: 0.7775       Time: 0.2391500473022461\n",
      "detect_vocab     Accuracy: 0.289       Time: 0.2677175998687744\n",
      "detect_vocab     Accuracy: 0.2515       Time: 0.2518651485443115\n",
      "detect_vocab     Accuracy: 0.2505       Time: 0.2581613063812256\n",
      "detect_vocab     Accuracy: 0.9865       Time: 0.23323440551757812\n",
      "detect_vocab     Accuracy: 0.929       Time: 0.2287297248840332\n",
      "detect_vocab     Accuracy: 0.925       Time: 0.23118925094604492\n",
      "detect_vocab     Accuracy: 0.7445       Time: 0.23056650161743164\n",
      "detect_vocab     Accuracy: 0.7295       Time: 0.23050618171691895\n",
      "detect_vocab     Accuracy: 0.731       Time: 0.23248529434204102\n",
      "detect_vocab     Accuracy: 0.2865       Time: 0.2621614933013916\n",
      "detect_vocab     Accuracy: 0.252       Time: 0.25786876678466797\n",
      "detect_vocab     Accuracy: 0.2515       Time: 0.26071810722351074\n",
      "detect_vocab     Accuracy: 0.986       Time: 0.2176966667175293\n",
      "detect_vocab     Accuracy: 0.9285       Time: 0.2264540195465088\n",
      "detect_vocab     Accuracy: 0.931       Time: 0.21959996223449707\n",
      "detect_vocab     Accuracy: 0.7455       Time: 0.2202441692352295\n",
      "detect_vocab     Accuracy: 0.74       Time: 0.22043943405151367\n",
      "detect_vocab     Accuracy: 0.741       Time: 0.22211670875549316\n",
      "detect_vocab     Accuracy: 0.296       Time: 0.2423419952392578\n",
      "detect_vocab     Accuracy: 0.2585       Time: 0.25076985359191895\n",
      "detect_vocab     Accuracy: 0.2565       Time: 0.23993444442749023\n",
      "detect_vocab     Accuracy: 0.757       Time: 0.2170701026916504\n",
      "detect_vocab     Accuracy: 0.6985       Time: 0.22140789031982422\n",
      "detect_vocab     Accuracy: 0.699       Time: 0.21852684020996094\n",
      "detect_vocab     Accuracy: 0.694       Time: 0.2198009490966797\n",
      "detect_vocab     Accuracy: 0.785       Time: 0.22411537170410156\n",
      "detect_vocab     Accuracy: 0.7855       Time: 0.22065377235412598\n",
      "detect_vocab     Accuracy: 0.2945       Time: 0.2400209903717041\n",
      "detect_vocab     Accuracy: 0.258       Time: 0.2386317253112793\n",
      "detect_vocab     Accuracy: 0.256       Time: 0.24215292930603027\n",
      "detect_vocab     Accuracy: 0.9855       Time: 0.22002029418945312\n",
      "detect_vocab     Accuracy: 0.927       Time: 0.2220001220703125\n",
      "detect_vocab     Accuracy: 0.928       Time: 0.22121620178222656\n",
      "detect_vocab     Accuracy: 0.7455       Time: 0.220686674118042\n",
      "detect_vocab     Accuracy: 0.735       Time: 0.22210693359375\n",
      "detect_vocab     Accuracy: 0.732       Time: 0.22215723991394043\n",
      "detect_vocab     Accuracy: 0.2985       Time: 0.24295616149902344\n",
      "detect_vocab     Accuracy: 0.256       Time: 0.24285078048706055\n",
      "detect_vocab     Accuracy: 0.257       Time: 0.24374651908874512\n"
     ]
    },
    {
     "data": {
      "text/plain": [
       "[('en_wordnet/sp_wordnet/gl_wikipedia/pt_europarl', 0.2505),\n",
       " ('en_wordnet/sp_wordnet/gl_wikipedia/pt_wordnet', 0.2515),\n",
       " ('en_wordnet/sp_europarl/gl_wikipedia/pt_europarl', 0.2515),\n",
       " ('en_wordnet/sp_europarl/gl_wikipedia/pt_wordnet', 0.252),\n",
       " ('en_wordnet/sp_cess/gl_wikipedia/pt_wordnet', 0.253),\n",
       " ('en_wordnet/sp_cess/gl_wikipedia/pt_europarl', 0.253),\n",
       " ('en_europarl/sp_wordnet/gl_wikipedia/pt_europarl', 0.256),\n",
       " ('en_europarl/sp_europarl/gl_wikipedia/pt_wordnet', 0.256),\n",
       " ('en_europarl/sp_cess/gl_wikipedia/pt_europarl', 0.2565),\n",
       " ('en_europarl/sp_europarl/gl_wikipedia/pt_europarl', 0.257),\n",
       " ('en_europarl/sp_wordnet/gl_wikipedia/pt_wordnet', 0.258),\n",
       " ('en_europarl/sp_cess/gl_wikipedia/pt_wordnet', 0.2585),\n",
       " ('en_wordnet/sp_europarl/gl_wikipedia/pt_floresta', 0.2865),\n",
       " ('en_wordnet/sp_cess/gl_wikipedia/pt_floresta', 0.2885),\n",
       " ('en_wordnet/sp_wordnet/gl_wikipedia/pt_floresta', 0.289),\n",
       " ('en_europarl/sp_wordnet/gl_wikipedia/pt_floresta', 0.2945),\n",
       " ('en_europarl/sp_cess/gl_wikipedia/pt_floresta', 0.296),\n",
       " ('en_europarl/sp_europarl/gl_wikipedia/pt_floresta', 0.2985),\n",
       " ('en_brown/sp_wordnet/gl_wikipedia/pt_wordnet', 0.3115),\n",
       " ('en_brown/sp_cess/gl_wikipedia/pt_europarl', 0.314),\n",
       " ('en_brown/sp_europarl/gl_wikipedia/pt_wordnet', 0.315),\n",
       " ('en_brown/sp_europarl/gl_wikipedia/pt_europarl', 0.3155),\n",
       " ('en_brown/sp_wordnet/gl_wikipedia/pt_europarl', 0.317),\n",
       " ('en_brown/sp_cess/gl_wikipedia/pt_wordnet', 0.318),\n",
       " ('en_brown/sp_cess/gl_wikipedia/pt_floresta', 0.3535),\n",
       " ('en_brown/sp_europarl/gl_wikipedia/pt_floresta', 0.354),\n",
       " ('en_brown/sp_wordnet/gl_wikipedia/pt_floresta', 0.3555),\n",
       " ('en_brown/sp_wordnet/gl_wordnetl/pt_floresta', 0.689),\n",
       " ('en_europarl/sp_wordnet/gl_wordnetl/pt_floresta', 0.694),\n",
       " ('en_wordnet/sp_wordnet/gl_wordnetl/pt_floresta', 0.6945),\n",
       " ('en_brown/sp_wordnet/gl_corga/pt_wordnet', 0.6955),\n",
       " ('en_brown/sp_wordnet/gl_corga/pt_europarl', 0.697),\n",
       " ('en_europarl/sp_wordnet/gl_corga/pt_wordnet', 0.6985),\n",
       " ('en_europarl/sp_wordnet/gl_corga/pt_europarl', 0.699),\n",
       " ('en_wordnet/sp_wordnet/gl_corga/pt_wordnet', 0.7005),\n",
       " ('en_wordnet/sp_wordnet/gl_corga/pt_europarl', 0.701),\n",
       " ('en_brown/sp_europarl/gl_wordnetl/pt_europarl', 0.728),\n",
       " ('en_wordnet/sp_europarl/gl_wordnetl/pt_wordnet', 0.7295),\n",
       " ('en_brown/sp_europarl/gl_wordnetl/pt_wordnet', 0.7305),\n",
       " ('en_wordnet/sp_europarl/gl_wordnetl/pt_europarl', 0.731),\n",
       " ('en_europarl/sp_europarl/gl_wordnetl/pt_europarl', 0.732),\n",
       " ('en_europarl/sp_europarl/gl_wordnetl/pt_wordnet', 0.735),\n",
       " ('en_brown/sp_cess/gl_wordnetl/pt_wordnet', 0.7365),\n",
       " ('en_wordnet/sp_cess/gl_wordnetl/pt_europarl', 0.74),\n",
       " ('en_europarl/sp_cess/gl_wordnetl/pt_wordnet', 0.74),\n",
       " ('en_brown/sp_cess/gl_wordnetl/pt_europarl', 0.7405),\n",
       " ('en_europarl/sp_cess/gl_wordnetl/pt_europarl', 0.741),\n",
       " ('en_wordnet/sp_cess/gl_wordnetl/pt_wordnet', 0.7425),\n",
       " ('en_wordnet/sp_europarl/gl_wordnetl/pt_floresta', 0.7445),\n",
       " ('en_brown/sp_cess/gl_wordnetl/pt_floresta', 0.745),\n",
       " ('en_brown/sp_europarl/gl_wordnetl/pt_floresta', 0.745),\n",
       " ('en_europarl/sp_cess/gl_wordnetl/pt_floresta', 0.7455),\n",
       " ('en_europarl/sp_europarl/gl_wordnetl/pt_floresta', 0.7455),\n",
       " ('en_wordnet/sp_cess/gl_wordnetl/pt_floresta', 0.747),\n",
       " ('en_brown/sp_wordnet/gl_corga/pt_floresta', 0.7545),\n",
       " ('en_europarl/sp_wordnet/gl_corga/pt_floresta', 0.757),\n",
       " ('en_wordnet/sp_wordnet/gl_corga/pt_floresta', 0.758),\n",
       " ('en_brown/sp_wordnet/gl_wordnetl/pt_wordnet', 0.769),\n",
       " ('en_brown/sp_wordnet/gl_wordnetl/pt_europarl', 0.7765),\n",
       " ('en_wordnet/sp_wordnet/gl_wordnetl/pt_europarl', 0.7775),\n",
       " ('en_wordnet/sp_wordnet/gl_wordnetl/pt_wordnet', 0.781),\n",
       " ('en_europarl/sp_wordnet/gl_wordnetl/pt_wordnet', 0.785),\n",
       " ('en_europarl/sp_wordnet/gl_wordnetl/pt_europarl', 0.7855),\n",
       " ('en_wordnet/sp_europarl/gl_corga/pt_europarl', 0.925),\n",
       " ('en_europarl/sp_europarl/gl_corga/pt_wordnet', 0.927),\n",
       " ('en_europarl/sp_europarl/gl_corga/pt_europarl', 0.928),\n",
       " ('en_brown/sp_europarl/gl_corga/pt_wordnet', 0.9285),\n",
       " ('en_europarl/sp_cess/gl_corga/pt_wordnet', 0.9285),\n",
       " ('en_brown/sp_cess/gl_corga/pt_europarl', 0.929),\n",
       " ('en_brown/sp_europarl/gl_corga/pt_europarl', 0.929),\n",
       " ('en_wordnet/sp_cess/gl_corga/pt_wordnet', 0.929),\n",
       " ('en_wordnet/sp_cess/gl_corga/pt_europarl', 0.929),\n",
       " ('en_wordnet/sp_europarl/gl_corga/pt_wordnet', 0.929),\n",
       " ('en_brown/sp_cess/gl_corga/pt_wordnet', 0.93),\n",
       " ('en_europarl/sp_cess/gl_corga/pt_europarl', 0.931),\n",
       " ('en_europarl/sp_europarl/gl_corga/pt_floresta', 0.9855),\n",
       " ('en_brown/sp_cess/gl_corga/pt_floresta', 0.986),\n",
       " ('en_brown/sp_europarl/gl_corga/pt_floresta', 0.986),\n",
       " ('en_wordnet/sp_cess/gl_corga/pt_floresta', 0.986),\n",
       " ('en_europarl/sp_cess/gl_corga/pt_floresta', 0.986),\n",
       " ('en_wordnet/sp_europarl/gl_corga/pt_floresta', 0.9865)]"
      ]
     },
     "execution_count": 36,
     "metadata": {},
     "output_type": "execute_result"
    }
   ],
   "source": [
    "from operator import itemgetter\n",
    "import random\n",
    "from itertools import product\n",
    "\n",
    "results = {}\n",
    "best_combo = []\n",
    "best_vocab_accuracy = 0\n",
    "\n",
    "combinations =  [[[lang, corpus_name, corpus] for corpus_name, corpus in corpora.items()] for lang, corpora in all_vocab.items()]\n",
    "for combo in product(*combinations):\n",
    "    vocabs = {c[0]:c[2] for c in combo}\n",
    "    \n",
    "    combo_name = '/'.join([c[1] for c in combo])\n",
    "    accuracy = compute_accuracy_tokens(titles_sentences, detect_vocab, plot_confusion=False) \n",
    "    results[combo_name]  = accuracy\n",
    "    if (accuracy > best_vocab_accuracy):\n",
    "        best_vocab_accuracy = accuracy\n",
    "        best_combo = vocabs\n",
    "                          \n",
    "            \n",
    "                \n",
    "\n",
    "sorted(results.items(), key=itemgetter(1))\n"
   ]
  },
  {
   "cell_type": "markdown",
   "metadata": {},
   "source": [
    "The combination brown/cess/wordnet_gl corpora combination seems the most promising. Choose wordnet_pt, europarl_pt or floresta doesn't make the difference. There are a lot of difference between worst and best case: gl_wikipedia corpus contais a lot of non-Galician words, so it cause a lot of mistakes."
   ]
  },
  {
   "cell_type": "code",
   "execution_count": 37,
   "metadata": {},
   "outputs": [
    {
     "name": "stdout",
     "output_type": "stream",
     "text": [
      "detect_vocab     Accuracy: 0.986       Time: 0.2623915672302246\n"
     ]
    },
    {
     "data": {
      "text/plain": [
       "0.986"
      ]
     },
     "execution_count": 37,
     "metadata": {},
     "output_type": "execute_result"
    },
    {
     "data": {
      "image/png": "[encoded data removed]",
      "text/plain": [
       "<Figure size 432x288 with 1 Axes>"
      ]
     },
     "metadata": {
      "needs_background": "light"
     },
     "output_type": "display_data"
    }
   ],
   "source": [
    "\n",
    "vocabs =  best_combo\n",
    "\n",
    "compute_accuracy_tokens(titles_sentences, detect_vocab)"
   ]
  },
  {
   "cell_type": "markdown",
   "metadata": {},
   "source": [
    "# NLTK bigram+unigram taggers\n",
    "\n",
    "Essentially, I tag each word in the sentence with several taggers, one per language. 'Tag' a sentence means assign  parts of speech to each word: verb, noun, etc. If you tray tag an English sentence with a Spanish tagger, you will obtain a lot of words untagged. So, the result with more tagged word indicate the more  language. \n",
    "\n",
    "\n",
    "Alternative 1: Use NLTK taggers. They need some training data, a previously list of tagged sentences.\n",
    "\n",
    "The NLTKL library doesn't provide a tagged Galician corpus, either The Linguistic Data Consortium  (https://catalog.ldc.upenn.edu/search). Again, the Centro Ramón Piñeiro provides a tagger for Galician.   Reference: Etiquetador/Lematizador do Galego Actual (XIADA) [2.6] - http://corpus.cirp.es/xiada\n",
    "\n",
    "I used an adapted version of the oriented object tagger by alvations (https://github.com/alvations/spaghetti-tagger/blob/master/spaghetti.py )\n",
    "\n",
    "Alternative:\n",
    "http://www.cis.uni-muenchen.de/~schmid/tools/TreeTagger/ , via the Wraper  https://perso.limsi.fr/pointal/doku.php?id=dev:treetaggerwrapper \n",
    "\n",
    "\n"
   ]
  },
  {
   "cell_type": "code",
   "execution_count": 38,
   "metadata": {},
   "outputs": [],
   "source": [
    "from nltk import UnigramTagger, BigramTagger\n",
    "from nltk.corpus import cess_esp as cess_corpus\n",
    "from nltk.corpus import brown as brown_corpus\n",
    "from nltk.corpus import floresta as floresta_corpus\n",
    "\n",
    "\n",
    "def train_tagger(corpus_name, corpus, ):\n",
    "    \"\"\" Function to train tagger. \"\"\"\n",
    "    # Training UnigramTagger.\n",
    "    uni_tag = UnigramTagger(corpus)\n",
    "    # Training BigramTagger.\n",
    "    bi_tag = BigramTagger(corpus, backoff=uni_tag)\n",
    "    \n",
    "    \n",
    "    return uni_tag, bi_tag\n",
    "\n",
    "def unchunk(corpus): \n",
    "    \"\"\" Function to unchunk corpus. \"\"\"\n",
    "    nomwe_corpus = []\n",
    "    for i in corpus:\n",
    "        nomwe = \" \".join([j[0].replace(\"_\",\" \") for j in i])\n",
    "        nomwe_corpus.append(nomwe.split())\n",
    "    return nomwe_corpus\n",
    "\n",
    "\n",
    "class XiadaCorpus ():\n",
    "    def __init__(self, corpus):\n",
    "        self._corpus = corpus\n",
    "    def tagged_sents(self):\n",
    "        return self._corpus\n",
    "    \n",
    "def get_xiada_corpus ():\n",
    "    xiada  = []\n",
    "    sentence = []\n",
    "    num_line = 0\n",
    "    with open('resources/xiada_corpus/corpus_completo_etiquetado.txt', 'r') as file:\n",
    "        for line in file.readlines():\n",
    "            num_line += 1\n",
    "            try:\n",
    "                if ('\\t' not in line) and sentence:\n",
    "                    xiada.append(sentence)\n",
    "                    sentence = []\n",
    "                else:\n",
    "                    word, tag, _ = line.split ('\\t');\n",
    "                    sentence.append((word, tag))\n",
    "            except:\n",
    "                print ('error at: ' , num_line, line)\n",
    "                raise\n",
    "    return XiadaCorpus(xiada)\n",
    "         "
   ]
  },
  {
   "cell_type": "code",
   "execution_count": 39,
   "metadata": {},
   "outputs": [],
   "source": [
    "import os \n",
    "\n",
    "class BaseTagger():\n",
    "    def __init__(self, filename_prefix, corpus):\n",
    "        unigra_tagger_fname = f'{tmp_dir}/taggers/{filename_prefix}_unigram.tagger'\n",
    "        bigram_tagger_fname = f'{tmp_dir}/taggers/{filename_prefix}_bigram.tagger'\n",
    "        if not os.path.isfile(unigra_tagger_fname):\n",
    "            # Train tagger if it's used for the first time.\n",
    "            print (f\"*** First-time use of {filename_prefix} tagger ***\", file=sys.stderr)\n",
    "            print (\"Training tagger ...\", file=sys.stderr)\n",
    "            # Load corpus.\n",
    "            corpus = corpus.tagged_sents()\n",
    "            # corpus = unchunk(corpus.tagged_sents())\n",
    "            # corpus = pos_tag_sents(corpus, False)\n",
    "            slef_uni, self.bi = train_tagger (filename_prefix, corpus)\n",
    "            serialize_to_disk (unigram_tagger_fname, slef_uni)\n",
    "            serialize_to_disk(bigram_tagger_fname, self.bi)\n",
    "        else:\n",
    "            # Load tagger.\n",
    "            self.uni = deserialize_from_disk (unigra_tagger_fname)\n",
    "            self.bi = deserialize_from_disk (bigram_tagger_fname)\n",
    "        \n",
    "        \n",
    "class FlorestaTagger(BaseTagger):\n",
    "    def __init__(self):\n",
    "        super().__init__('floresta', floresta_corpus)\n",
    "\n",
    "class CESSTagger(BaseTagger):\n",
    "    def __init__(self):\n",
    "        super().__init__('cess', cess_corpus)\n",
    "        \n",
    "class BrownTagger(BaseTagger):\n",
    "    def __init__(self):\n",
    "        super().__init__('brown', brown_corpus)\n",
    "\n",
    "class XiadaTagger(BaseTagger):\n",
    "    def __init__(self):\n",
    "        super().__init__('xiada', get_xiada_corpus())"
   ]
  },
  {
   "cell_type": "code",
   "execution_count": 40,
   "metadata": {},
   "outputs": [
    {
     "name": "stdout",
     "output_type": "stream",
     "text": [
      "('deserializing from '\n",
      " '/media/xurxo/Sistema/tmp/python/taggers/xiada_unigram.tagger')\n",
      "('deserializing from '\n",
      " '/media/xurxo/Sistema/tmp/python/taggers/xiada_bigram.tagger')\n",
      "[('os', 'Ddmp'), ('activistas', 'Scap'), ('explicaron', 'Vei30p'), ('aos', None), ('presentes', 'A0mp'), ('que', 'Cs'), ('a', 'Ddfs'), ('reapertura', 'Scfs'), ('da', 'Vpi30s'), ('explotación', 'Scfs'), ('en', 'P'), ('touro', 'Scms'), ('“', None), ('non', 'Wn'), ('ten', 'Vpi30s'), ('viablidade', None), ('”', None), ('.', 'Q.'), ('e', 'Cc'), ('avisaron', 'Vei30p'), ('da', 'Vpi30s'), ('“', None), ('forte', 'A0ms'), ('oposición', 'Scfs'), ('”', None), ('veciñal', None), ('á', None), ('mesma', 'Idfs'), (',', 'Q,'), ('que', 'Cs'), ('soborda', None), ('a', 'Ddfs'), ('bisbarra', 'Scfs'), ('e', 'Cc'), ('esténdese', None), ('ulla', None), ('abaixo', 'Wn'), ('.', 'Q.'), ('de', 'P'), ('feito', 'Scms'), (',', 'Q,'), ('as', 'Ddfp'), ('comarcas', 'Scfp'), ('da', 'Vpi30s'), ('arousa', None), ('atópanse', None), ('entre', 'P'), ('as', 'Ddfp'), ('prinicipais', None), ('zonas', 'Scfp'), ('contrarias', None), ('á', None), ('mina', 'Scfs'), ('.', 'Q.')]\n"
     ]
    }
   ],
   "source": [
    "print ( XiadaTagger().uni.tag(gl_tokens) )"
   ]
  },
  {
   "cell_type": "code",
   "execution_count": 85,
   "metadata": {},
   "outputs": [
    {
     "name": "stdout",
     "output_type": "stream",
     "text": [
      "('deserializing from '\n",
      " '/media/xurxo/Sistema/tmp/python/taggers/brown_unigram.tagger')\n",
      "('deserializing from '\n",
      " '/media/xurxo/Sistema/tmp/python/taggers/brown_bigram.tagger')\n",
      "('deserializing from '\n",
      " '/media/xurxo/Sistema/tmp/python/taggers/cess_unigram.tagger')\n",
      "('deserializing from '\n",
      " '/media/xurxo/Sistema/tmp/python/taggers/cess_bigram.tagger')\n",
      "('deserializing from '\n",
      " '/media/xurxo/Sistema/tmp/python/taggers/xiada_unigram.tagger')\n",
      "('deserializing from '\n",
      " '/media/xurxo/Sistema/tmp/python/taggers/xiada_bigram.tagger')\n",
      "('deserializing from '\n",
      " '/media/xurxo/Sistema/tmp/python/taggers/floresta_unigram.tagger')\n",
      "('deserializing from '\n",
      " '/media/xurxo/Sistema/tmp/python/taggers/floresta_bigram.tagger')\n"
     ]
    }
   ],
   "source": [
    "taggers = {'english' : BrownTagger(),\n",
    "           'spanish' : CESSTagger(),\n",
    "           'galician' : XiadaTagger(),}\n",
    "\n",
    "if (include_pt):\n",
    "    taggers['portuguese'] =  FlorestaTagger()\n",
    "\n",
    "def detect_nltk_tagger (tokens):\n",
    "\n",
    "    \n",
    "    result = {}\n",
    "    for k, tagger in taggers.items():\n",
    "        tagged_words = list(n for n in tagger.uni.tag(tokens) if n[1])\n",
    "        result[k]=  len(tagged_words)\n",
    "                     \n",
    "    most_rated_language = max(result.values())\n",
    "    \n",
    "    return random.choice([k for k, v in result.items() if v == most_rated_language])\n",
    "\n",
    "\n",
    "    return most_rated_language\n"
   ]
  },
  {
   "cell_type": "code",
   "execution_count": 42,
   "metadata": {},
   "outputs": [
    {
     "ename": "AttributeError",
     "evalue": "'tuple' object has no attribute 'uni'",
     "output_type": "error",
     "traceback": [
      "\u001b[0;31m---------------------------------------------------------------------------\u001b[0m",
      "\u001b[0;31mAttributeError\u001b[0m                            Traceback (most recent call last)",
      "\u001b[0;32m<ipython-input-42-8e2c351d0d70>\u001b[0m in \u001b[0;36m<module>\u001b[0;34m()\u001b[0m\n\u001b[0;32m----> 1\u001b[0;31m \u001b[0mprint\u001b[0m\u001b[0;34m(\u001b[0m\u001b[0mdetect_nltk_tagger\u001b[0m\u001b[0;34m(\u001b[0m\u001b[0men_tokens\u001b[0m\u001b[0;34m)\u001b[0m\u001b[0;34m)\u001b[0m\u001b[0;34m\u001b[0m\u001b[0m\n\u001b[0m\u001b[1;32m      2\u001b[0m \u001b[0mprint\u001b[0m\u001b[0;34m(\u001b[0m\u001b[0mdetect_nltk_tagger\u001b[0m\u001b[0;34m(\u001b[0m\u001b[0mes_tokens\u001b[0m\u001b[0;34m)\u001b[0m\u001b[0;34m)\u001b[0m\u001b[0;34m\u001b[0m\u001b[0m\n\u001b[1;32m      3\u001b[0m \u001b[0mprint\u001b[0m\u001b[0;34m(\u001b[0m\u001b[0mdetect_nltk_tagger\u001b[0m\u001b[0;34m(\u001b[0m\u001b[0mgl_tokens\u001b[0m\u001b[0;34m)\u001b[0m\u001b[0;34m)\u001b[0m\u001b[0;34m\u001b[0m\u001b[0m\n\u001b[1;32m      4\u001b[0m \u001b[0mprint\u001b[0m\u001b[0;34m(\u001b[0m\u001b[0mdetect_nltk_tagger\u001b[0m\u001b[0;34m(\u001b[0m\u001b[0mpt_tokens\u001b[0m\u001b[0;34m)\u001b[0m\u001b[0;34m)\u001b[0m\u001b[0;34m\u001b[0m\u001b[0m\n",
      "\u001b[0;32m<ipython-input-41-2929932b17d3>\u001b[0m in \u001b[0;36mdetect_nltk_tagger\u001b[0;34m(tokens)\u001b[0m\n\u001b[1;32m     11\u001b[0m     \u001b[0mresult\u001b[0m \u001b[0;34m=\u001b[0m \u001b[0;34m{\u001b[0m\u001b[0;34m}\u001b[0m\u001b[0;34m\u001b[0m\u001b[0m\n\u001b[1;32m     12\u001b[0m     \u001b[0;32mfor\u001b[0m \u001b[0mk\u001b[0m\u001b[0;34m,\u001b[0m \u001b[0mtagger\u001b[0m \u001b[0;32min\u001b[0m \u001b[0mtaggers\u001b[0m\u001b[0;34m.\u001b[0m\u001b[0mitems\u001b[0m\u001b[0;34m(\u001b[0m\u001b[0;34m)\u001b[0m\u001b[0;34m:\u001b[0m\u001b[0;34m\u001b[0m\u001b[0m\n\u001b[0;32m---> 13\u001b[0;31m         \u001b[0mtagged_words\u001b[0m \u001b[0;34m=\u001b[0m \u001b[0mlist\u001b[0m\u001b[0;34m(\u001b[0m\u001b[0mn\u001b[0m \u001b[0;32mfor\u001b[0m \u001b[0mn\u001b[0m \u001b[0;32min\u001b[0m \u001b[0mtagger\u001b[0m\u001b[0;34m.\u001b[0m\u001b[0muni\u001b[0m\u001b[0;34m.\u001b[0m\u001b[0mtag\u001b[0m\u001b[0;34m(\u001b[0m\u001b[0mtokens\u001b[0m\u001b[0;34m)\u001b[0m \u001b[0;32mif\u001b[0m \u001b[0mn\u001b[0m\u001b[0;34m[\u001b[0m\u001b[0;36m1\u001b[0m\u001b[0;34m]\u001b[0m\u001b[0;34m)\u001b[0m\u001b[0;34m\u001b[0m\u001b[0m\n\u001b[0m\u001b[1;32m     14\u001b[0m         \u001b[0mresult\u001b[0m\u001b[0;34m[\u001b[0m\u001b[0mk\u001b[0m\u001b[0;34m]\u001b[0m\u001b[0;34m=\u001b[0m  \u001b[0mlen\u001b[0m\u001b[0;34m(\u001b[0m\u001b[0mtagged_words\u001b[0m\u001b[0;34m)\u001b[0m\u001b[0;34m\u001b[0m\u001b[0m\n\u001b[1;32m     15\u001b[0m \u001b[0;34m\u001b[0m\u001b[0m\n",
      "\u001b[0;31mAttributeError\u001b[0m: 'tuple' object has no attribute 'uni'"
     ]
    }
   ],
   "source": [
    "print(detect_nltk_tagger(en_tokens))\n",
    "print(detect_nltk_tagger(es_tokens))\n",
    "print(detect_nltk_tagger(gl_tokens))\n",
    "print(detect_nltk_tagger(pt_tokens))"
   ]
  },
  {
   "cell_type": "code",
   "execution_count": 43,
   "metadata": {},
   "outputs": [
    {
     "ename": "AttributeError",
     "evalue": "'tuple' object has no attribute 'uni'",
     "output_type": "error",
     "traceback": [
      "\u001b[0;31m---------------------------------------------------------------------------\u001b[0m",
      "\u001b[0;31mAttributeError\u001b[0m                            Traceback (most recent call last)",
      "\u001b[0;32m<ipython-input-43-c69e1c1ce94a>\u001b[0m in \u001b[0;36m<module>\u001b[0;34m()\u001b[0m\n\u001b[0;32m----> 1\u001b[0;31m \u001b[0mcompute_accuracy_tokens\u001b[0m\u001b[0;34m(\u001b[0m\u001b[0mtitles_sentences\u001b[0m\u001b[0;34m,\u001b[0m \u001b[0mdetect_nltk_tagger\u001b[0m\u001b[0;34m)\u001b[0m\u001b[0;34m\u001b[0m\u001b[0m\n\u001b[0m",
      "\u001b[0;32m<ipython-input-6-5ccaae274afd>\u001b[0m in \u001b[0;36mcompute_accuracy_tokens\u001b[0;34m(df, predictor, verbose, plot_confusion)\u001b[0m\n\u001b[1;32m     93\u001b[0m \u001b[0;34m\u001b[0m\u001b[0m\n\u001b[1;32m     94\u001b[0m \u001b[0;32mdef\u001b[0m \u001b[0mcompute_accuracy_tokens\u001b[0m\u001b[0;34m(\u001b[0m\u001b[0mdf\u001b[0m\u001b[0;34m,\u001b[0m \u001b[0mpredictor\u001b[0m\u001b[0;34m,\u001b[0m \u001b[0mverbose\u001b[0m\u001b[0;34m=\u001b[0m\u001b[0;32mFalse\u001b[0m\u001b[0;34m,\u001b[0m \u001b[0mplot_confusion\u001b[0m\u001b[0;34m=\u001b[0m\u001b[0;32mTrue\u001b[0m\u001b[0;34m)\u001b[0m\u001b[0;34m:\u001b[0m\u001b[0;34m\u001b[0m\u001b[0m\n\u001b[0;32m---> 95\u001b[0;31m     \u001b[0;32mreturn\u001b[0m \u001b[0mcompute_accuracy\u001b[0m\u001b[0;34m(\u001b[0m\u001b[0mdf\u001b[0m\u001b[0;34m,\u001b[0m \u001b[0mpredictor\u001b[0m\u001b[0;34m,\u001b[0m \u001b[0;34m[\u001b[0m\u001b[0;34m'tokens'\u001b[0m\u001b[0;34m]\u001b[0m\u001b[0;34m,\u001b[0m \u001b[0mverbose\u001b[0m\u001b[0;34m,\u001b[0m \u001b[0mplot_confusion\u001b[0m\u001b[0;34m)\u001b[0m\u001b[0;34m\u001b[0m\u001b[0m\n\u001b[0m\u001b[1;32m     96\u001b[0m \u001b[0;34m\u001b[0m\u001b[0m\n\u001b[1;32m     97\u001b[0m \u001b[0;32mdef\u001b[0m \u001b[0mcompute_accuracy_sentences\u001b[0m\u001b[0;34m(\u001b[0m\u001b[0mdf\u001b[0m\u001b[0;34m,\u001b[0m \u001b[0mpredictor\u001b[0m\u001b[0;34m,\u001b[0m \u001b[0mverbose\u001b[0m\u001b[0;34m=\u001b[0m\u001b[0;32mFalse\u001b[0m\u001b[0;34m,\u001b[0m \u001b[0mplot_confusion\u001b[0m\u001b[0;34m=\u001b[0m\u001b[0;32mTrue\u001b[0m\u001b[0;34m)\u001b[0m\u001b[0;34m:\u001b[0m\u001b[0;34m\u001b[0m\u001b[0m\n",
      "\u001b[0;32m<ipython-input-6-5ccaae274afd>\u001b[0m in \u001b[0;36mcompute_accuracy\u001b[0;34m(df, predictor, columns, verbose, plot_confusion)\u001b[0m\n\u001b[1;32m     64\u001b[0m     \u001b[0mstart_time\u001b[0m \u001b[0;34m=\u001b[0m \u001b[0mtime\u001b[0m\u001b[0;34m.\u001b[0m\u001b[0mtime\u001b[0m\u001b[0;34m(\u001b[0m\u001b[0;34m)\u001b[0m\u001b[0;34m\u001b[0m\u001b[0m\n\u001b[1;32m     65\u001b[0m     \u001b[0;32mif\u001b[0m \u001b[0mlen\u001b[0m\u001b[0;34m(\u001b[0m\u001b[0mcolumns\u001b[0m \u001b[0;34m)\u001b[0m \u001b[0;34m==\u001b[0m\u001b[0;36m1\u001b[0m\u001b[0;34m:\u001b[0m\u001b[0;34m\u001b[0m\u001b[0m\n\u001b[0;32m---> 66\u001b[0;31m         \u001b[0mdf\u001b[0m\u001b[0;34m[\u001b[0m\u001b[0;34m'r_'\u001b[0m \u001b[0;34m+\u001b[0m \u001b[0mpredictor\u001b[0m\u001b[0;34m.\u001b[0m\u001b[0m__name__\u001b[0m\u001b[0;34m]\u001b[0m \u001b[0;34m=\u001b[0m \u001b[0mdf\u001b[0m\u001b[0;34m[\u001b[0m\u001b[0mcolumns\u001b[0m\u001b[0;34m[\u001b[0m\u001b[0;36m0\u001b[0m\u001b[0;34m]\u001b[0m\u001b[0;34m]\u001b[0m\u001b[0;34m.\u001b[0m\u001b[0mapply\u001b[0m\u001b[0;34m(\u001b[0m\u001b[0mpredictor\u001b[0m\u001b[0;34m)\u001b[0m\u001b[0;34m\u001b[0m\u001b[0m\n\u001b[0m\u001b[1;32m     67\u001b[0m     \u001b[0;32melse\u001b[0m\u001b[0;34m:\u001b[0m\u001b[0;34m\u001b[0m\u001b[0m\n\u001b[1;32m     68\u001b[0m         \u001b[0mdf\u001b[0m\u001b[0;34m[\u001b[0m\u001b[0;34m'r_'\u001b[0m \u001b[0;34m+\u001b[0m \u001b[0mpredictor\u001b[0m\u001b[0;34m.\u001b[0m\u001b[0m__name__\u001b[0m\u001b[0;34m]\u001b[0m \u001b[0;34m=\u001b[0m \u001b[0mdf\u001b[0m\u001b[0;34m.\u001b[0m\u001b[0mloc\u001b[0m\u001b[0;34m[\u001b[0m\u001b[0;34m:\u001b[0m\u001b[0;34m,\u001b[0m\u001b[0mcolumns\u001b[0m\u001b[0;34m]\u001b[0m\u001b[0;34m.\u001b[0m\u001b[0mapply\u001b[0m\u001b[0;34m(\u001b[0m\u001b[0mpredictor\u001b[0m\u001b[0;34m,\u001b[0m  \u001b[0maxis\u001b[0m\u001b[0;34m=\u001b[0m\u001b[0;36m1\u001b[0m\u001b[0;34m)\u001b[0m\u001b[0;34m\u001b[0m\u001b[0m\n",
      "\u001b[0;32m~/.pyenv/versions/3.7.0/envs/langdetect-survey/lib/python3.7/site-packages/pandas/core/series.py\u001b[0m in \u001b[0;36mapply\u001b[0;34m(self, func, convert_dtype, args, **kwds)\u001b[0m\n\u001b[1;32m   3192\u001b[0m             \u001b[0;32melse\u001b[0m\u001b[0;34m:\u001b[0m\u001b[0;34m\u001b[0m\u001b[0m\n\u001b[1;32m   3193\u001b[0m                 \u001b[0mvalues\u001b[0m \u001b[0;34m=\u001b[0m \u001b[0mself\u001b[0m\u001b[0;34m.\u001b[0m\u001b[0mastype\u001b[0m\u001b[0;34m(\u001b[0m\u001b[0mobject\u001b[0m\u001b[0;34m)\u001b[0m\u001b[0;34m.\u001b[0m\u001b[0mvalues\u001b[0m\u001b[0;34m\u001b[0m\u001b[0m\n\u001b[0;32m-> 3194\u001b[0;31m                 \u001b[0mmapped\u001b[0m \u001b[0;34m=\u001b[0m \u001b[0mlib\u001b[0m\u001b[0;34m.\u001b[0m\u001b[0mmap_infer\u001b[0m\u001b[0;34m(\u001b[0m\u001b[0mvalues\u001b[0m\u001b[0;34m,\u001b[0m \u001b[0mf\u001b[0m\u001b[0;34m,\u001b[0m \u001b[0mconvert\u001b[0m\u001b[0;34m=\u001b[0m\u001b[0mconvert_dtype\u001b[0m\u001b[0;34m)\u001b[0m\u001b[0;34m\u001b[0m\u001b[0m\n\u001b[0m\u001b[1;32m   3195\u001b[0m \u001b[0;34m\u001b[0m\u001b[0m\n\u001b[1;32m   3196\u001b[0m         \u001b[0;32mif\u001b[0m \u001b[0mlen\u001b[0m\u001b[0;34m(\u001b[0m\u001b[0mmapped\u001b[0m\u001b[0;34m)\u001b[0m \u001b[0;32mand\u001b[0m \u001b[0misinstance\u001b[0m\u001b[0;34m(\u001b[0m\u001b[0mmapped\u001b[0m\u001b[0;34m[\u001b[0m\u001b[0;36m0\u001b[0m\u001b[0;34m]\u001b[0m\u001b[0;34m,\u001b[0m \u001b[0mSeries\u001b[0m\u001b[0;34m)\u001b[0m\u001b[0;34m:\u001b[0m\u001b[0;34m\u001b[0m\u001b[0m\n",
      "\u001b[0;32mpandas/_libs/src/inference.pyx\u001b[0m in \u001b[0;36mpandas._libs.lib.map_infer\u001b[0;34m()\u001b[0m\n",
      "\u001b[0;32m<ipython-input-41-2929932b17d3>\u001b[0m in \u001b[0;36mdetect_nltk_tagger\u001b[0;34m(tokens)\u001b[0m\n\u001b[1;32m     11\u001b[0m     \u001b[0mresult\u001b[0m \u001b[0;34m=\u001b[0m \u001b[0;34m{\u001b[0m\u001b[0;34m}\u001b[0m\u001b[0;34m\u001b[0m\u001b[0m\n\u001b[1;32m     12\u001b[0m     \u001b[0;32mfor\u001b[0m \u001b[0mk\u001b[0m\u001b[0;34m,\u001b[0m \u001b[0mtagger\u001b[0m \u001b[0;32min\u001b[0m \u001b[0mtaggers\u001b[0m\u001b[0;34m.\u001b[0m\u001b[0mitems\u001b[0m\u001b[0;34m(\u001b[0m\u001b[0;34m)\u001b[0m\u001b[0;34m:\u001b[0m\u001b[0;34m\u001b[0m\u001b[0m\n\u001b[0;32m---> 13\u001b[0;31m         \u001b[0mtagged_words\u001b[0m \u001b[0;34m=\u001b[0m \u001b[0mlist\u001b[0m\u001b[0;34m(\u001b[0m\u001b[0mn\u001b[0m \u001b[0;32mfor\u001b[0m \u001b[0mn\u001b[0m \u001b[0;32min\u001b[0m \u001b[0mtagger\u001b[0m\u001b[0;34m.\u001b[0m\u001b[0muni\u001b[0m\u001b[0;34m.\u001b[0m\u001b[0mtag\u001b[0m\u001b[0;34m(\u001b[0m\u001b[0mtokens\u001b[0m\u001b[0;34m)\u001b[0m \u001b[0;32mif\u001b[0m \u001b[0mn\u001b[0m\u001b[0;34m[\u001b[0m\u001b[0;36m1\u001b[0m\u001b[0;34m]\u001b[0m\u001b[0;34m)\u001b[0m\u001b[0;34m\u001b[0m\u001b[0m\n\u001b[0m\u001b[1;32m     14\u001b[0m         \u001b[0mresult\u001b[0m\u001b[0;34m[\u001b[0m\u001b[0mk\u001b[0m\u001b[0;34m]\u001b[0m\u001b[0;34m=\u001b[0m  \u001b[0mlen\u001b[0m\u001b[0;34m(\u001b[0m\u001b[0mtagged_words\u001b[0m\u001b[0;34m)\u001b[0m\u001b[0;34m\u001b[0m\u001b[0m\n\u001b[1;32m     15\u001b[0m \u001b[0;34m\u001b[0m\u001b[0m\n",
      "\u001b[0;31mAttributeError\u001b[0m: 'tuple' object has no attribute 'uni'"
     ]
    }
   ],
   "source": [
    "compute_accuracy_tokens(titles_sentences, detect_nltk_tagger)"
   ]
  },
  {
   "cell_type": "code",
   "execution_count": 44,
   "metadata": {},
   "outputs": [
    {
     "name": "stdout",
     "output_type": "stream",
     "text": [
      "                          algorithm     accuracy                 \n",
      "                               ----     ----                     \n",
      "              detect_nltk_stopwords     0.9625                   \n",
      "        detect_glhandmade_stopwords     0.9425                   \n",
      "            detect_unique_stopwords     0.9155                   \n",
      "             predict_language_naive     0.9605                   \n",
      "                       detect_vocab     0.986                    \n",
      "\n",
      "                          algorithm     time                     \n",
      "                               ----     ----                     \n",
      "              detect_nltk_stopwords     0.21731877326965332      \n",
      "        detect_glhandmade_stopwords     0.19560027122497559      \n",
      "            detect_unique_stopwords     0.17684698104858398      \n",
      "             predict_language_naive     0.22910714149475098      \n",
      "                       detect_vocab     0.2623915672302246       \n"
     ]
    }
   ],
   "source": [
    "plot_all_accuracies()"
   ]
  },
  {
   "cell_type": "markdown",
   "metadata": {},
   "source": [
    "# Langdetect\n",
    "Port of Google’s (https://code.google.com/p/language-detection/) library (version from 03/03/2014) to Python\n",
    "\n",
    "See: https://pypi.org/project/langdetect/\n",
    "```bash\n",
    "pip install langdetect\n",
    "```\n",
    " \n",
    " \n",
    "- Galician no available out of the box (https://code.google.com/archive/p/language-detection/wikis/LanguageList.wiki), but accept create new profiles\n",
    "- The algorithm use a improved dataset extracted from Wikipedia, and a naive Bayes (see https://www.slideshare.net/shuyo/language-detection-library-for-java)\n",
    "\n",
    "In order to create new profile , run:\n",
    "\n",
    "```bash\n",
    "\n",
    "git clone https://github.com/shuyo/language-detection.git\n",
    "cd language-detection\n",
    "wget https://dumps.wikimedia.org/glwiki/latest/glwiki-latest-abstract.xml.gz\n",
    "java -jar lib/langdetect.jar --genprofile -d . gl\n",
    "cp language-detection/profiles/gl /home/xurxo/.pyenv/versions/langdetect-survey/lib/python3.6/site-packages/langdetect/profiles \n",
    "```\n"
   ]
  },
  {
   "cell_type": "code",
   "execution_count": 45,
   "metadata": {},
   "outputs": [],
   "source": [
    "from langdetect import detect, lang_detect_exception\n",
    "\n",
    "\n",
    "def detect_langdetect(sentence):\n",
    "    try:\n",
    "        return iso_to_human[detect(sentence)]\n",
    "    except (lang_detect_exception.LangDetectException, KeyError):\n",
    "        return 'unknown'"
   ]
  },
  {
   "cell_type": "code",
   "execution_count": 46,
   "metadata": {},
   "outputs": [
    {
     "name": "stdout",
     "output_type": "stream",
     "text": [
      "english\n",
      "spanish\n",
      "spanish\n",
      "portuguese\n"
     ]
    }
   ],
   "source": [
    "print(detect_langdetect(english_text))\n",
    "print(detect_langdetect(spanish_text))\n",
    "print(detect_langdetect(galician_text))\n",
    "print(detect_langdetect(portuguese_text))\n"
   ]
  },
  {
   "cell_type": "code",
   "execution_count": 47,
   "metadata": {
    "scrolled": false
   },
   "outputs": [],
   "source": [
    "# very slow\n",
    "\n",
    "# compute_accuracy_sentences(titles_sentences_small, detect_langdetect)"
   ]
  },
  {
   "cell_type": "markdown",
   "metadata": {},
   "source": [
    "# Langid\n",
    "\n",
    "https://github.com/saffsd/langid.py\n",
    "\n",
    "```bash\n",
    "pip install langid\n",
    "```\n",
    "Maybe you must install libbz2-dev in your system:\n",
    "\n",
    "```bash\n",
    "sudo apt-get install libbz2-dev\n",
    "```\n",
    "\n",
    "Galician out of the box!"
   ]
  },
  {
   "cell_type": "code",
   "execution_count": 48,
   "metadata": {},
   "outputs": [],
   "source": [
    "import langid\n",
    "if include_pt:\n",
    "    langid.set_languages(['es','en','gl','pt'])\n",
    "else:\n",
    "    langid.set_languages(['es','en','gl',])\n",
    "langid.classify(\"This is a test\")\n",
    "\n",
    "\n",
    "def lang_id_detection(sentence):\n",
    "    return iso_to_human[langid.classify(sentence)[0]]\n"
   ]
  },
  {
   "cell_type": "code",
   "execution_count": 49,
   "metadata": {},
   "outputs": [
    {
     "name": "stdout",
     "output_type": "stream",
     "text": [
      "english\n",
      "spanish\n",
      "galician\n",
      "portuguese\n"
     ]
    }
   ],
   "source": [
    "print(lang_id_detection(english_text))\n",
    "print(lang_id_detection(spanish_text))\n",
    "print(lang_id_detection(galician_text))\n",
    "print(lang_id_detection(portuguese_text))\n"
   ]
  },
  {
   "cell_type": "code",
   "execution_count": 50,
   "metadata": {},
   "outputs": [
    {
     "name": "stdout",
     "output_type": "stream",
     "text": [
      "lang_id_detection     Accuracy: 0.9785       Time: 4.878732681274414\n"
     ]
    },
    {
     "data": {
      "text/plain": [
       "0.9785"
      ]
     },
     "execution_count": 50,
     "metadata": {},
     "output_type": "execute_result"
    },
    {
     "data": {
      "image/png": "[encoded data removed]",
      "text/plain": [
       "<Figure size 432x288 with 1 Axes>"
      ]
     },
     "metadata": {
      "needs_background": "light"
     },
     "output_type": "display_data"
    }
   ],
   "source": [
    "\n",
    "compute_accuracy_sentences(titles_sentences, lang_id_detection)"
   ]
  },
  {
   "cell_type": "markdown",
   "metadata": {},
   "source": [
    "# Not valid solutions\n",
    "\n",
    "## Gesslanguage\n",
    "https://pypi.org/project/guess-language/\n",
    "\n",
    "```bash\n",
    "pip install guess_language-spirit\n",
    "```\n",
    "\n",
    "Based on guesslanguage.cpp by Jacob R Rideout for KDE which itself is based on Language::Guess by Maciej Ceglowski.\n",
    "\n",
    "Detects over 60 languages - all languages listed in the trigrams directory plus Japanese, Chinese, Korean and Greek.\n",
    "\n",
    "guess_language uses heuristics based on the character set and trigrams in a sample text to detect the language. It works better with longer samples.\n",
    "\n",
    "It needs enchant spellchecking (a simple but comprehensive abstraction for dealing\n",
    "with different spell checking libraries in a consistent way) in order to work with sentences with 20 words or less. You need the pyenchant wrapper, and the dictionaries of the languages. Enchant repo: https://github.com/AbiWord/enchant\n",
    "\n",
    "```bash\n",
    "sudo apt install aspell-pt aspell-gl-minimos aspell-es aspell-en aspell enchant\n",
    "```\n",
    "\n",
    "\n",
    "See https://bitbucket.org/spirit/guess_language to current python library version"
   ]
  },
  {
   "cell_type": "code",
   "execution_count": 51,
   "metadata": {},
   "outputs": [],
   "source": [
    "from guess_language import guess_language\n",
    "\n",
    "def guess_language_detection(sentence):\n",
    "    return iso_to_human.get(guess_language(sentence),'unknow')"
   ]
  },
  {
   "cell_type": "code",
   "execution_count": 52,
   "metadata": {},
   "outputs": [
    {
     "name": "stdout",
     "output_type": "stream",
     "text": [
      "english\n",
      "spanish\n",
      "spanish\n",
      "portuguese\n"
     ]
    }
   ],
   "source": [
    "print(guess_language_detection(english_text))\n",
    "print(guess_language_detection(spanish_text))\n",
    "print(guess_language_detection('O periódico funcionou sempre como semanario, aínda que en diversos períodos viuse obrigado a saír quincenalmente, facendo en total 33 anos. En decembro de 2007 o periódico realizou unha importante reforma deseñística e de contidos[2]: Eiré, o daquela director, ascendía a conselleiro delegado, e as tarefas de dirección xornalística recaían en Manuel Veiga. Asemade, publicábase unha edición electrónica coordinada por César Lorenzo. Os problemas económicos, endémicos durante toda a vida desta cabeceira, comezaron a sucederse[3] ata que en agosto de 2010 a empresa editora, Promocións Culturais Galegas SA anunciou a suspensión de pagamentos e o peche do semanario en papel. A partir dese momento, continuou actualizándose a edición electrónica, que pechou definitivamente os seus contidos o 23 de setembro de 2011'))\n",
    "print(guess_language_detection(portuguese_text))\n"
   ]
  },
  {
   "cell_type": "code",
   "execution_count": 53,
   "metadata": {},
   "outputs": [
    {
     "name": "stdout",
     "output_type": "stream",
     "text": [
      "guess_language_detection     Accuracy: 0.733       Time: 5.873486280441284\n"
     ]
    },
    {
     "data": {
      "text/plain": [
       "0.733"
      ]
     },
     "execution_count": 53,
     "metadata": {},
     "output_type": "execute_result"
    },
    {
     "data": {
      "image/png": "[encoded data removed]",
      "text/plain": [
       "<Figure size 432x288 with 1 Axes>"
      ]
     },
     "metadata": {
      "needs_background": "light"
     },
     "output_type": "display_data"
    }
   ],
   "source": [
    "\n",
    "compute_accuracy_sentences(titles_sentences, guess_language_detection)"
   ]
  },
  {
   "cell_type": "markdown",
   "metadata": {},
   "source": [
    "\n",
    "## language-detector\n",
    "https://github.com/DanielJDufour/language-detector\n",
    "\n",
    "```bash\n",
    "pip install language-detector \n",
    "```\n",
    "\n",
    "No galician either  portuguese languages available"
   ]
  },
  {
   "cell_type": "code",
   "execution_count": 54,
   "metadata": {},
   "outputs": [],
   "source": [
    "from language_detector import detect_language\n",
    "\n",
    "\n",
    "\n",
    "\n",
    "def guess_language_detection(sentence):\n",
    "    lang = detect_language(sentence)\n",
    "    return lang.lower() if lang else 'unknow'"
   ]
  },
  {
   "cell_type": "code",
   "execution_count": 55,
   "metadata": {},
   "outputs": [
    {
     "name": "stdout",
     "output_type": "stream",
     "text": [
      "english\n",
      "spanish\n",
      "spanish\n",
      "french\n"
     ]
    }
   ],
   "source": [
    "print(guess_language_detection(english_text))\n",
    "print(guess_language_detection(spanish_text))\n",
    "print(guess_language_detection(galician_text))\n",
    "print(guess_language_detection(portuguese_text))"
   ]
  },
  {
   "cell_type": "code",
   "execution_count": 56,
   "metadata": {},
   "outputs": [
    {
     "name": "stdout",
     "output_type": "stream",
     "text": [
      "guess_language_detection     Accuracy: 0.4655       Time: 0.06995224952697754\n"
     ]
    },
    {
     "data": {
      "text/plain": [
       "0.4655"
      ]
     },
     "execution_count": 56,
     "metadata": {},
     "output_type": "execute_result"
    },
    {
     "data": {
      "image/png": "[encoded data removed]",
      "text/plain": [
       "<Figure size 432x288 with 1 Axes>"
      ]
     },
     "metadata": {
      "needs_background": "light"
     },
     "output_type": "display_data"
    }
   ],
   "source": [
    "compute_accuracy_sentences(titles_sentences, guess_language_detection)"
   ]
  },
  {
   "cell_type": "markdown",
   "metadata": {},
   "source": [
    "# polyglot\n",
    "https://github.com/aboSamoor/polyglot / http://polyglot-nlp.com\n",
    "\n",
    "A multilingual text (NLP) processing toolkit  by Rami Al-Rfou \n",
    "\n",
    "```bash\n",
    "pip install polyglot pyicu  pycld2 morfessor\n",
    "```\n",
    "\n",
    "Polyglot uses  cld2 library, so I didn't test it here.\n",
    "Maybe you must install some system libs:\n",
    "```bash\n",
    "apt-get install libicu-dev\n",
    "```\n"
   ]
  },
  {
   "cell_type": "code",
   "execution_count": 57,
   "metadata": {},
   "outputs": [],
   "source": [
    "from polyglot.text import Text, Detector\n",
    "\n",
    "    \n",
    "def detect_with_polyglot (text):\n",
    "    try:\n",
    "        if detector.language.code in iso_to_human:\n",
    "            return iso_to_human[Text(text).language.code]\n",
    "        else:\n",
    "            return 'unknow'\n",
    "    except:\n",
    "        return detect_vocab(word_tokenize(text))"
   ]
  },
  {
   "cell_type": "code",
   "execution_count": 58,
   "metadata": {},
   "outputs": [
    {
     "name": "stdout",
     "output_type": "stream",
     "text": [
      "english\n",
      "spanish\n",
      "galician\n",
      "portuguese\n"
     ]
    }
   ],
   "source": [
    "print(detect_with_polyglot(english_text))\n",
    "print(detect_with_polyglot(spanish_text))\n",
    "print(detect_with_polyglot(galician_text))\n",
    "print(detect_with_polyglot(portuguese_text))"
   ]
  },
  {
   "cell_type": "code",
   "execution_count": 59,
   "metadata": {},
   "outputs": [
    {
     "name": "stdout",
     "output_type": "stream",
     "text": [
      "detect_with_polyglot     Accuracy: 0.985       Time: 7.7460339069366455\n"
     ]
    },
    {
     "data": {
      "text/plain": [
       "0.985"
      ]
     },
     "execution_count": 59,
     "metadata": {},
     "output_type": "execute_result"
    },
    {
     "data": {
      "image/png": "[encoded data removed]",
      "text/plain": [
       "<Figure size 432x288 with 1 Axes>"
      ]
     },
     "metadata": {
      "needs_background": "light"
     },
     "output_type": "display_data"
    }
   ],
   "source": [
    "import warnings\n",
    "\n",
    "warnings.filterwarnings(\"ignore\")\n",
    "\n",
    "compute_accuracy_sentences(titles_sentences, detect_with_polyglot)"
   ]
  },
  {
   "cell_type": "code",
   "execution_count": 60,
   "metadata": {},
   "outputs": [
    {
     "name": "stdout",
     "output_type": "stream",
     "text": [
      "                          algorithm     accuracy                 \n",
      "                               ----     ----                     \n",
      "              detect_nltk_stopwords     0.9625                   \n",
      "        detect_glhandmade_stopwords     0.9425                   \n",
      "            detect_unique_stopwords     0.9155                   \n",
      "             predict_language_naive     0.9605                   \n",
      "                       detect_vocab     0.986                    \n",
      "                  lang_id_detection     0.9785                   \n",
      "           guess_language_detection     0.4655                   \n",
      "               detect_with_polyglot     0.985                    \n",
      "\n",
      "                          algorithm     time                     \n",
      "                               ----     ----                     \n",
      "              detect_nltk_stopwords     0.21731877326965332      \n",
      "        detect_glhandmade_stopwords     0.19560027122497559      \n",
      "            detect_unique_stopwords     0.17684698104858398      \n",
      "             predict_language_naive     0.22910714149475098      \n",
      "                       detect_vocab     0.2623915672302246       \n",
      "                  lang_id_detection     4.878732681274414        \n",
      "           guess_language_detection     0.06995224952697754      \n",
      "               detect_with_polyglot     7.7460339069366455       \n"
     ]
    }
   ],
   "source": [
    "plot_all_accuracies()"
   ]
  },
  {
   "cell_type": "markdown",
   "metadata": {},
   "source": [
    "# FastText: Learn a classifier based on n-grams embeddings\n",
    "\n",
    "Directly copied from https://tech.people-doc.com/how-to-detect-western-language-with-python.html#Learn-a-classifier-based-on-n-grams-embeddings\n",
    "\n",
    "More info abou the library FastText, by *Facebook*: https://fasttext.cc/\n",
    "\n",
    "```bash\n",
    "pip install cython\n",
    "pip install pyfasttext sklearn scipy \n",
    "# optional \n",
    "pip install csygnals numpy\n",
    "```\n",
    "\n",
    "To create a galician corpus, we use the wikipedia. You can create a text version with Wikipedia Extractor. Download code  http://medialab.di.unipi.it/wiki/Wikipedia_Extractor . You can make some tweaks like include (or not) titles, sort articles, etc. The process takes 5 min. aprox.\n",
    "\n",
    "```bash\n",
    "\n",
    "$ git clone https://github.com/attardi/wikiextractor.git\n",
    "$ cd wikiextractor\n",
    "$ wget https://dumps.wikimedia.org/glwiki/latest/glwiki-latest-pages-articles.xml.bz2\n",
    "$ bzip2 -d glwiki-latest-pages-articles.xml.bz2\n",
    "$ ./WikiExtractor.py -o . -s --no-templates --min_text_length 150 --filter_disambig_pages -de gallery,timeline,noinclude  glwiki-latest-pages-articles.xml -it abbr,b,big --json -cb 250K\n",
    "...\n",
    "INFO: 414064\tPedersöre\n",
    "INFO: Finished 3-process extraction of 149036 articles in 295.8s (503.8 art/s)\n",
    "\n",
    "$  find . -name '*bz2' -exec bunzip2 -c {} \\; >galician_wikipedia_text.json\n",
    "$  rm -rf extracted\n",
    "```\n",
    "\n",
    "\n",
    "\n",
    "\n",
    "\n"
   ]
  },
  {
   "cell_type": "code",
   "execution_count": 61,
   "metadata": {},
   "outputs": [
    {
     "name": "stdout",
     "output_type": "stream",
     "text": [
      "('deserializing from '\n",
      " '/media/xurxo/Sistema/tmp/python/corpus/en_brown.corpus')\n",
      "english, en_brown, 981716\n",
      "('deserializing from '\n",
      " '/media/xurxo/Sistema/tmp/python/corpus/en_wordnet.corpus')\n",
      "english, en_wordnet, 77503\n",
      "('deserializing from '\n",
      " '/media/xurxo/Sistema/tmp/python/corpus/en_europarl.corpus')\n",
      "english, en_europarl, 494443\n",
      "('deserializing from '\n",
      " '/media/xurxo/Sistema/tmp/python/corpus/sp_cess.corpus')\n",
      "spanish, sp_cess, 155978\n",
      "('deserializing from '\n",
      " '/media/xurxo/Sistema/tmp/python/corpus/sp_wordnet.corpus')\n",
      "spanish, sp_wordnet, 22477\n",
      "('deserializing from '\n",
      " '/media/xurxo/Sistema/tmp/python/corpus/sp_europarl.corpus')\n",
      "spanish, sp_europarl, 548301\n",
      "('deserializing from '\n",
      " '/media/xurxo/Sistema/tmp/python/corpus/gl_corga.corpus')\n",
      "galician, gl_corga, 9801\n",
      "('deserializing from '\n",
      " '/media/xurxo/Sistema/tmp/python/corpus/gl_wordnet.corpus')\n",
      "galician, gl_wordnetl, 14154\n",
      "('deserializing from '\n",
      " '/media/xurxo/Sistema/tmp/python/corpus/gl_wikipedia.corpus')\n",
      "galician, gl_wikipedia, 348259\n",
      "('deserializing from '\n",
      " '/media/xurxo/Sistema/tmp/python/corpus/pt_floresta.corpus')\n",
      "portuguese, pt_floresta, 168643\n",
      "('deserializing from '\n",
      " '/media/xurxo/Sistema/tmp/python/corpus/pt_wordnet.corpus')\n",
      "portuguese, pt_wordnet, 35299\n",
      "('deserializing from '\n",
      " '/media/xurxo/Sistema/tmp/python/corpus/pt_wordnet.corpus')\n",
      "portuguese, pt_europarl, 35299\n"
     ]
    }
   ],
   "source": [
    "for lang, corpora in all_corpus.items():\n",
    "    for corpus_name, corpus in corpora.items():\n",
    "        print (f'{lang}, {corpus_name}, {len(corpus())}')\n",
    "        "
   ]
  },
  {
   "cell_type": "code",
   "execution_count": 62,
   "metadata": {},
   "outputs": [
    {
     "data": {
      "text/plain": [
       "9068"
      ]
     },
     "execution_count": 62,
     "metadata": {},
     "output_type": "execute_result"
    }
   ],
   "source": [
    "all_vocab = None\n",
    "\n",
    "import gc\n",
    "gc.collect()"
   ]
  },
  {
   "cell_type": "code",
   "execution_count": 63,
   "metadata": {},
   "outputs": [],
   "source": [
    "from pyfasttext import FastText\n",
    "from sklearn.model_selection import train_test_split\n",
    "from nltk import ngrams\n",
    "import os.path\n",
    "\n",
    "from operator import itemgetter\n",
    "\n",
    "\n",
    "\n",
    "def get_trigrams (copus_name, language, words, n):\n",
    "    fname = f'{tmp_dir}/fasttext/trigrams_{copus_name}'\n",
    "    if not os.path.isfile(fname):\n",
    "        partial_set = [(language, ' '.join(trigram)) for trigram in ngrams(words, 2) ]\n",
    "        serialize_to_disk(fname, partial_set)\n",
    "    else:\n",
    "        partial_set = deserialize_from_disk(fname)\n",
    "    return partial_set\n",
    "\n",
    "                \n",
    "\n",
    "def fasttext_predict_for_model(model, sentence):\n",
    "    return model.predict([sentence+'\\n'])[0][0]\n",
    "\n",
    "class fasttext_predict:\n",
    "    def __init__(self, model):\n",
    "        self.model = model\n",
    "        self.__name__ = 'fasttext_predict'\n",
    "        \n",
    "    def __call__(self, sentence):\n",
    "        return fasttext_predict_for_model (self.model, sentence)\n",
    "    \n"
   ]
  },
  {
   "cell_type": "code",
   "execution_count": 64,
   "metadata": {},
   "outputs": [
    {
     "name": "stdout",
     "output_type": "stream",
     "text": [
      "('deserializing from '\n",
      " '/media/xurxo/Sistema/tmp/python/corpus/en_brown.corpus')\n",
      "('deserializing from '\n",
      " '/media/xurxo/Sistema/tmp/python/fasttext/trigrams_en_brown')\n",
      "('deserializing from '\n",
      " '/media/xurxo/Sistema/tmp/python/corpus/en_wordnet.corpus')\n",
      "('deserializing from '\n",
      " '/media/xurxo/Sistema/tmp/python/fasttext/trigrams_en_wordnet')\n",
      "('deserializing from '\n",
      " '/media/xurxo/Sistema/tmp/python/corpus/en_europarl.corpus')\n",
      "('deserializing from '\n",
      " '/media/xurxo/Sistema/tmp/python/fasttext/trigrams_en_europarl')\n",
      "('deserializing from '\n",
      " '/media/xurxo/Sistema/tmp/python/corpus/sp_cess.corpus')\n",
      "('deserializing from '\n",
      " '/media/xurxo/Sistema/tmp/python/fasttext/trigrams_sp_cess')\n",
      "('deserializing from '\n",
      " '/media/xurxo/Sistema/tmp/python/corpus/sp_wordnet.corpus')\n",
      "('deserializing from '\n",
      " '/media/xurxo/Sistema/tmp/python/fasttext/trigrams_sp_wordnet')\n",
      "('deserializing from '\n",
      " '/media/xurxo/Sistema/tmp/python/corpus/sp_europarl.corpus')\n",
      "('deserializing from '\n",
      " '/media/xurxo/Sistema/tmp/python/fasttext/trigrams_sp_europarl')\n",
      "('deserializing from '\n",
      " '/media/xurxo/Sistema/tmp/python/corpus/gl_corga.corpus')\n",
      "('deserializing from '\n",
      " '/media/xurxo/Sistema/tmp/python/fasttext/trigrams_gl_corga')\n",
      "('deserializing from '\n",
      " '/media/xurxo/Sistema/tmp/python/corpus/gl_wordnet.corpus')\n",
      "('deserializing from '\n",
      " '/media/xurxo/Sistema/tmp/python/fasttext/trigrams_gl_wordnetl')\n",
      "('deserializing from '\n",
      " '/media/xurxo/Sistema/tmp/python/corpus/gl_wikipedia.corpus')\n",
      "('deserializing from '\n",
      " '/media/xurxo/Sistema/tmp/python/fasttext/trigrams_gl_wikipedia')\n",
      "('deserializing from '\n",
      " '/media/xurxo/Sistema/tmp/python/corpus/pt_floresta.corpus')\n",
      "('deserializing from '\n",
      " '/media/xurxo/Sistema/tmp/python/fasttext/trigrams_pt_floresta')\n",
      "('deserializing from '\n",
      " '/media/xurxo/Sistema/tmp/python/corpus/pt_wordnet.corpus')\n",
      "('deserializing from '\n",
      " '/media/xurxo/Sistema/tmp/python/fasttext/trigrams_pt_wordnet')\n",
      "('deserializing from '\n",
      " '/media/xurxo/Sistema/tmp/python/corpus/pt_wordnet.corpus')\n",
      "('deserializing from '\n",
      " '/media/xurxo/Sistema/tmp/python/fasttext/trigrams_pt_europarl')\n"
     ]
    }
   ],
   "source": [
    "for language, corpora in all_corpus.items():\n",
    "    for corpus_name, words in corpora.items():\n",
    "        get_trigrams(corpus_name, language, words(), 2)\n"
   ]
  },
  {
   "cell_type": "code",
   "execution_count": 65,
   "metadata": {},
   "outputs": [],
   "source": [
    "import gc\n",
    "\n",
    "\n",
    "\n",
    "\n",
    "def detect_fasttext (combo_name, doc_set, corpus_names):\n",
    "        model_fname = f'{tmp_dir}/fasttext/model_fasttext_' + combo_name\n",
    "\n",
    "        if not os.path.isfile(model_fname + '.vec'):\n",
    "            pp.pprint ('creating trigrams for ' + combo_name)\n",
    "            trigrams_set= []\n",
    "            for (language, words) in doc_set:\n",
    "                partial_set = get_trigrams(corpus_names[language], language, words(), 2)\n",
    "                trigrams_set.extend(partial_set)\n",
    "\n",
    "            #trigrams_set = [(language, ' '.join(trigram)) \n",
    "            #                for (language, words) in doc_set\n",
    "            #                for trigram in ngrams(words, 2)] \n",
    "            # serialize_to_disk(trigram_fname, trigrams_set)\n",
    "\n",
    "            train_set, test_set = train_test_split(trigrams_set, \n",
    "                                                   test_size = 0.30, \n",
    "                                                   random_state=0)\n",
    "\n",
    "            pp.pprint ('generating train data for ' + combo_name)\n",
    "            train_data_fname = f'{tmp_dir}/fasttext/train_data_fasttext_{combo_name}.txt'\n",
    "            with open(train_data_fname, 'w') as f:\n",
    "                for label, words in train_set:\n",
    "                    f.write('__label__{} {}\\n'.format(label, words))\n",
    "\n",
    "            pp.pprint ('generating model for ' + combo_name)\n",
    "            model = FastText()\n",
    "            model.supervised(input=train_data_fname,\n",
    "                         output=model_fname, \n",
    "                         epoch=10, lr=0.7, wordNgrams=2)\n",
    "\n",
    "            # train accuracy\n",
    "            labels, samples = np.split(np.array(train_set), 2, axis=1)\n",
    "            print ('train accuracy:' + str ( (np.array(model.predict(samples.T[0])) == labels).sum() / len(train_set) ))\n",
    "            # test accuracy\n",
    "            labels, samples = np.split(np.array(test_set), 2, axis=1)\n",
    "            print ('test accuracy:' + str ( (np.array(model.predict(samples.T[0])) == labels).sum() / len(test_set) ) )\n",
    "        else:\n",
    "            pp.pprint ('deserializing model for ' + combo_name)\n",
    "            model = FastText(model_fname + '.bin')\n",
    "\n",
    "        pp.pprint ('calculating accuracy for ' + combo_name)\n",
    "        \n",
    "        predictor = fasttext_predict (model)\n",
    "        \n",
    "        return compute_accuracy_sentences(titles_sentences, predictor, verbose=False) \n",
    "                    "
   ]
  },
  {
   "cell_type": "code",
   "execution_count": 66,
   "metadata": {},
   "outputs": [
    {
     "name": "stdout",
     "output_type": "stream",
     "text": [
      "'en_brown-sp_cess-gl_corga-pt_floresta'\n",
      "'deserializing model for en_brown-sp_cess-gl_corga-pt_floresta'\n",
      "'calculating accuracy for en_brown-sp_cess-gl_corga-pt_floresta'\n",
      "fasttext_predict     Accuracy: 0.775       Time: 0.30838847160339355\n",
      "'en_brown-sp_cess-gl_corga-pt_wordnet'\n",
      "'deserializing model for en_brown-sp_cess-gl_corga-pt_wordnet'\n",
      "'calculating accuracy for en_brown-sp_cess-gl_corga-pt_wordnet'\n",
      "fasttext_predict     Accuracy: 0.516       Time: 0.2891561985015869\n",
      "'en_brown-sp_cess-gl_corga-pt_europarl'\n",
      "'deserializing model for en_brown-sp_cess-gl_corga-pt_europarl'\n",
      "'calculating accuracy for en_brown-sp_cess-gl_corga-pt_europarl'\n",
      "fasttext_predict     Accuracy: 0.513       Time: 0.2962222099304199\n",
      "'en_brown-sp_cess-gl_wordnetl-pt_floresta'\n",
      "'deserializing model for en_brown-sp_cess-gl_wordnetl-pt_floresta'\n",
      "'calculating accuracy for en_brown-sp_cess-gl_wordnetl-pt_floresta'\n",
      "fasttext_predict     Accuracy: 0.7415       Time: 0.30011796951293945\n",
      "'en_brown-sp_cess-gl_wordnetl-pt_wordnet'\n",
      "'deserializing model for en_brown-sp_cess-gl_wordnetl-pt_wordnet'\n",
      "'calculating accuracy for en_brown-sp_cess-gl_wordnetl-pt_wordnet'\n",
      "fasttext_predict     Accuracy: 0.5015       Time: 0.3123290538787842\n",
      "'en_brown-sp_cess-gl_wordnetl-pt_europarl'\n",
      "'deserializing model for en_brown-sp_cess-gl_wordnetl-pt_europarl'\n",
      "'calculating accuracy for en_brown-sp_cess-gl_wordnetl-pt_europarl'\n",
      "fasttext_predict     Accuracy: 0.502       Time: 0.2880818843841553\n",
      "'en_brown-sp_cess-gl_wikipedia-pt_floresta'\n",
      "'deserializing model for en_brown-sp_cess-gl_wikipedia-pt_floresta'\n",
      "'calculating accuracy for en_brown-sp_cess-gl_wikipedia-pt_floresta'\n",
      "fasttext_predict     Accuracy: 0.9755       Time: 0.2902989387512207\n",
      "'en_brown-sp_cess-gl_wikipedia-pt_wordnet'\n",
      "'deserializing model for en_brown-sp_cess-gl_wikipedia-pt_wordnet'\n",
      "'calculating accuracy for en_brown-sp_cess-gl_wikipedia-pt_wordnet'\n",
      "fasttext_predict     Accuracy: 0.7475       Time: 0.29845404624938965\n",
      "'en_brown-sp_cess-gl_wikipedia-pt_europarl'\n",
      "'deserializing model for en_brown-sp_cess-gl_wikipedia-pt_europarl'\n",
      "'calculating accuracy for en_brown-sp_cess-gl_wikipedia-pt_europarl'\n",
      "fasttext_predict     Accuracy: 0.7475       Time: 0.29088330268859863\n",
      "'en_brown-sp_wordnet-gl_corga-pt_floresta'\n",
      "'deserializing model for en_brown-sp_wordnet-gl_corga-pt_floresta'\n",
      "'calculating accuracy for en_brown-sp_wordnet-gl_corga-pt_floresta'\n",
      "fasttext_predict     Accuracy: 0.52       Time: 0.2910642623901367\n",
      "'en_brown-sp_wordnet-gl_corga-pt_wordnet'\n",
      "'deserializing model for en_brown-sp_wordnet-gl_corga-pt_wordnet'\n",
      "'calculating accuracy for en_brown-sp_wordnet-gl_corga-pt_wordnet'\n",
      "fasttext_predict     Accuracy: 0.496       Time: 0.28717470169067383\n",
      "'en_brown-sp_wordnet-gl_corga-pt_europarl'\n",
      "'deserializing model for en_brown-sp_wordnet-gl_corga-pt_europarl'\n",
      "'calculating accuracy for en_brown-sp_wordnet-gl_corga-pt_europarl'\n",
      "fasttext_predict     Accuracy: 0.4975       Time: 0.30751585960388184\n",
      "'en_brown-sp_wordnet-gl_wordnetl-pt_floresta'\n",
      "'deserializing model for en_brown-sp_wordnet-gl_wordnetl-pt_floresta'\n",
      "'calculating accuracy for en_brown-sp_wordnet-gl_wordnetl-pt_floresta'\n",
      "fasttext_predict     Accuracy: 0.493       Time: 0.28864407539367676\n",
      "'en_brown-sp_wordnet-gl_wordnetl-pt_wordnet'\n",
      "'deserializing model for en_brown-sp_wordnet-gl_wordnetl-pt_wordnet'\n",
      "'calculating accuracy for en_brown-sp_wordnet-gl_wordnetl-pt_wordnet'\n",
      "fasttext_predict     Accuracy: 0.264       Time: 0.3047018051147461\n",
      "'en_brown-sp_wordnet-gl_wordnetl-pt_europarl'\n",
      "'deserializing model for en_brown-sp_wordnet-gl_wordnetl-pt_europarl'\n",
      "'calculating accuracy for en_brown-sp_wordnet-gl_wordnetl-pt_europarl'\n",
      "fasttext_predict     Accuracy: 0.262       Time: 0.29256224632263184\n",
      "'en_brown-sp_wordnet-gl_wikipedia-pt_floresta'\n",
      "'deserializing model for en_brown-sp_wordnet-gl_wikipedia-pt_floresta'\n",
      "('calculating accuracy for '\n",
      " 'en_brown-sp_wordnet-gl_wikipedia-pt_floresta')\n",
      "fasttext_predict     Accuracy: 0.725       Time: 0.29312610626220703\n",
      "'en_brown-sp_wordnet-gl_wikipedia-pt_wordnet'\n",
      "'deserializing model for en_brown-sp_wordnet-gl_wikipedia-pt_wordnet'\n",
      "'calculating accuracy for en_brown-sp_wordnet-gl_wikipedia-pt_wordnet'\n",
      "fasttext_predict     Accuracy: 0.4985       Time: 0.3026895523071289\n",
      "'en_brown-sp_wordnet-gl_wikipedia-pt_europarl'\n",
      "'deserializing model for en_brown-sp_wordnet-gl_wikipedia-pt_europarl'\n",
      "('calculating accuracy for '\n",
      " 'en_brown-sp_wordnet-gl_wikipedia-pt_europarl')\n",
      "fasttext_predict     Accuracy: 0.4985       Time: 0.2987828254699707\n",
      "'en_brown-sp_europarl-gl_corga-pt_floresta'\n",
      "'deserializing model for en_brown-sp_europarl-gl_corga-pt_floresta'\n",
      "'calculating accuracy for en_brown-sp_europarl-gl_corga-pt_floresta'\n",
      "fasttext_predict     Accuracy: 0.774       Time: 0.30127930641174316\n",
      "'en_brown-sp_europarl-gl_corga-pt_wordnet'\n",
      "'deserializing model for en_brown-sp_europarl-gl_corga-pt_wordnet'\n",
      "'calculating accuracy for en_brown-sp_europarl-gl_corga-pt_wordnet'\n",
      "fasttext_predict     Accuracy: 0.513       Time: 0.29986047744750977\n",
      "'en_brown-sp_europarl-gl_corga-pt_europarl'\n",
      "'deserializing model for en_brown-sp_europarl-gl_corga-pt_europarl'\n",
      "'calculating accuracy for en_brown-sp_europarl-gl_corga-pt_europarl'\n",
      "fasttext_predict     Accuracy: 0.5125       Time: 0.29518866539001465\n",
      "'en_brown-sp_europarl-gl_wordnetl-pt_floresta'\n",
      "'deserializing model for en_brown-sp_europarl-gl_wordnetl-pt_floresta'\n",
      "('calculating accuracy for '\n",
      " 'en_brown-sp_europarl-gl_wordnetl-pt_floresta')\n",
      "fasttext_predict     Accuracy: 0.7415       Time: 0.3116145133972168\n",
      "'en_brown-sp_europarl-gl_wordnetl-pt_wordnet'\n",
      "'deserializing model for en_brown-sp_europarl-gl_wordnetl-pt_wordnet'\n",
      "'calculating accuracy for en_brown-sp_europarl-gl_wordnetl-pt_wordnet'\n",
      "fasttext_predict     Accuracy: 0.5015       Time: 0.29491519927978516\n",
      "'en_brown-sp_europarl-gl_wordnetl-pt_europarl'\n",
      "'deserializing model for en_brown-sp_europarl-gl_wordnetl-pt_europarl'\n",
      "('calculating accuracy for '\n",
      " 'en_brown-sp_europarl-gl_wordnetl-pt_europarl')\n",
      "fasttext_predict     Accuracy: 0.5015       Time: 0.3001248836517334\n",
      "'en_brown-sp_europarl-gl_wikipedia-pt_floresta'\n",
      "('deserializing model for '\n",
      " 'en_brown-sp_europarl-gl_wikipedia-pt_floresta')\n",
      "('calculating accuracy for '\n",
      " 'en_brown-sp_europarl-gl_wikipedia-pt_floresta')\n",
      "fasttext_predict     Accuracy: 0.9755       Time: 0.31078529357910156\n",
      "'en_brown-sp_europarl-gl_wikipedia-pt_wordnet'\n",
      "'creating trigrams for en_brown-sp_europarl-gl_wikipedia-pt_wordnet'\n",
      "('deserializing from '\n",
      " '/media/xurxo/Sistema/tmp/python/corpus/en_brown.corpus')\n",
      "('deserializing from '\n",
      " '/media/xurxo/Sistema/tmp/python/fasttext/trigrams_en_brown')\n",
      "('deserializing from '\n",
      " '/media/xurxo/Sistema/tmp/python/corpus/sp_europarl.corpus')\n",
      "('deserializing from '\n",
      " '/media/xurxo/Sistema/tmp/python/fasttext/trigrams_sp_europarl')\n",
      "('deserializing from '\n",
      " '/media/xurxo/Sistema/tmp/python/corpus/gl_wikipedia.corpus')\n",
      "('deserializing from '\n",
      " '/media/xurxo/Sistema/tmp/python/fasttext/trigrams_gl_wikipedia')\n",
      "('deserializing from '\n",
      " '/media/xurxo/Sistema/tmp/python/corpus/pt_wordnet.corpus')\n",
      "('deserializing from '\n",
      " '/media/xurxo/Sistema/tmp/python/fasttext/trigrams_pt_wordnet')\n",
      "('generating train data for '\n",
      " 'en_brown-sp_europarl-gl_wikipedia-pt_wordnet')\n",
      "[Errno 28] No space left on device\n",
      "'en_brown-sp_europarl-gl_wikipedia-pt_europarl'\n",
      "'creating trigrams for en_brown-sp_europarl-gl_wikipedia-pt_europarl'\n",
      "('deserializing from '\n",
      " '/media/xurxo/Sistema/tmp/python/corpus/en_brown.corpus')\n",
      "('deserializing from '\n",
      " '/media/xurxo/Sistema/tmp/python/fasttext/trigrams_en_brown')\n",
      "('deserializing from '\n",
      " '/media/xurxo/Sistema/tmp/python/corpus/sp_europarl.corpus')\n",
      "('deserializing from '\n",
      " '/media/xurxo/Sistema/tmp/python/fasttext/trigrams_sp_europarl')\n",
      "('deserializing from '\n",
      " '/media/xurxo/Sistema/tmp/python/corpus/gl_wikipedia.corpus')\n",
      "('deserializing from '\n",
      " '/media/xurxo/Sistema/tmp/python/fasttext/trigrams_gl_wikipedia')\n",
      "('deserializing from '\n",
      " '/media/xurxo/Sistema/tmp/python/corpus/pt_wordnet.corpus')\n",
      "('deserializing from '\n",
      " '/media/xurxo/Sistema/tmp/python/fasttext/trigrams_pt_europarl')\n",
      "('generating train data for '\n",
      " 'en_brown-sp_europarl-gl_wikipedia-pt_europarl')\n",
      "[Errno 28] No space left on device\n",
      "'en_wordnet-sp_cess-gl_corga-pt_floresta'\n",
      "'deserializing model for en_wordnet-sp_cess-gl_corga-pt_floresta'\n",
      "'calculating accuracy for en_wordnet-sp_cess-gl_corga-pt_floresta'\n"
     ]
    },
    {
     "name": "stdout",
     "output_type": "stream",
     "text": [
      "fasttext_predict     Accuracy: 0.537       Time: 0.2939167022705078\n",
      "'en_wordnet-sp_cess-gl_corga-pt_wordnet'\n",
      "'deserializing model for en_wordnet-sp_cess-gl_corga-pt_wordnet'\n",
      "'calculating accuracy for en_wordnet-sp_cess-gl_corga-pt_wordnet'\n",
      "fasttext_predict     Accuracy: 0.2885       Time: 0.30063295364379883\n",
      "'en_wordnet-sp_cess-gl_corga-pt_europarl'\n",
      "'deserializing model for en_wordnet-sp_cess-gl_corga-pt_europarl'\n",
      "'calculating accuracy for en_wordnet-sp_cess-gl_corga-pt_europarl'\n",
      "fasttext_predict     Accuracy: 0.2895       Time: 0.29927659034729004\n",
      "'en_wordnet-sp_cess-gl_wordnetl-pt_floresta'\n",
      "'deserializing model for en_wordnet-sp_cess-gl_wordnetl-pt_floresta'\n",
      "'calculating accuracy for en_wordnet-sp_cess-gl_wordnetl-pt_floresta'\n",
      "fasttext_predict     Accuracy: 0.5365       Time: 0.2829318046569824\n",
      "'en_wordnet-sp_cess-gl_wordnetl-pt_wordnet'\n",
      "'deserializing model for en_wordnet-sp_cess-gl_wordnetl-pt_wordnet'\n",
      "'calculating accuracy for en_wordnet-sp_cess-gl_wordnetl-pt_wordnet'\n",
      "fasttext_predict     Accuracy: 0.394       Time: 0.283811092376709\n",
      "'en_wordnet-sp_cess-gl_wordnetl-pt_europarl'\n",
      "'deserializing model for en_wordnet-sp_cess-gl_wordnetl-pt_europarl'\n",
      "'calculating accuracy for en_wordnet-sp_cess-gl_wordnetl-pt_europarl'\n",
      "fasttext_predict     Accuracy: 0.406       Time: 0.29050493240356445\n",
      "'en_wordnet-sp_cess-gl_wikipedia-pt_floresta'\n",
      "'creating trigrams for en_wordnet-sp_cess-gl_wikipedia-pt_floresta'\n",
      "('deserializing from '\n",
      " '/media/xurxo/Sistema/tmp/python/corpus/en_wordnet.corpus')\n",
      "('deserializing from '\n",
      " '/media/xurxo/Sistema/tmp/python/fasttext/trigrams_en_wordnet')\n",
      "('deserializing from '\n",
      " '/media/xurxo/Sistema/tmp/python/corpus/sp_cess.corpus')\n",
      "('deserializing from '\n",
      " '/media/xurxo/Sistema/tmp/python/fasttext/trigrams_sp_cess')\n",
      "('deserializing from '\n",
      " '/media/xurxo/Sistema/tmp/python/corpus/gl_wikipedia.corpus')\n",
      "('deserializing from '\n",
      " '/media/xurxo/Sistema/tmp/python/fasttext/trigrams_gl_wikipedia')\n",
      "('deserializing from '\n",
      " '/media/xurxo/Sistema/tmp/python/corpus/pt_floresta.corpus')\n",
      "('deserializing from '\n",
      " '/media/xurxo/Sistema/tmp/python/fasttext/trigrams_pt_floresta')\n",
      "('generating train data for '\n",
      " 'en_wordnet-sp_cess-gl_wikipedia-pt_floresta')\n",
      "[Errno 28] No space left on device\n",
      "'en_wordnet-sp_cess-gl_wikipedia-pt_wordnet'\n",
      "'creating trigrams for en_wordnet-sp_cess-gl_wikipedia-pt_wordnet'\n",
      "('deserializing from '\n",
      " '/media/xurxo/Sistema/tmp/python/corpus/en_wordnet.corpus')\n",
      "('deserializing from '\n",
      " '/media/xurxo/Sistema/tmp/python/fasttext/trigrams_en_wordnet')\n",
      "('deserializing from '\n",
      " '/media/xurxo/Sistema/tmp/python/corpus/sp_cess.corpus')\n",
      "('deserializing from '\n",
      " '/media/xurxo/Sistema/tmp/python/fasttext/trigrams_sp_cess')\n",
      "('deserializing from '\n",
      " '/media/xurxo/Sistema/tmp/python/corpus/gl_wikipedia.corpus')\n",
      "('deserializing from '\n",
      " '/media/xurxo/Sistema/tmp/python/fasttext/trigrams_gl_wikipedia')\n",
      "('deserializing from '\n",
      " '/media/xurxo/Sistema/tmp/python/corpus/pt_wordnet.corpus')\n",
      "('deserializing from '\n",
      " '/media/xurxo/Sistema/tmp/python/fasttext/trigrams_pt_wordnet')\n",
      "'generating train data for en_wordnet-sp_cess-gl_wikipedia-pt_wordnet'\n",
      "[Errno 28] No space left on device\n",
      "'en_wordnet-sp_cess-gl_wikipedia-pt_europarl'\n",
      "'creating trigrams for en_wordnet-sp_cess-gl_wikipedia-pt_europarl'\n",
      "('deserializing from '\n",
      " '/media/xurxo/Sistema/tmp/python/corpus/en_wordnet.corpus')\n",
      "('deserializing from '\n",
      " '/media/xurxo/Sistema/tmp/python/fasttext/trigrams_en_wordnet')\n",
      "('deserializing from '\n",
      " '/media/xurxo/Sistema/tmp/python/corpus/sp_cess.corpus')\n",
      "('deserializing from '\n",
      " '/media/xurxo/Sistema/tmp/python/fasttext/trigrams_sp_cess')\n",
      "('deserializing from '\n",
      " '/media/xurxo/Sistema/tmp/python/corpus/gl_wikipedia.corpus')\n",
      "('deserializing from '\n",
      " '/media/xurxo/Sistema/tmp/python/fasttext/trigrams_gl_wikipedia')\n",
      "('deserializing from '\n",
      " '/media/xurxo/Sistema/tmp/python/corpus/pt_wordnet.corpus')\n",
      "('deserializing from '\n",
      " '/media/xurxo/Sistema/tmp/python/fasttext/trigrams_pt_europarl')\n",
      "('generating train data for '\n",
      " 'en_wordnet-sp_cess-gl_wikipedia-pt_europarl')\n",
      "[Errno 28] No space left on device\n",
      "'en_wordnet-sp_wordnet-gl_corga-pt_floresta'\n",
      "'deserializing model for en_wordnet-sp_wordnet-gl_corga-pt_floresta'\n",
      "'calculating accuracy for en_wordnet-sp_wordnet-gl_corga-pt_floresta'\n",
      "fasttext_predict     Accuracy: 0.301       Time: 0.29558539390563965\n",
      "'en_wordnet-sp_wordnet-gl_corga-pt_wordnet'\n",
      "'deserializing model for en_wordnet-sp_wordnet-gl_corga-pt_wordnet'\n",
      "'calculating accuracy for en_wordnet-sp_wordnet-gl_corga-pt_wordnet'\n",
      "fasttext_predict     Accuracy: 0.293       Time: 0.2903561592102051\n",
      "'en_wordnet-sp_wordnet-gl_corga-pt_europarl'\n",
      "'deserializing model for en_wordnet-sp_wordnet-gl_corga-pt_europarl'\n",
      "'calculating accuracy for en_wordnet-sp_wordnet-gl_corga-pt_europarl'\n",
      "fasttext_predict     Accuracy: 0.298       Time: 0.2892739772796631\n",
      "'en_wordnet-sp_wordnet-gl_wordnetl-pt_floresta'\n",
      "('deserializing model for '\n",
      " 'en_wordnet-sp_wordnet-gl_wordnetl-pt_floresta')\n",
      "('calculating accuracy for '\n",
      " 'en_wordnet-sp_wordnet-gl_wordnetl-pt_floresta')\n",
      "fasttext_predict     Accuracy: 0.289       Time: 0.2965657711029053\n",
      "'en_wordnet-sp_wordnet-gl_wordnetl-pt_wordnet'\n",
      "'deserializing model for en_wordnet-sp_wordnet-gl_wordnetl-pt_wordnet'\n",
      "('calculating accuracy for '\n",
      " 'en_wordnet-sp_wordnet-gl_wordnetl-pt_wordnet')\n",
      "fasttext_predict     Accuracy: 0.6705       Time: 0.29328346252441406\n",
      "'en_wordnet-sp_wordnet-gl_wordnetl-pt_europarl'\n",
      "('deserializing model for '\n",
      " 'en_wordnet-sp_wordnet-gl_wordnetl-pt_europarl')\n",
      "('calculating accuracy for '\n",
      " 'en_wordnet-sp_wordnet-gl_wordnetl-pt_europarl')\n",
      "fasttext_predict     Accuracy: 0.5825       Time: 0.2916758060455322\n",
      "'en_wordnet-sp_wordnet-gl_wikipedia-pt_floresta'\n",
      "'creating trigrams for en_wordnet-sp_wordnet-gl_wikipedia-pt_floresta'\n",
      "('deserializing from '\n",
      " '/media/xurxo/Sistema/tmp/python/corpus/en_wordnet.corpus')\n",
      "('deserializing from '\n",
      " '/media/xurxo/Sistema/tmp/python/fasttext/trigrams_en_wordnet')\n",
      "('deserializing from '\n",
      " '/media/xurxo/Sistema/tmp/python/corpus/sp_wordnet.corpus')\n",
      "('deserializing from '\n",
      " '/media/xurxo/Sistema/tmp/python/fasttext/trigrams_sp_wordnet')\n",
      "('deserializing from '\n",
      " '/media/xurxo/Sistema/tmp/python/corpus/gl_wikipedia.corpus')\n",
      "('deserializing from '\n",
      " '/media/xurxo/Sistema/tmp/python/fasttext/trigrams_gl_wikipedia')\n",
      "('deserializing from '\n",
      " '/media/xurxo/Sistema/tmp/python/corpus/pt_floresta.corpus')\n",
      "('deserializing from '\n",
      " '/media/xurxo/Sistema/tmp/python/fasttext/trigrams_pt_floresta')\n",
      "('generating train data for '\n",
      " 'en_wordnet-sp_wordnet-gl_wikipedia-pt_floresta')\n",
      "[Errno 28] No space left on device\n",
      "'en_wordnet-sp_wordnet-gl_wikipedia-pt_wordnet'\n",
      "'creating trigrams for en_wordnet-sp_wordnet-gl_wikipedia-pt_wordnet'\n",
      "('deserializing from '\n",
      " '/media/xurxo/Sistema/tmp/python/corpus/en_wordnet.corpus')\n",
      "('deserializing from '\n",
      " '/media/xurxo/Sistema/tmp/python/fasttext/trigrams_en_wordnet')\n",
      "('deserializing from '\n",
      " '/media/xurxo/Sistema/tmp/python/corpus/sp_wordnet.corpus')\n",
      "('deserializing from '\n",
      " '/media/xurxo/Sistema/tmp/python/fasttext/trigrams_sp_wordnet')\n",
      "('deserializing from '\n",
      " '/media/xurxo/Sistema/tmp/python/corpus/gl_wikipedia.corpus')\n",
      "('deserializing from '\n",
      " '/media/xurxo/Sistema/tmp/python/fasttext/trigrams_gl_wikipedia')\n",
      "('deserializing from '\n",
      " '/media/xurxo/Sistema/tmp/python/corpus/pt_wordnet.corpus')\n",
      "('deserializing from '\n",
      " '/media/xurxo/Sistema/tmp/python/fasttext/trigrams_pt_wordnet')\n",
      "('generating train data for '\n",
      " 'en_wordnet-sp_wordnet-gl_wikipedia-pt_wordnet')\n",
      "[Errno 28] No space left on device\n",
      "'en_wordnet-sp_wordnet-gl_wikipedia-pt_europarl'\n",
      "'creating trigrams for en_wordnet-sp_wordnet-gl_wikipedia-pt_europarl'\n",
      "('deserializing from '\n",
      " '/media/xurxo/Sistema/tmp/python/corpus/en_wordnet.corpus')\n",
      "('deserializing from '\n",
      " '/media/xurxo/Sistema/tmp/python/fasttext/trigrams_en_wordnet')\n",
      "('deserializing from '\n",
      " '/media/xurxo/Sistema/tmp/python/corpus/sp_wordnet.corpus')\n",
      "('deserializing from '\n",
      " '/media/xurxo/Sistema/tmp/python/fasttext/trigrams_sp_wordnet')\n",
      "('deserializing from '\n",
      " '/media/xurxo/Sistema/tmp/python/corpus/gl_wikipedia.corpus')\n",
      "('deserializing from '\n",
      " '/media/xurxo/Sistema/tmp/python/fasttext/trigrams_gl_wikipedia')\n",
      "('deserializing from '\n",
      " '/media/xurxo/Sistema/tmp/python/corpus/pt_wordnet.corpus')\n",
      "('deserializing from '\n",
      " '/media/xurxo/Sistema/tmp/python/fasttext/trigrams_pt_europarl')\n",
      "('generating train data for '\n",
      " 'en_wordnet-sp_wordnet-gl_wikipedia-pt_europarl')\n",
      "[Errno 28] No space left on device\n"
     ]
    },
    {
     "name": "stdout",
     "output_type": "stream",
     "text": [
      "'en_wordnet-sp_europarl-gl_corga-pt_floresta'\n",
      "'deserializing model for en_wordnet-sp_europarl-gl_corga-pt_floresta'\n",
      "'calculating accuracy for en_wordnet-sp_europarl-gl_corga-pt_floresta'\n",
      "fasttext_predict     Accuracy: 0.51       Time: 0.29624223709106445\n",
      "'en_wordnet-sp_europarl-gl_corga-pt_wordnet'\n",
      "'deserializing model for en_wordnet-sp_europarl-gl_corga-pt_wordnet'\n",
      "'calculating accuracy for en_wordnet-sp_europarl-gl_corga-pt_wordnet'\n",
      "fasttext_predict     Accuracy: 0.2725       Time: 0.30430150032043457\n",
      "'en_wordnet-sp_europarl-gl_corga-pt_europarl'\n",
      "'deserializing model for en_wordnet-sp_europarl-gl_corga-pt_europarl'\n",
      "'calculating accuracy for en_wordnet-sp_europarl-gl_corga-pt_europarl'\n",
      "fasttext_predict     Accuracy: 0.2715       Time: 0.28708434104919434\n",
      "'en_wordnet-sp_europarl-gl_wordnetl-pt_floresta'\n",
      "('deserializing model for '\n",
      " 'en_wordnet-sp_europarl-gl_wordnetl-pt_floresta')\n",
      "('calculating accuracy for '\n",
      " 'en_wordnet-sp_europarl-gl_wordnetl-pt_floresta')\n",
      "fasttext_predict     Accuracy: 0.507       Time: 0.30156898498535156\n",
      "'en_wordnet-sp_europarl-gl_wordnetl-pt_wordnet'\n",
      "('deserializing model for '\n",
      " 'en_wordnet-sp_europarl-gl_wordnetl-pt_wordnet')\n",
      "('calculating accuracy for '\n",
      " 'en_wordnet-sp_europarl-gl_wordnetl-pt_wordnet')\n",
      "fasttext_predict     Accuracy: 0.2645       Time: 0.29858970642089844\n",
      "'en_wordnet-sp_europarl-gl_wordnetl-pt_europarl'\n",
      "('deserializing model for '\n",
      " 'en_wordnet-sp_europarl-gl_wordnetl-pt_europarl')\n",
      "('calculating accuracy for '\n",
      " 'en_wordnet-sp_europarl-gl_wordnetl-pt_europarl')\n",
      "fasttext_predict     Accuracy: 0.2625       Time: 0.3029477596282959\n",
      "'en_wordnet-sp_europarl-gl_wikipedia-pt_floresta'\n",
      "('creating trigrams for '\n",
      " 'en_wordnet-sp_europarl-gl_wikipedia-pt_floresta')\n",
      "('deserializing from '\n",
      " '/media/xurxo/Sistema/tmp/python/corpus/en_wordnet.corpus')\n",
      "('deserializing from '\n",
      " '/media/xurxo/Sistema/tmp/python/fasttext/trigrams_en_wordnet')\n",
      "('deserializing from '\n",
      " '/media/xurxo/Sistema/tmp/python/corpus/sp_europarl.corpus')\n",
      "('deserializing from '\n",
      " '/media/xurxo/Sistema/tmp/python/fasttext/trigrams_sp_europarl')\n",
      "('deserializing from '\n",
      " '/media/xurxo/Sistema/tmp/python/corpus/gl_wikipedia.corpus')\n",
      "('deserializing from '\n",
      " '/media/xurxo/Sistema/tmp/python/fasttext/trigrams_gl_wikipedia')\n",
      "('deserializing from '\n",
      " '/media/xurxo/Sistema/tmp/python/corpus/pt_floresta.corpus')\n",
      "('deserializing from '\n",
      " '/media/xurxo/Sistema/tmp/python/fasttext/trigrams_pt_floresta')\n",
      "('generating train data for '\n",
      " 'en_wordnet-sp_europarl-gl_wikipedia-pt_floresta')\n",
      "[Errno 28] No space left on device\n",
      "'en_wordnet-sp_europarl-gl_wikipedia-pt_wordnet'\n",
      "'creating trigrams for en_wordnet-sp_europarl-gl_wikipedia-pt_wordnet'\n",
      "('deserializing from '\n",
      " '/media/xurxo/Sistema/tmp/python/corpus/en_wordnet.corpus')\n",
      "('deserializing from '\n",
      " '/media/xurxo/Sistema/tmp/python/fasttext/trigrams_en_wordnet')\n",
      "('deserializing from '\n",
      " '/media/xurxo/Sistema/tmp/python/corpus/sp_europarl.corpus')\n",
      "('deserializing from '\n",
      " '/media/xurxo/Sistema/tmp/python/fasttext/trigrams_sp_europarl')\n",
      "('deserializing from '\n",
      " '/media/xurxo/Sistema/tmp/python/corpus/gl_wikipedia.corpus')\n",
      "('deserializing from '\n",
      " '/media/xurxo/Sistema/tmp/python/fasttext/trigrams_gl_wikipedia')\n",
      "('deserializing from '\n",
      " '/media/xurxo/Sistema/tmp/python/corpus/pt_wordnet.corpus')\n",
      "('deserializing from '\n",
      " '/media/xurxo/Sistema/tmp/python/fasttext/trigrams_pt_wordnet')\n",
      "('generating train data for '\n",
      " 'en_wordnet-sp_europarl-gl_wikipedia-pt_wordnet')\n",
      "[Errno 28] No space left on device\n",
      "'en_wordnet-sp_europarl-gl_wikipedia-pt_europarl'\n",
      "('creating trigrams for '\n",
      " 'en_wordnet-sp_europarl-gl_wikipedia-pt_europarl')\n",
      "('deserializing from '\n",
      " '/media/xurxo/Sistema/tmp/python/corpus/en_wordnet.corpus')\n",
      "('deserializing from '\n",
      " '/media/xurxo/Sistema/tmp/python/fasttext/trigrams_en_wordnet')\n",
      "('deserializing from '\n",
      " '/media/xurxo/Sistema/tmp/python/corpus/sp_europarl.corpus')\n",
      "('deserializing from '\n",
      " '/media/xurxo/Sistema/tmp/python/fasttext/trigrams_sp_europarl')\n",
      "('deserializing from '\n",
      " '/media/xurxo/Sistema/tmp/python/corpus/gl_wikipedia.corpus')\n",
      "('deserializing from '\n",
      " '/media/xurxo/Sistema/tmp/python/fasttext/trigrams_gl_wikipedia')\n",
      "('deserializing from '\n",
      " '/media/xurxo/Sistema/tmp/python/corpus/pt_wordnet.corpus')\n",
      "('deserializing from '\n",
      " '/media/xurxo/Sistema/tmp/python/fasttext/trigrams_pt_europarl')\n",
      "('generating train data for '\n",
      " 'en_wordnet-sp_europarl-gl_wikipedia-pt_europarl')\n",
      "[Errno 28] No space left on device\n",
      "'en_europarl-sp_cess-gl_corga-pt_floresta'\n",
      "'deserializing model for en_europarl-sp_cess-gl_corga-pt_floresta'\n",
      "'calculating accuracy for en_europarl-sp_cess-gl_corga-pt_floresta'\n",
      "fasttext_predict     Accuracy: 0.7685       Time: 0.28698134422302246\n",
      "'en_europarl-sp_cess-gl_corga-pt_wordnet'\n",
      "'deserializing model for en_europarl-sp_cess-gl_corga-pt_wordnet'\n",
      "'calculating accuracy for en_europarl-sp_cess-gl_corga-pt_wordnet'\n",
      "fasttext_predict     Accuracy: 0.507       Time: 0.303189754486084\n",
      "'en_europarl-sp_cess-gl_corga-pt_europarl'\n",
      "'deserializing model for en_europarl-sp_cess-gl_corga-pt_europarl'\n",
      "'calculating accuracy for en_europarl-sp_cess-gl_corga-pt_europarl'\n",
      "fasttext_predict     Accuracy: 0.508       Time: 0.3065183162689209\n",
      "'en_europarl-sp_cess-gl_wordnetl-pt_floresta'\n",
      "'deserializing model for en_europarl-sp_cess-gl_wordnetl-pt_floresta'\n",
      "'calculating accuracy for en_europarl-sp_cess-gl_wordnetl-pt_floresta'\n",
      "fasttext_predict     Accuracy: 0.7395       Time: 0.2961137294769287\n",
      "'en_europarl-sp_cess-gl_wordnetl-pt_wordnet'\n",
      "'deserializing model for en_europarl-sp_cess-gl_wordnetl-pt_wordnet'\n",
      "'calculating accuracy for en_europarl-sp_cess-gl_wordnetl-pt_wordnet'\n",
      "fasttext_predict     Accuracy: 0.5015       Time: 0.3006269931793213\n",
      "'en_europarl-sp_cess-gl_wordnetl-pt_europarl'\n",
      "'deserializing model for en_europarl-sp_cess-gl_wordnetl-pt_europarl'\n",
      "'calculating accuracy for en_europarl-sp_cess-gl_wordnetl-pt_europarl'\n",
      "fasttext_predict     Accuracy: 0.5015       Time: 0.29507875442504883\n",
      "'en_europarl-sp_cess-gl_wikipedia-pt_floresta'\n",
      "'creating trigrams for en_europarl-sp_cess-gl_wikipedia-pt_floresta'\n",
      "('deserializing from '\n",
      " '/media/xurxo/Sistema/tmp/python/corpus/en_europarl.corpus')\n",
      "('deserializing from '\n",
      " '/media/xurxo/Sistema/tmp/python/fasttext/trigrams_en_europarl')\n",
      "('deserializing from '\n",
      " '/media/xurxo/Sistema/tmp/python/corpus/sp_cess.corpus')\n",
      "('deserializing from '\n",
      " '/media/xurxo/Sistema/tmp/python/fasttext/trigrams_sp_cess')\n",
      "('deserializing from '\n",
      " '/media/xurxo/Sistema/tmp/python/corpus/gl_wikipedia.corpus')\n",
      "('deserializing from '\n",
      " '/media/xurxo/Sistema/tmp/python/fasttext/trigrams_gl_wikipedia')\n",
      "('deserializing from '\n",
      " '/media/xurxo/Sistema/tmp/python/corpus/pt_floresta.corpus')\n",
      "('deserializing from '\n",
      " '/media/xurxo/Sistema/tmp/python/fasttext/trigrams_pt_floresta')\n",
      "('generating train data for '\n",
      " 'en_europarl-sp_cess-gl_wikipedia-pt_floresta')\n",
      "[Errno 28] No space left on device\n",
      "'en_europarl-sp_cess-gl_wikipedia-pt_wordnet'\n",
      "'creating trigrams for en_europarl-sp_cess-gl_wikipedia-pt_wordnet'\n",
      "('deserializing from '\n",
      " '/media/xurxo/Sistema/tmp/python/corpus/en_europarl.corpus')\n",
      "('deserializing from '\n",
      " '/media/xurxo/Sistema/tmp/python/fasttext/trigrams_en_europarl')\n",
      "('deserializing from '\n",
      " '/media/xurxo/Sistema/tmp/python/corpus/sp_cess.corpus')\n",
      "('deserializing from '\n",
      " '/media/xurxo/Sistema/tmp/python/fasttext/trigrams_sp_cess')\n",
      "('deserializing from '\n",
      " '/media/xurxo/Sistema/tmp/python/corpus/gl_wikipedia.corpus')\n",
      "('deserializing from '\n",
      " '/media/xurxo/Sistema/tmp/python/fasttext/trigrams_gl_wikipedia')\n",
      "('deserializing from '\n",
      " '/media/xurxo/Sistema/tmp/python/corpus/pt_wordnet.corpus')\n",
      "('deserializing from '\n",
      " '/media/xurxo/Sistema/tmp/python/fasttext/trigrams_pt_wordnet')\n",
      "('generating train data for '\n",
      " 'en_europarl-sp_cess-gl_wikipedia-pt_wordnet')\n",
      "[Errno 28] No space left on device\n",
      "'en_europarl-sp_cess-gl_wikipedia-pt_europarl'\n",
      "'creating trigrams for en_europarl-sp_cess-gl_wikipedia-pt_europarl'\n",
      "('deserializing from '\n",
      " '/media/xurxo/Sistema/tmp/python/corpus/en_europarl.corpus')\n",
      "('deserializing from '\n",
      " '/media/xurxo/Sistema/tmp/python/fasttext/trigrams_en_europarl')\n",
      "('deserializing from '\n",
      " '/media/xurxo/Sistema/tmp/python/corpus/sp_cess.corpus')\n",
      "('deserializing from '\n",
      " '/media/xurxo/Sistema/tmp/python/fasttext/trigrams_sp_cess')\n"
     ]
    },
    {
     "name": "stdout",
     "output_type": "stream",
     "text": [
      "('deserializing from '\n",
      " '/media/xurxo/Sistema/tmp/python/corpus/gl_wikipedia.corpus')\n",
      "('deserializing from '\n",
      " '/media/xurxo/Sistema/tmp/python/fasttext/trigrams_gl_wikipedia')\n",
      "('deserializing from '\n",
      " '/media/xurxo/Sistema/tmp/python/corpus/pt_wordnet.corpus')\n",
      "('deserializing from '\n",
      " '/media/xurxo/Sistema/tmp/python/fasttext/trigrams_pt_europarl')\n",
      "('generating train data for '\n",
      " 'en_europarl-sp_cess-gl_wikipedia-pt_europarl')\n",
      "[Errno 28] No space left on device\n",
      "'en_europarl-sp_wordnet-gl_corga-pt_floresta'\n",
      "'deserializing model for en_europarl-sp_wordnet-gl_corga-pt_floresta'\n",
      "'calculating accuracy for en_europarl-sp_wordnet-gl_corga-pt_floresta'\n",
      "fasttext_predict     Accuracy: 0.5155       Time: 0.2864816188812256\n",
      "'en_europarl-sp_wordnet-gl_corga-pt_wordnet'\n",
      "'deserializing model for en_europarl-sp_wordnet-gl_corga-pt_wordnet'\n",
      "'calculating accuracy for en_europarl-sp_wordnet-gl_corga-pt_wordnet'\n",
      "fasttext_predict     Accuracy: 0.49       Time: 0.2965259552001953\n",
      "'en_europarl-sp_wordnet-gl_corga-pt_europarl'\n",
      "'deserializing model for en_europarl-sp_wordnet-gl_corga-pt_europarl'\n",
      "'calculating accuracy for en_europarl-sp_wordnet-gl_corga-pt_europarl'\n",
      "fasttext_predict     Accuracy: 0.48       Time: 0.29677629470825195\n",
      "'en_europarl-sp_wordnet-gl_wordnetl-pt_floresta'\n",
      "('deserializing model for '\n",
      " 'en_europarl-sp_wordnet-gl_wordnetl-pt_floresta')\n",
      "('calculating accuracy for '\n",
      " 'en_europarl-sp_wordnet-gl_wordnetl-pt_floresta')\n",
      "fasttext_predict     Accuracy: 0.491       Time: 0.2964303493499756\n",
      "'en_europarl-sp_wordnet-gl_wordnetl-pt_wordnet'\n",
      "('deserializing model for '\n",
      " 'en_europarl-sp_wordnet-gl_wordnetl-pt_wordnet')\n",
      "('calculating accuracy for '\n",
      " 'en_europarl-sp_wordnet-gl_wordnetl-pt_wordnet')\n",
      "fasttext_predict     Accuracy: 0.262       Time: 0.30877685546875\n",
      "'en_europarl-sp_wordnet-gl_wordnetl-pt_europarl'\n",
      "('deserializing model for '\n",
      " 'en_europarl-sp_wordnet-gl_wordnetl-pt_europarl')\n",
      "('calculating accuracy for '\n",
      " 'en_europarl-sp_wordnet-gl_wordnetl-pt_europarl')\n",
      "fasttext_predict     Accuracy: 0.2655       Time: 0.29439282417297363\n",
      "'en_europarl-sp_wordnet-gl_wikipedia-pt_floresta'\n",
      "('creating trigrams for '\n",
      " 'en_europarl-sp_wordnet-gl_wikipedia-pt_floresta')\n",
      "('deserializing from '\n",
      " '/media/xurxo/Sistema/tmp/python/corpus/en_europarl.corpus')\n",
      "('deserializing from '\n",
      " '/media/xurxo/Sistema/tmp/python/fasttext/trigrams_en_europarl')\n",
      "('deserializing from '\n",
      " '/media/xurxo/Sistema/tmp/python/corpus/sp_wordnet.corpus')\n",
      "('deserializing from '\n",
      " '/media/xurxo/Sistema/tmp/python/fasttext/trigrams_sp_wordnet')\n",
      "('deserializing from '\n",
      " '/media/xurxo/Sistema/tmp/python/corpus/gl_wikipedia.corpus')\n",
      "('deserializing from '\n",
      " '/media/xurxo/Sistema/tmp/python/fasttext/trigrams_gl_wikipedia')\n",
      "('deserializing from '\n",
      " '/media/xurxo/Sistema/tmp/python/corpus/pt_floresta.corpus')\n",
      "('deserializing from '\n",
      " '/media/xurxo/Sistema/tmp/python/fasttext/trigrams_pt_floresta')\n",
      "('generating train data for '\n",
      " 'en_europarl-sp_wordnet-gl_wikipedia-pt_floresta')\n",
      "[Errno 28] No space left on device\n",
      "'en_europarl-sp_wordnet-gl_wikipedia-pt_wordnet'\n",
      "'creating trigrams for en_europarl-sp_wordnet-gl_wikipedia-pt_wordnet'\n",
      "('deserializing from '\n",
      " '/media/xurxo/Sistema/tmp/python/corpus/en_europarl.corpus')\n",
      "('deserializing from '\n",
      " '/media/xurxo/Sistema/tmp/python/fasttext/trigrams_en_europarl')\n",
      "('deserializing from '\n",
      " '/media/xurxo/Sistema/tmp/python/corpus/sp_wordnet.corpus')\n",
      "('deserializing from '\n",
      " '/media/xurxo/Sistema/tmp/python/fasttext/trigrams_sp_wordnet')\n",
      "('deserializing from '\n",
      " '/media/xurxo/Sistema/tmp/python/corpus/gl_wikipedia.corpus')\n",
      "('deserializing from '\n",
      " '/media/xurxo/Sistema/tmp/python/fasttext/trigrams_gl_wikipedia')\n",
      "('deserializing from '\n",
      " '/media/xurxo/Sistema/tmp/python/corpus/pt_wordnet.corpus')\n",
      "('deserializing from '\n",
      " '/media/xurxo/Sistema/tmp/python/fasttext/trigrams_pt_wordnet')\n",
      "('generating train data for '\n",
      " 'en_europarl-sp_wordnet-gl_wikipedia-pt_wordnet')\n",
      "[Errno 28] No space left on device\n",
      "'en_europarl-sp_wordnet-gl_wikipedia-pt_europarl'\n",
      "('creating trigrams for '\n",
      " 'en_europarl-sp_wordnet-gl_wikipedia-pt_europarl')\n",
      "('deserializing from '\n",
      " '/media/xurxo/Sistema/tmp/python/corpus/en_europarl.corpus')\n",
      "('deserializing from '\n",
      " '/media/xurxo/Sistema/tmp/python/fasttext/trigrams_en_europarl')\n",
      "('deserializing from '\n",
      " '/media/xurxo/Sistema/tmp/python/corpus/sp_wordnet.corpus')\n",
      "('deserializing from '\n",
      " '/media/xurxo/Sistema/tmp/python/fasttext/trigrams_sp_wordnet')\n",
      "('deserializing from '\n",
      " '/media/xurxo/Sistema/tmp/python/corpus/gl_wikipedia.corpus')\n",
      "('deserializing from '\n",
      " '/media/xurxo/Sistema/tmp/python/fasttext/trigrams_gl_wikipedia')\n",
      "('deserializing from '\n",
      " '/media/xurxo/Sistema/tmp/python/corpus/pt_wordnet.corpus')\n",
      "('deserializing from '\n",
      " '/media/xurxo/Sistema/tmp/python/fasttext/trigrams_pt_europarl')\n",
      "('generating train data for '\n",
      " 'en_europarl-sp_wordnet-gl_wikipedia-pt_europarl')\n",
      "[Errno 28] No space left on device\n",
      "'en_europarl-sp_europarl-gl_corga-pt_floresta'\n",
      "'deserializing model for en_europarl-sp_europarl-gl_corga-pt_floresta'\n",
      "('calculating accuracy for '\n",
      " 'en_europarl-sp_europarl-gl_corga-pt_floresta')\n",
      "fasttext_predict     Accuracy: 0.7785       Time: 0.2868504524230957\n",
      "'en_europarl-sp_europarl-gl_corga-pt_wordnet'\n",
      "'deserializing model for en_europarl-sp_europarl-gl_corga-pt_wordnet'\n",
      "'calculating accuracy for en_europarl-sp_europarl-gl_corga-pt_wordnet'\n",
      "fasttext_predict     Accuracy: 0.507       Time: 0.3011806011199951\n",
      "'en_europarl-sp_europarl-gl_corga-pt_europarl'\n",
      "'deserializing model for en_europarl-sp_europarl-gl_corga-pt_europarl'\n",
      "('calculating accuracy for '\n",
      " 'en_europarl-sp_europarl-gl_corga-pt_europarl')\n",
      "fasttext_predict     Accuracy: 0.506       Time: 0.2950911521911621\n",
      "'en_europarl-sp_europarl-gl_wordnetl-pt_floresta'\n",
      "('deserializing model for '\n",
      " 'en_europarl-sp_europarl-gl_wordnetl-pt_floresta')\n",
      "('calculating accuracy for '\n",
      " 'en_europarl-sp_europarl-gl_wordnetl-pt_floresta')\n",
      "fasttext_predict     Accuracy: 0.7415       Time: 0.30755066871643066\n",
      "'en_europarl-sp_europarl-gl_wordnetl-pt_wordnet'\n",
      "('deserializing model for '\n",
      " 'en_europarl-sp_europarl-gl_wordnetl-pt_wordnet')\n",
      "('calculating accuracy for '\n",
      " 'en_europarl-sp_europarl-gl_wordnetl-pt_wordnet')\n",
      "fasttext_predict     Accuracy: 0.501       Time: 0.30520009994506836\n",
      "'en_europarl-sp_europarl-gl_wordnetl-pt_europarl'\n",
      "('deserializing model for '\n",
      " 'en_europarl-sp_europarl-gl_wordnetl-pt_europarl')\n",
      "('calculating accuracy for '\n",
      " 'en_europarl-sp_europarl-gl_wordnetl-pt_europarl')\n",
      "fasttext_predict     Accuracy: 0.501       Time: 0.29348278045654297\n",
      "'en_europarl-sp_europarl-gl_wikipedia-pt_floresta'\n",
      "('creating trigrams for '\n",
      " 'en_europarl-sp_europarl-gl_wikipedia-pt_floresta')\n",
      "('deserializing from '\n",
      " '/media/xurxo/Sistema/tmp/python/corpus/en_europarl.corpus')\n",
      "('deserializing from '\n",
      " '/media/xurxo/Sistema/tmp/python/fasttext/trigrams_en_europarl')\n",
      "('deserializing from '\n",
      " '/media/xurxo/Sistema/tmp/python/corpus/sp_europarl.corpus')\n",
      "('deserializing from '\n",
      " '/media/xurxo/Sistema/tmp/python/fasttext/trigrams_sp_europarl')\n",
      "('deserializing from '\n",
      " '/media/xurxo/Sistema/tmp/python/corpus/gl_wikipedia.corpus')\n",
      "('deserializing from '\n",
      " '/media/xurxo/Sistema/tmp/python/fasttext/trigrams_gl_wikipedia')\n",
      "('deserializing from '\n",
      " '/media/xurxo/Sistema/tmp/python/corpus/pt_floresta.corpus')\n",
      "('deserializing from '\n",
      " '/media/xurxo/Sistema/tmp/python/fasttext/trigrams_pt_floresta')\n",
      "('generating train data for '\n",
      " 'en_europarl-sp_europarl-gl_wikipedia-pt_floresta')\n",
      "[Errno 28] No space left on device\n",
      "'en_europarl-sp_europarl-gl_wikipedia-pt_wordnet'\n",
      "('creating trigrams for '\n",
      " 'en_europarl-sp_europarl-gl_wikipedia-pt_wordnet')\n",
      "('deserializing from '\n",
      " '/media/xurxo/Sistema/tmp/python/corpus/en_europarl.corpus')\n",
      "('deserializing from '\n",
      " '/media/xurxo/Sistema/tmp/python/fasttext/trigrams_en_europarl')\n",
      "('deserializing from '\n",
      " '/media/xurxo/Sistema/tmp/python/corpus/sp_europarl.corpus')\n",
      "('deserializing from '\n",
      " '/media/xurxo/Sistema/tmp/python/fasttext/trigrams_sp_europarl')\n",
      "('deserializing from '\n",
      " '/media/xurxo/Sistema/tmp/python/corpus/gl_wikipedia.corpus')\n",
      "('deserializing from '\n",
      " '/media/xurxo/Sistema/tmp/python/fasttext/trigrams_gl_wikipedia')\n",
      "('deserializing from '\n",
      " '/media/xurxo/Sistema/tmp/python/corpus/pt_wordnet.corpus')\n",
      "('deserializing from '\n",
      " '/media/xurxo/Sistema/tmp/python/fasttext/trigrams_pt_wordnet')\n"
     ]
    },
    {
     "name": "stdout",
     "output_type": "stream",
     "text": [
      "('generating train data for '\n",
      " 'en_europarl-sp_europarl-gl_wikipedia-pt_wordnet')\n",
      "[Errno 28] No space left on device\n",
      "'en_europarl-sp_europarl-gl_wikipedia-pt_europarl'\n",
      "('creating trigrams for '\n",
      " 'en_europarl-sp_europarl-gl_wikipedia-pt_europarl')\n",
      "('deserializing from '\n",
      " '/media/xurxo/Sistema/tmp/python/corpus/en_europarl.corpus')\n",
      "('deserializing from '\n",
      " '/media/xurxo/Sistema/tmp/python/fasttext/trigrams_en_europarl')\n",
      "('deserializing from '\n",
      " '/media/xurxo/Sistema/tmp/python/corpus/sp_europarl.corpus')\n",
      "('deserializing from '\n",
      " '/media/xurxo/Sistema/tmp/python/fasttext/trigrams_sp_europarl')\n",
      "('deserializing from '\n",
      " '/media/xurxo/Sistema/tmp/python/corpus/gl_wikipedia.corpus')\n",
      "('deserializing from '\n",
      " '/media/xurxo/Sistema/tmp/python/fasttext/trigrams_gl_wikipedia')\n",
      "('deserializing from '\n",
      " '/media/xurxo/Sistema/tmp/python/corpus/pt_wordnet.corpus')\n",
      "('deserializing from '\n",
      " '/media/xurxo/Sistema/tmp/python/fasttext/trigrams_pt_europarl')\n",
      "('generating train data for '\n",
      " 'en_europarl-sp_europarl-gl_wikipedia-pt_europarl')\n",
      "[Errno 28] No space left on device\n"
     ]
    },
    {
     "data": {
      "image/png": "[encoded data removed]",
      "text/plain": [
       "<Figure size 432x288 with 1 Axes>"
      ]
     },
     "metadata": {
      "needs_background": "light"
     },
     "output_type": "display_data"
    }
   ],
   "source": [
    "\n",
    "results = {}\n",
    "best_combo = []\n",
    "best_vocab_accuracy = 0\n",
    "#for english_corpus, english_vocab in all_vocab['english'].items():\n",
    "#    for spanish_corpus, spanish_vocab in all_vocab['spanish'].items():\n",
    "#        for galician_corpus, galician_vocab in all_vocab['galician'].items():\n",
    "#            for portuguese_corpus, portuguese_vocab in all_vocab['portuguese'].items():\n",
    "combinations =  [[[lang, corpus_name, corpus] \n",
    "                  for corpus_name, corpus in corpora.items()] \n",
    "                 for lang, corpora in all_corpus.items()]\n",
    "for combo in product(*combinations):\n",
    "    gc.collect()\n",
    "    try:\n",
    "        doc_set = [(c[0],c[2]) for c in combo]\n",
    "        corpus_names = {c[0]:c[1] for c in combo}\n",
    "        combo_name = '-'.join([c[1] for c in combo])\n",
    "        pp.pprint(combo_name)\n",
    "        results[combo_name] =  detect_fasttext (combo_name, doc_set, corpus_names)\n",
    "    #accuracy = compute_accuracy_tokens(titles_sentences, detect_vocab, plot_confusion=False) \n",
    "    #results[combo_name]  = accuracy\n",
    "    #if (accuracy > best_vocab_accuracy):\n",
    "    #    best_vocab_accuracy = accuracy\n",
    "    #    best_combo = vocabs\n",
    "    except Exception as e:\n",
    "                    print (e) \n",
    "        "
   ]
  },
  {
   "cell_type": "code",
   "execution_count": 73,
   "metadata": {},
   "outputs": [
    {
     "data": {
      "text/plain": [
       "[('en_brown-sp_wordnet-gl_wordnetl-pt_europarl', 0.262),\n",
       " ('en_europarl-sp_wordnet-gl_wordnetl-pt_wordnet', 0.262),\n",
       " ('en_wordnet-sp_europarl-gl_wordnetl-pt_europarl', 0.2625),\n",
       " ('en_brown-sp_wordnet-gl_wordnetl-pt_wordnet', 0.264),\n",
       " ('en_wordnet-sp_europarl-gl_wordnetl-pt_wordnet', 0.2645),\n",
       " ('en_europarl-sp_wordnet-gl_wordnetl-pt_europarl', 0.2655),\n",
       " ('en_wordnet-sp_europarl-gl_corga-pt_europarl', 0.2715),\n",
       " ('en_wordnet-sp_europarl-gl_corga-pt_wordnet', 0.2725),\n",
       " ('en_wordnet-sp_cess-gl_corga-pt_wordnet', 0.2885),\n",
       " ('en_wordnet-sp_wordnet-gl_wordnetl-pt_floresta', 0.289),\n",
       " ('en_wordnet-sp_cess-gl_corga-pt_europarl', 0.2895),\n",
       " ('en_wordnet-sp_wordnet-gl_corga-pt_wordnet', 0.293),\n",
       " ('en_wordnet-sp_wordnet-gl_corga-pt_europarl', 0.298),\n",
       " ('en_wordnet-sp_wordnet-gl_corga-pt_floresta', 0.301),\n",
       " ('en_wordnet-sp_cess-gl_wordnetl-pt_wordnet', 0.394),\n",
       " ('en_wordnet-sp_cess-gl_wordnetl-pt_europarl', 0.406),\n",
       " ('en_europarl-sp_wordnet-gl_corga-pt_europarl', 0.48),\n",
       " ('en_europarl-sp_wordnet-gl_corga-pt_wordnet', 0.49),\n",
       " ('en_europarl-sp_wordnet-gl_wordnetl-pt_floresta', 0.491),\n",
       " ('en_brown-sp_wordnet-gl_wordnetl-pt_floresta', 0.493),\n",
       " ('en_brown-sp_wordnet-gl_corga-pt_wordnet', 0.496),\n",
       " ('en_brown-sp_wordnet-gl_corga-pt_europarl', 0.4975),\n",
       " ('en_brown-sp_wordnet-gl_wikipedia-pt_wordnet', 0.4985),\n",
       " ('en_brown-sp_wordnet-gl_wikipedia-pt_europarl', 0.4985),\n",
       " ('en_europarl-sp_europarl-gl_wordnetl-pt_wordnet', 0.501),\n",
       " ('en_europarl-sp_europarl-gl_wordnetl-pt_europarl', 0.501),\n",
       " ('en_brown-sp_cess-gl_wordnetl-pt_wordnet', 0.5015),\n",
       " ('en_brown-sp_europarl-gl_wordnetl-pt_wordnet', 0.5015),\n",
       " ('en_brown-sp_europarl-gl_wordnetl-pt_europarl', 0.5015),\n",
       " ('en_europarl-sp_cess-gl_wordnetl-pt_wordnet', 0.5015),\n",
       " ('en_europarl-sp_cess-gl_wordnetl-pt_europarl', 0.5015),\n",
       " ('en_brown-sp_cess-gl_wordnetl-pt_europarl', 0.502),\n",
       " ('en_europarl-sp_europarl-gl_corga-pt_europarl', 0.506),\n",
       " ('en_wordnet-sp_europarl-gl_wordnetl-pt_floresta', 0.507),\n",
       " ('en_europarl-sp_cess-gl_corga-pt_wordnet', 0.507),\n",
       " ('en_europarl-sp_europarl-gl_corga-pt_wordnet', 0.507),\n",
       " ('en_europarl-sp_cess-gl_corga-pt_europarl', 0.508),\n",
       " ('en_wordnet-sp_europarl-gl_corga-pt_floresta', 0.51),\n",
       " ('en_brown-sp_europarl-gl_corga-pt_europarl', 0.5125),\n",
       " ('en_brown-sp_cess-gl_corga-pt_europarl', 0.513),\n",
       " ('en_brown-sp_europarl-gl_corga-pt_wordnet', 0.513),\n",
       " ('en_europarl-sp_wordnet-gl_corga-pt_floresta', 0.5155),\n",
       " ('en_brown-sp_cess-gl_corga-pt_wordnet', 0.516),\n",
       " ('en_brown-sp_wordnet-gl_corga-pt_floresta', 0.52),\n",
       " ('en_wordnet-sp_cess-gl_wordnetl-pt_floresta', 0.5365),\n",
       " ('en_wordnet-sp_cess-gl_corga-pt_floresta', 0.537),\n",
       " ('en_wordnet-sp_wordnet-gl_wordnetl-pt_europarl', 0.5825),\n",
       " ('en_wordnet-sp_wordnet-gl_wordnetl-pt_wordnet', 0.6705),\n",
       " ('en_brown-sp_wordnet-gl_wikipedia-pt_floresta', 0.725),\n",
       " ('en_europarl-sp_cess-gl_wordnetl-pt_floresta', 0.7395),\n",
       " ('en_brown-sp_cess-gl_wordnetl-pt_floresta', 0.7415),\n",
       " ('en_brown-sp_europarl-gl_wordnetl-pt_floresta', 0.7415),\n",
       " ('en_europarl-sp_europarl-gl_wordnetl-pt_floresta', 0.7415),\n",
       " ('en_brown-sp_cess-gl_wikipedia-pt_wordnet', 0.7475),\n",
       " ('en_brown-sp_cess-gl_wikipedia-pt_europarl', 0.7475),\n",
       " ('en_europarl-sp_cess-gl_corga-pt_floresta', 0.7685),\n",
       " ('en_brown-sp_europarl-gl_corga-pt_floresta', 0.774),\n",
       " ('en_brown-sp_cess-gl_corga-pt_floresta', 0.775),\n",
       " ('en_europarl-sp_europarl-gl_corga-pt_floresta', 0.7785),\n",
       " ('en_brown-sp_cess-gl_wikipedia-pt_floresta', 0.9755),\n",
       " ('en_brown-sp_europarl-gl_wikipedia-pt_floresta', 0.9755)]"
      ]
     },
     "execution_count": 73,
     "metadata": {},
     "output_type": "execute_result"
    }
   ],
   "source": [
    "\n",
    "\n",
    "sorted(results.items(), key=itemgetter(1))"
   ]
  },
  {
   "cell_type": "code",
   "execution_count": 67,
   "metadata": {},
   "outputs": [
    {
     "name": "stdout",
     "output_type": "stream",
     "text": [
      "fasttext_predict     Accuracy: 0.9755       Time: 0.28797221183776855\n"
     ]
    },
    {
     "data": {
      "text/plain": [
       "0.9755"
      ]
     },
     "execution_count": 67,
     "metadata": {},
     "output_type": "execute_result"
    },
    {
     "data": {
      "image/png": "[encoded data removed]",
      "text/plain": [
       "<Figure size 432x288 with 1 Axes>"
      ]
     },
     "metadata": {
      "needs_background": "light"
     },
     "output_type": "display_data"
    }
   ],
   "source": [
    "if include_pt:\n",
    "    model_fname = f'{tmp_dir}/fasttext/model_fasttext_' + 'en_brown-sp_cess-gl_wikipedia-pt_floresta'\n",
    "else:\n",
    "    model_fname = f'{tmp_dir}/fasttext/model_fasttext_' + 'en_brown-sp_europarl-gl_wikipedia'\n",
    "model = FastText(model_fname + '.bin')\n",
    "predictor = fasttext_predict (model)\n",
    "\n",
    "compute_accuracy_sentences(titles_sentences, predictor, verbose=False) \n",
    "    "
   ]
  },
  {
   "cell_type": "markdown",
   "metadata": {},
   "source": [
    "# textpipe\n",
    "\n",
    "https://github.com/textpipe/textpipe\n",
    "\n",
    "```bash\n",
    "pip install textpipe\n",
    "```\n",
    "\n",
    "textpipe is a Python package for converting raw text in to clean, readable text and extracting metadata from that text. Its functionalities include transforming raw text into readable text by removing HTML tags and extracting metadata such as the number of words and named entities from the text.\n"
   ]
  },
  {
   "cell_type": "code",
   "execution_count": 68,
   "metadata": {},
   "outputs": [
    {
     "name": "stdout",
     "output_type": "stream",
     "text": [
      "detect_textpipe     Accuracy: 0.967       Time: 1.0388920307159424\n"
     ]
    },
    {
     "data": {
      "text/plain": [
       "0.967"
      ]
     },
     "execution_count": 68,
     "metadata": {},
     "output_type": "execute_result"
    },
    {
     "data": {
      "image/png": "[encoded data removed]",
      "text/plain": [
       "<Figure size 432x288 with 1 Axes>"
      ]
     },
     "metadata": {
      "needs_background": "light"
     },
     "output_type": "display_data"
    }
   ],
   "source": [
    "from textpipe import doc, pipeline\n",
    "\n",
    "def detect_textpipe(sentence):\n",
    "    try:\n",
    "        document = doc.Doc(sentence)\n",
    "        return iso_to_human.get(document.language,'unknow')\n",
    "    except:\n",
    "        return 'unknow'\n",
    "    \n",
    "\n",
    "\n",
    "compute_accuracy_sentences (titles_sentences, detect_textpipe) "
   ]
  },
  {
   "cell_type": "markdown",
   "metadata": {},
   "source": [
    "                          algorithm     accuracy                 \n",
    "                               ----     ----                     \n",
    "              detect_nltk_stopwords     0.8446666666666667       \n",
    "                       detect_vocab     0.914                    \n",
    "                 detect_nltk_tagger     0.904                    \n",
    "                  lang_id_detection     0.8846666666666667       \n",
    "               detect_with_polyglot     0.9186666666666666       \n",
    "                   fasttext_predict     0.972                    \n",
    "                    detect_textpipe     0.8466666666666667       \n",
    "\n",
    "                          algorithm     time                     \n",
    "                               ----     ----                     \n",
    "              detect_nltk_stopwords     0.09231209754943848      \n",
    "                       detect_vocab     0.04699826240539551      \n",
    "                 detect_nltk_tagger     0.2017529010772705       \n",
    "                  lang_id_detection     0.9763045310974121       \n",
    "               detect_with_polyglot     0.7695493698120117       \n",
    "                   fasttext_predict     0.0922701358795166       \n",
    "                    detect_textpipe     0.5440225601196289   "
   ]
  },
  {
   "cell_type": "code",
   "execution_count": 69,
   "metadata": {},
   "outputs": [
    {
     "name": "stdout",
     "output_type": "stream",
     "text": [
      "                          algorithm     accuracy                 \n",
      "                               ----     ----                     \n",
      "              detect_nltk_stopwords     0.9625                   \n",
      "        detect_glhandmade_stopwords     0.9425                   \n",
      "            detect_unique_stopwords     0.9155                   \n",
      "             predict_language_naive     0.9605                   \n",
      "                       detect_vocab     0.986                    \n",
      "                  lang_id_detection     0.9785                   \n",
      "           guess_language_detection     0.4655                   \n",
      "               detect_with_polyglot     0.985                    \n",
      "                   fasttext_predict     0.9755                   \n",
      "                    detect_textpipe     0.967                    \n",
      "\n",
      "                          algorithm     time                     \n",
      "                               ----     ----                     \n",
      "              detect_nltk_stopwords     0.21731877326965332      \n",
      "        detect_glhandmade_stopwords     0.19560027122497559      \n",
      "            detect_unique_stopwords     0.17684698104858398      \n",
      "             predict_language_naive     0.22910714149475098      \n",
      "                       detect_vocab     0.2623915672302246       \n",
      "                  lang_id_detection     4.878732681274414        \n",
      "           guess_language_detection     0.06995224952697754      \n",
      "               detect_with_polyglot     7.7460339069366455       \n",
      "                   fasttext_predict     0.28797221183776855      \n",
      "                    detect_textpipe     1.0388920307159424       \n"
     ]
    }
   ],
   "source": [
    "plot_all_accuracies()"
   ]
  },
  {
   "cell_type": "code",
   "execution_count": 70,
   "metadata": {},
   "outputs": [
    {
     "data": {
      "image/png": "[encoded data removed]",
      "text/plain": [
       "<Figure size 432x288 with 1 Axes>"
      ]
     },
     "metadata": {
      "needs_background": "light"
     },
     "output_type": "display_data"
    }
   ],
   "source": [
    "plot_confusion_matrix(confussion_matrices['detect_vocab'], title='detect_vocab')\n"
   ]
  },
  {
   "cell_type": "code",
   "execution_count": 71,
   "metadata": {},
   "outputs": [
    {
     "data": {
      "image/png": "[encoded data removed]",
      "text/plain": [
       "<Figure size 432x288 with 1 Axes>"
      ]
     },
     "metadata": {
      "needs_background": "light"
     },
     "output_type": "display_data"
    }
   ],
   "source": [
    "plot_confusion_matrix(confussion_matrices['detect_with_polyglot'], title='detect_with_polyglot')\n"
   ]
  },
  {
   "cell_type": "code",
   "execution_count": 82,
   "metadata": {},
   "outputs": [
    {
     "data": {
      "text/html": [
       "<div>\n",
       "<style scoped>\n",
       "    .dataframe tbody tr th:only-of-type {\n",
       "        vertical-align: middle;\n",
       "    }\n",
       "\n",
       "    .dataframe tbody tr th {\n",
       "        vertical-align: top;\n",
       "    }\n",
       "\n",
       "    .dataframe thead th {\n",
       "        text-align: right;\n",
       "    }\n",
       "</style>\n",
       "<table border=\"1\" class=\"dataframe\">\n",
       "  <thead>\n",
       "    <tr style=\"text-align: right;\">\n",
       "      <th></th>\n",
       "      <th>sentences</th>\n",
       "      <th>label</th>\n",
       "      <th>tokens</th>\n",
       "      <th>r_detect_nltk_stopwords</th>\n",
       "      <th>r_detect_glhandmade_stopwords</th>\n",
       "      <th>r_detect_unique_stopwords</th>\n",
       "      <th>r_predict_language_naive</th>\n",
       "      <th>r_detect_vocab</th>\n",
       "      <th>r_lang_id_detection</th>\n",
       "      <th>r_guess_language_detection</th>\n",
       "      <th>r_detect_with_polyglot</th>\n",
       "      <th>r_fasttext_predict</th>\n",
       "      <th>r_detect_textpipe</th>\n",
       "    </tr>\n",
       "  </thead>\n",
       "  <tbody>\n",
       "    <tr>\n",
       "      <th>0</th>\n",
       "      <td>did bill gates steal the heart of dos? adverti...</td>\n",
       "      <td>english</td>\n",
       "      <td>[did, bill, gates, steal, the, heart, of, dos,...</td>\n",
       "      <td>english</td>\n",
       "      <td>english</td>\n",
       "      <td>english</td>\n",
       "      <td>english</td>\n",
       "      <td>english</td>\n",
       "      <td>english</td>\n",
       "      <td>french</td>\n",
       "      <td>english</td>\n",
       "      <td>english</td>\n",
       "      <td>english</td>\n",
       "    </tr>\n",
       "    <tr>\n",
       "      <th>1</th>\n",
       "      <td>by far the hardest i've ever had to work to co...</td>\n",
       "      <td>english</td>\n",
       "      <td>[by, far, the, hardest, i, 've, ever, had, to,...</td>\n",
       "      <td>english</td>\n",
       "      <td>english</td>\n",
       "      <td>english</td>\n",
       "      <td>english</td>\n",
       "      <td>english</td>\n",
       "      <td>english</td>\n",
       "      <td>english</td>\n",
       "      <td>english</td>\n",
       "      <td>english</td>\n",
       "      <td>english</td>\n",
       "    </tr>\n",
       "    <tr>\n",
       "      <th>2</th>\n",
       "      <td>successfully countering russian electoral inte...</td>\n",
       "      <td>english</td>\n",
       "      <td>[successfully, countering, russian, electoral,...</td>\n",
       "      <td>spanish</td>\n",
       "      <td>english</td>\n",
       "      <td>english</td>\n",
       "      <td>unknown</td>\n",
       "      <td>english</td>\n",
       "      <td>english</td>\n",
       "      <td>english</td>\n",
       "      <td>english</td>\n",
       "      <td>english</td>\n",
       "      <td>english</td>\n",
       "    </tr>\n",
       "    <tr>\n",
       "      <th>3</th>\n",
       "      <td>rest service with spring boot actuator - java ...</td>\n",
       "      <td>english</td>\n",
       "      <td>[rest, service, with, spring, boot, actuator, ...</td>\n",
       "      <td>english</td>\n",
       "      <td>english</td>\n",
       "      <td>english</td>\n",
       "      <td>english</td>\n",
       "      <td>english</td>\n",
       "      <td>english</td>\n",
       "      <td>english</td>\n",
       "      <td>english</td>\n",
       "      <td>english</td>\n",
       "      <td>english</td>\n",
       "    </tr>\n",
       "    <tr>\n",
       "      <th>4</th>\n",
       "      <td>adobe photoshop was written in pascal software...</td>\n",
       "      <td>english</td>\n",
       "      <td>[adobe, photoshop, was, written, in, pascal, s...</td>\n",
       "      <td>english</td>\n",
       "      <td>english</td>\n",
       "      <td>english</td>\n",
       "      <td>english</td>\n",
       "      <td>english</td>\n",
       "      <td>english</td>\n",
       "      <td>german</td>\n",
       "      <td>english</td>\n",
       "      <td>english</td>\n",
       "      <td>english</td>\n",
       "    </tr>\n",
       "  </tbody>\n",
       "</table>\n",
       "</div>"
      ],
      "text/plain": [
       "                                           sentences    label  \\\n",
       "0  did bill gates steal the heart of dos? adverti...  english   \n",
       "1  by far the hardest i've ever had to work to co...  english   \n",
       "2  successfully countering russian electoral inte...  english   \n",
       "3  rest service with spring boot actuator - java ...  english   \n",
       "4  adobe photoshop was written in pascal software...  english   \n",
       "\n",
       "                                              tokens r_detect_nltk_stopwords  \\\n",
       "0  [did, bill, gates, steal, the, heart, of, dos,...                 english   \n",
       "1  [by, far, the, hardest, i, 've, ever, had, to,...                 english   \n",
       "2  [successfully, countering, russian, electoral,...                 spanish   \n",
       "3  [rest, service, with, spring, boot, actuator, ...                 english   \n",
       "4  [adobe, photoshop, was, written, in, pascal, s...                 english   \n",
       "\n",
       "  r_detect_glhandmade_stopwords r_detect_unique_stopwords  \\\n",
       "0                       english                   english   \n",
       "1                       english                   english   \n",
       "2                       english                   english   \n",
       "3                       english                   english   \n",
       "4                       english                   english   \n",
       "\n",
       "  r_predict_language_naive r_detect_vocab r_lang_id_detection  \\\n",
       "0                  english        english             english   \n",
       "1                  english        english             english   \n",
       "2                  unknown        english             english   \n",
       "3                  english        english             english   \n",
       "4                  english        english             english   \n",
       "\n",
       "  r_guess_language_detection r_detect_with_polyglot r_fasttext_predict  \\\n",
       "0                     french                english            english   \n",
       "1                    english                english            english   \n",
       "2                    english                english            english   \n",
       "3                    english                english            english   \n",
       "4                     german                english            english   \n",
       "\n",
       "  r_detect_textpipe  \n",
       "0           english  \n",
       "1           english  \n",
       "2           english  \n",
       "3           english  \n",
       "4           english  "
      ]
     },
     "execution_count": 82,
     "metadata": {},
     "output_type": "execute_result"
    }
   ],
   "source": [
    "titles_sentences.head()"
   ]
  },
  {
   "cell_type": "code",
   "execution_count": 72,
   "metadata": {},
   "outputs": [],
   "source": [
    "\n",
    "def compute_accuracy_vote(df, predictor, verbose=False, plot_confusion=True):\n",
    "    columns = [c for c in list(titles_sentences.columns) if str(c).startswith('r_') and 'vote' not in c]\n",
    "    print(columns)\n",
    "    return compute_accuracy(df, predictor, columns, verbose, plot_confusion)"
   ]
  },
  {
   "cell_type": "code",
   "execution_count": 73,
   "metadata": {},
   "outputs": [
    {
     "name": "stdout",
     "output_type": "stream",
     "text": [
      "['r_detect_nltk_stopwords', 'r_detect_glhandmade_stopwords', 'r_detect_unique_stopwords', 'r_predict_language_naive', 'r_detect_vocab', 'r_lang_id_detection', 'r_guess_language_detection', 'r_detect_with_polyglot', 'r_fasttext_predict', 'r_detect_textpipe']\n",
      "detect_vote     Accuracy: 0.9885       Time: 0.08869075775146484\n"
     ]
    },
    {
     "data": {
      "text/plain": [
       "0.9885"
      ]
     },
     "execution_count": 73,
     "metadata": {},
     "output_type": "execute_result"
    },
    {
     "data": {
      "image/png": "[encoded data removed]",
      "text/plain": [
       "<Figure size 432x288 with 1 Axes>"
      ]
     },
     "metadata": {
      "needs_background": "light"
     },
     "output_type": "display_data"
    }
   ],
   "source": [
    "from collections import Counter\n",
    "\n",
    "def detect_vote (array):\n",
    "    C = Counter(array)\n",
    "    #z.append(C)\n",
    "    m = max(C.values())\n",
    "\n",
    "    return random.choice([k for k, v in C.items() if v == m])\n",
    "    \n",
    "compute_accuracy_vote(titles_sentences, detect_vote)"
   ]
  },
  {
   "cell_type": "code",
   "execution_count": 74,
   "metadata": {},
   "outputs": [
    {
     "data": {
      "text/html": [
       "<div>\n",
       "<style scoped>\n",
       "    .dataframe tbody tr th:only-of-type {\n",
       "        vertical-align: middle;\n",
       "    }\n",
       "\n",
       "    .dataframe tbody tr th {\n",
       "        vertical-align: top;\n",
       "    }\n",
       "\n",
       "    .dataframe thead th {\n",
       "        text-align: right;\n",
       "    }\n",
       "</style>\n",
       "<table border=\"1\" class=\"dataframe\">\n",
       "  <thead>\n",
       "    <tr style=\"text-align: right;\">\n",
       "      <th></th>\n",
       "      <th>sentences</th>\n",
       "      <th>label</th>\n",
       "      <th>tokens</th>\n",
       "      <th>r_detect_nltk_stopwords</th>\n",
       "      <th>r_detect_glhandmade_stopwords</th>\n",
       "      <th>r_detect_unique_stopwords</th>\n",
       "      <th>r_predict_language_naive</th>\n",
       "      <th>r_detect_vocab</th>\n",
       "      <th>r_lang_id_detection</th>\n",
       "      <th>r_guess_language_detection</th>\n",
       "      <th>r_detect_with_polyglot</th>\n",
       "      <th>r_fasttext_predict</th>\n",
       "      <th>r_detect_textpipe</th>\n",
       "      <th>r_detect_vote</th>\n",
       "    </tr>\n",
       "  </thead>\n",
       "  <tbody>\n",
       "    <tr>\n",
       "      <th>0</th>\n",
       "      <td>did bill gates steal the heart of dos? adverti...</td>\n",
       "      <td>english</td>\n",
       "      <td>[did, bill, gates, steal, the, heart, of, dos,...</td>\n",
       "      <td>english</td>\n",
       "      <td>english</td>\n",
       "      <td>english</td>\n",
       "      <td>english</td>\n",
       "      <td>english</td>\n",
       "      <td>english</td>\n",
       "      <td>french</td>\n",
       "      <td>english</td>\n",
       "      <td>english</td>\n",
       "      <td>english</td>\n",
       "      <td>english</td>\n",
       "    </tr>\n",
       "    <tr>\n",
       "      <th>1</th>\n",
       "      <td>by far the hardest i've ever had to work to co...</td>\n",
       "      <td>english</td>\n",
       "      <td>[by, far, the, hardest, i, 've, ever, had, to,...</td>\n",
       "      <td>english</td>\n",
       "      <td>english</td>\n",
       "      <td>english</td>\n",
       "      <td>english</td>\n",
       "      <td>english</td>\n",
       "      <td>english</td>\n",
       "      <td>english</td>\n",
       "      <td>english</td>\n",
       "      <td>english</td>\n",
       "      <td>english</td>\n",
       "      <td>english</td>\n",
       "    </tr>\n",
       "    <tr>\n",
       "      <th>2</th>\n",
       "      <td>successfully countering russian electoral inte...</td>\n",
       "      <td>english</td>\n",
       "      <td>[successfully, countering, russian, electoral,...</td>\n",
       "      <td>spanish</td>\n",
       "      <td>portuguese</td>\n",
       "      <td>english</td>\n",
       "      <td>unknown</td>\n",
       "      <td>english</td>\n",
       "      <td>english</td>\n",
       "      <td>english</td>\n",
       "      <td>english</td>\n",
       "      <td>english</td>\n",
       "      <td>english</td>\n",
       "      <td>english</td>\n",
       "    </tr>\n",
       "    <tr>\n",
       "      <th>3</th>\n",
       "      <td>rest service with spring boot actuator - java ...</td>\n",
       "      <td>english</td>\n",
       "      <td>[rest, service, with, spring, boot, actuator, ...</td>\n",
       "      <td>english</td>\n",
       "      <td>english</td>\n",
       "      <td>english</td>\n",
       "      <td>english</td>\n",
       "      <td>english</td>\n",
       "      <td>english</td>\n",
       "      <td>english</td>\n",
       "      <td>english</td>\n",
       "      <td>english</td>\n",
       "      <td>english</td>\n",
       "      <td>english</td>\n",
       "    </tr>\n",
       "    <tr>\n",
       "      <th>4</th>\n",
       "      <td>adobe photoshop was written in pascal software...</td>\n",
       "      <td>english</td>\n",
       "      <td>[adobe, photoshop, was, written, in, pascal, s...</td>\n",
       "      <td>english</td>\n",
       "      <td>english</td>\n",
       "      <td>english</td>\n",
       "      <td>english</td>\n",
       "      <td>english</td>\n",
       "      <td>english</td>\n",
       "      <td>german</td>\n",
       "      <td>english</td>\n",
       "      <td>english</td>\n",
       "      <td>english</td>\n",
       "      <td>english</td>\n",
       "    </tr>\n",
       "  </tbody>\n",
       "</table>\n",
       "</div>"
      ],
      "text/plain": [
       "                                           sentences    label  \\\n",
       "0  did bill gates steal the heart of dos? adverti...  english   \n",
       "1  by far the hardest i've ever had to work to co...  english   \n",
       "2  successfully countering russian electoral inte...  english   \n",
       "3  rest service with spring boot actuator - java ...  english   \n",
       "4  adobe photoshop was written in pascal software...  english   \n",
       "\n",
       "                                              tokens r_detect_nltk_stopwords  \\\n",
       "0  [did, bill, gates, steal, the, heart, of, dos,...                 english   \n",
       "1  [by, far, the, hardest, i, 've, ever, had, to,...                 english   \n",
       "2  [successfully, countering, russian, electoral,...                 spanish   \n",
       "3  [rest, service, with, spring, boot, actuator, ...                 english   \n",
       "4  [adobe, photoshop, was, written, in, pascal, s...                 english   \n",
       "\n",
       "  r_detect_glhandmade_stopwords r_detect_unique_stopwords  \\\n",
       "0                       english                   english   \n",
       "1                       english                   english   \n",
       "2                    portuguese                   english   \n",
       "3                       english                   english   \n",
       "4                       english                   english   \n",
       "\n",
       "  r_predict_language_naive r_detect_vocab r_lang_id_detection  \\\n",
       "0                  english        english             english   \n",
       "1                  english        english             english   \n",
       "2                  unknown        english             english   \n",
       "3                  english        english             english   \n",
       "4                  english        english             english   \n",
       "\n",
       "  r_guess_language_detection r_detect_with_polyglot r_fasttext_predict  \\\n",
       "0                     french                english            english   \n",
       "1                    english                english            english   \n",
       "2                    english                english            english   \n",
       "3                    english                english            english   \n",
       "4                     german                english            english   \n",
       "\n",
       "  r_detect_textpipe r_detect_vote  \n",
       "0           english       english  \n",
       "1           english       english  \n",
       "2           english       english  \n",
       "3           english       english  \n",
       "4           english       english  "
      ]
     },
     "execution_count": 74,
     "metadata": {},
     "output_type": "execute_result"
    }
   ],
   "source": [
    "titles_sentences.head()"
   ]
  },
  {
   "cell_type": "code",
   "execution_count": 75,
   "metadata": {},
   "outputs": [
    {
     "data": {
      "text/plain": [
       "{'detect_nltk_stopwords': 0.9625,\n",
       " 'detect_glhandmade_stopwords': 0.9425,\n",
       " 'detect_unique_stopwords': 0.9155,\n",
       " 'predict_language_naive': 0.9605,\n",
       " 'detect_vocab': 0.986,\n",
       " 'lang_id_detection': 0.9785,\n",
       " 'guess_language_detection': 0.4655,\n",
       " 'detect_with_polyglot': 0.985,\n",
       " 'fasttext_predict': 0.9755,\n",
       " 'detect_textpipe': 0.967,\n",
       " 'detect_vote': 0.9885}"
      ]
     },
     "execution_count": 75,
     "metadata": {},
     "output_type": "execute_result"
    }
   ],
   "source": [
    "accuracies"
   ]
  },
  {
   "cell_type": "code",
   "execution_count": 76,
   "metadata": {},
   "outputs": [
    {
     "data": {
      "text/plain": [
       "{'detect_nltk_stopwords': 0.21731877326965332,\n",
       " 'detect_glhandmade_stopwords': 0.19560027122497559,\n",
       " 'detect_unique_stopwords': 0.17684698104858398,\n",
       " 'predict_language_naive': 0.22910714149475098,\n",
       " 'detect_vocab': 0.2623915672302246,\n",
       " 'lang_id_detection': 4.878732681274414,\n",
       " 'guess_language_detection': 0.06995224952697754,\n",
       " 'detect_with_polyglot': 7.7460339069366455,\n",
       " 'fasttext_predict': 0.28797221183776855,\n",
       " 'detect_textpipe': 1.0388920307159424,\n",
       " 'detect_vote': 0.08869075775146484}"
      ]
     },
     "execution_count": 76,
     "metadata": {},
     "output_type": "execute_result"
    }
   ],
   "source": [
    "times"
   ]
  },
  {
   "cell_type": "code",
   "execution_count": null,
   "metadata": {},
   "outputs": [],
   "source": []
  }
 ],
 "metadata": {
  "kernelspec": {
   "display_name": "Python 3",
   "language": "python",
   "name": "python3"
  },
  "language_info": {
   "codemirror_mode": {
    "name": "ipython",
    "version": 3
   },
   "file_extension": ".py",
   "mimetype": "text/x-python",
   "name": "python",
   "nbconvert_exporter": "python",
   "pygments_lexer": "ipython3",
   "version": "3.7.0"
  },
  "toc": {
   "base_numbering": 1,
   "nav_menu": {
    "height": "402px",
    "width": "462px"
   },
   "number_sections": true,
   "sideBar": true,
   "skip_h1_title": false,
   "title_cell": "Table of Contents",
   "title_sidebar": "Contents",
   "toc_cell": false,
   "toc_position": {},
   "toc_section_display": true,
   "toc_window_display": false
  },
  "varInspector": {
   "cols": {
    "lenName": 16,
    "lenType": 16,
    "lenVar": 40
   },
   "kernels_config": {
    "python": {
     "delete_cmd_postfix": "",
     "delete_cmd_prefix": "del ",
     "library": "var_list.py",
     "varRefreshCmd": "print(var_dic_list())"
    },
    "r": {
     "delete_cmd_postfix": ") ",
     "delete_cmd_prefix": "rm(",
     "library": "var_list.r",
     "varRefreshCmd": "cat(var_dic_list()) "
    }
   },
   "types_to_exclude": [
    "module",
    "function",
    "builtin_function_or_method",
    "instance",
    "_Feature"
   ],
   "window_display": false
  }
 },
 "nbformat": 4,
 "nbformat_minor": 2
}
