{
 "cells": [
  {
   "cell_type": "markdown",
   "metadata": {},
   "source": [
    "# Practical survey of language detection algorithms in Python\n",
    "\n",
    "In this article I test several algorithms and libraries for language detection in Python. You can see similar article in https://tech.people-doc.com/how-to-detect-western-language-with-python.html, but in my case I have some special needs:\n",
    "\n",
    "- I need detect the language of blog and news titles: not the complete text , only the title\n",
    "- The sentences will be in Spanish, English and Galician.\n",
    "\n",
    "\n",
    "The original article test the algoriths with sentences extracted from Genesis corpus. In this case the sentences are very similar, it doesn't include several languages in the same sentence, the vocabulary is limited and there aren't a Galician version of Genesis corpus available. \n",
    "\n",
    "This study is part of a larger project, so I create a small test case with titles extracted from the real case. \n",
    "\n",
    "The Galician is underrepresented int the test set, but is a similar percentage than the real case. I add some Portuguese sentences too. This is because Galician and Portuguese are very similar, and is difficult for algorithms tell apart both languages, and there aren't data to train the algorithms for Galician, so the challenge is more interesign.\n",
    "\n",
    "You can see more info about Galician in https://en.wikipedia.org/wiki/Galician_language\n",
    "\n",
    "(Note: this code was tested with Python 3.6.4)\n",
    "\n"
   ]
  },
  {
   "cell_type": "markdown",
   "metadata": {},
   "source": [
    "This two functions allows save and load models, arrays, etc. to disk, If some process is very time consuming (process a list of words, or generate a statistical mode, for example) we can do the process, save the result and, the next time, load from disk."
   ]
  },
  {
   "cell_type": "code",
   "execution_count": 1,
   "metadata": {},
   "outputs": [],
   "source": [
    "import pickle\n",
    "\n",
    "import  pprint \n",
    "pp = pprint.PrettyPrinter(indent=4, width=70, compact=True)\n",
    "\n",
    "\n",
    "def deserialize_from_disk(filename):\n",
    "    pp.pprint (f'deserializing from {filename}')\n",
    "    with open(filename,'rb') as fin:\n",
    "        tagger = pickle.load(fin)\n",
    "    return tagger\n",
    "\n",
    "def serialize_to_disk(filename, tagger):\n",
    "    pp.pprint (f'serializing to  {filename}')\n",
    "    with open(filename, 'wb') as fout:\n",
    "        pickle.dump(tagger, fout)\n"
   ]
  },
  {
   "cell_type": "markdown",
   "metadata": {},
   "source": [
    "## Creating the test set"
   ]
  },
  {
   "cell_type": "markdown",
   "metadata": {},
   "source": [
    "Some libraries works with complete sentences, others with tokens (words), so I created two sets for naive test, and two functions for run the algorithms over the full test set.\n",
    "\n",
    "In order to install nltk lib run:\n",
    "\n",
    "```shell\n",
    "pip install nltk\n",
    "```\n",
    "    "
   ]
  },
  {
   "cell_type": "code",
   "execution_count": 2,
   "metadata": {},
   "outputs": [],
   "source": [
    "# some basic imports, etc.\n",
    "\n",
    "import nltk\n",
    "import sys\n",
    "iso_to_human = {'un': 'unknow', 'en': 'english', 'es': 'spanish', 'gl': 'galician', 'pt': 'portuguese',}\n",
    "tmp_dir = '/home/xurxo/todo/tmp/'\n"
   ]
  },
  {
   "cell_type": "code",
   "execution_count": 3,
   "metadata": {},
   "outputs": [],
   "source": [
    "from nltk import  word_tokenize\n",
    "\n",
    "# one sentence for each language to test the methods\n",
    "english_text = '''\n",
    "Hi! Was wondering if anyone had tips/tricks on how to reset your hook grip between reps. This typically is only an issue for me when I'm doing something like a heavy triple clean. First rep is no problem...no pain, nothing. But I have a hard time holding on to my hook grip with full rotation high\n",
    "'''\n",
    "spanish_text = '''\n",
    "Akira Kurosawa puso su grano de arena para explicar el Japón de la derrota militar en sus filmes de posguerra (Un domingo maravilloso), exploró los códigos del cine negro (El ángel ebrio) y puso en diálogo las historias del Japón feudal con el western (Los siete samuráis) o con la dramaturgia de\n",
    "'''\n",
    "galician_text = '''\n",
    "Os activistas explicaron aos presentes que a reapertura da explotación en Touro “non ten viablidade”. E avisaron da “forte oposición” veciñal á mesma, que soborda a bisbarra e esténdese Ulla abaixo. De feito, as comarcas da Arousa atópanse entre as prinicipais zonas contrarias á mina.\n",
    "'''\n",
    "portuguese_text = '''\n",
    "Uma equipa de especialistas do Porto está a desenvolver um sistema que realiza previsões climáticas \"precisas\" de curto, médio e longo prazo, baseadas num novo algoritmo, com o intuito de auxiliar empresas e as entidades públicas na tomada de decisão\n",
    "'''\n",
    "en_tokens  = [word.lower() for word in word_tokenize(english_text)]\n",
    "es_tokens  = [word.lower() for word in word_tokenize(spanish_text)]\n",
    "gl_tokens  = [word.lower() for word in word_tokenize(galician_text)]\n",
    "pt_tokens  = [word.lower() for word in word_tokenize(portuguese_text)]"
   ]
  },
  {
   "cell_type": "markdown",
   "metadata": {},
   "source": [
    "Insall pandas with\n",
    "\n",
    "```shell\n",
    "pip install pandas\n",
    "```"
   ]
  },
  {
   "cell_type": "code",
   "execution_count": 4,
   "metadata": {},
   "outputs": [
    {
     "name": "stdout",
     "output_type": "stream",
     "text": [
      "'english -> 500 sentences'\n",
      "'spanish -> 500 sentences'\n",
      "'galician -> 500 sentences'\n",
      "'portuguese -> 500 sentences'\n"
     ]
    }
   ],
   "source": [
    "import pandas as pd\n",
    "\n",
    "# load the test set from files\n",
    "\n",
    "dfs  = []\n",
    "for lang in ['english','spanish','galician','portuguese']:\n",
    "    titles = pd.read_table(f'{lang}_testset.txt',names=['sentences'] )[0:500]\n",
    "    titles['sentences'] = titles['sentences'].apply(str.lower)\n",
    "    titles['label'] = lang\n",
    "    titles['tokens'] = titles['sentences'].apply(str.lower).apply(word_tokenize)\n",
    "    pp.pprint (f'{lang} -> {titles.shape[0]} sentences')\n",
    "    dfs.append(titles)\n",
    "\n",
    "titles_sentences_small = pd.concat([d for d in dfs[0:50]], ignore_index=True)\n",
    "titles_sentences = pd.concat(dfs, ignore_index=True)\n",
    "\n",
    "\n"
   ]
  },
  {
   "cell_type": "markdown",
   "metadata": {},
   "source": [
    "## Accuracy test\n",
    "\n",
    "Let's create a function to test the algorithms. It apply the algorithm to a data frame and store the accuracy of the result, and the running time. También mostramos una matriz de errores normalizada. El código original está sacado de https://stackoverflow.com/a/29877565\n"
   ]
  },
  {
   "cell_type": "code",
   "execution_count": 5,
   "metadata": {},
   "outputs": [],
   "source": [
    "# from nltk.metrics import ConfusionMatrix\n",
    "import time\n",
    "from sklearn.metrics import confusion_matrix\n",
    "import matplotlib.pyplot as plt\n",
    "import numpy as np\n",
    "import itertools\n",
    "\n",
    "\n",
    "times = {}\n",
    "accuracies = {}\n",
    "confussion_matrices = {}\n",
    "\n",
    "\n",
    "def plot_confusion_matrix(df_confusion, title='Confusion matrix', cmap=plt.cm.Blues):\n",
    "    \n",
    "    import matplotlib.pyplot as plt\n",
    "    plt.imshow(df_confusion, cmap=cmap) # matshow\n",
    "    plt.title(title)\n",
    "    # plt.colorbar()\n",
    "    tick_marks = np.arange(len(df_confusion.columns))\n",
    "    plt.xticks(tick_marks, df_confusion.columns, rotation=45)\n",
    "    plt.yticks(tick_marks, df_confusion.index)\n",
    "    plt.tight_layout()\n",
    "    \n",
    "    fmt = '.2f'\n",
    "    thresh = df_confusion.max().max() / 2.\n",
    "    for i, j in itertools.product(range(len(df_confusion.columns)), range(len(df_confusion.index))):\n",
    "        a = df_confusion.columns[i]\n",
    "        b = df_confusion.index[j]\n",
    "        val = df_confusion[a][b]\n",
    "        plt.text(j, i, format(df_confusion[a][b], fmt),\n",
    "                 horizontalalignment=\"center\",\n",
    "                 color=\"white\" if val > thresh else \"black\")\n",
    "    plt.ylabel(df_confusion.index.name)\n",
    "    plt.xlabel(df_confusion.columns.name)\n",
    "    \n",
    "    \n",
    "def plot_all_confusion_matrix():\n",
    "    for name, matrix in confussion_matrices.items():\n",
    "        np.set_printoptions(precision=2)\n",
    "        plt.figure()\n",
    "        plot_confusion_matrix(matrix, title=name)\n",
    "        \n",
    "        \n",
    "\n",
    "def plot_all_accuracies():\n",
    "    for name, matrix in confussion_matrices.items():\n",
    "        plot_confusion_matrix(matrix, title=name)\n",
    "        \n",
    "        \n",
    "def plot_all_accuracies():\n",
    "    print_table (accuracies, 'accuracy')\n",
    "    print()\n",
    "    print_table (times, 'time')\n",
    "    \n",
    "    \n",
    "def print_table (dictonary, label):\n",
    "    print (\"{:>35}     {:<25}\".format('algorithm', label))\n",
    "    print (\"{:>35}     {:<25}\".format('----', '----'))\n",
    "    for k in dictonary:\n",
    "        print (\"{:>35}     {:<25}\".format(k, dictonary[k]))\n",
    "        \n",
    "def compute_accuracy (df, predictor, column, verbose, plot_confusion):\n",
    "    start_time = time.time()\n",
    "    result = df[column].apply(predictor) \n",
    "    expected = df['label']\n",
    "    # time = %timeit -n1 -r1 -p3 -o accuracies [predictor.__name__] = (result == expected).sum() / len(df)\n",
    "    # times [predictor.__name__] = time.best\n",
    "    accuracy = (result == expected).sum() / len(df)\n",
    "    accuracies [predictor.__name__] = accuracy\n",
    "    stime = (time.time() - start_time)\n",
    "    times [predictor.__name__] = stime\n",
    "             \n",
    "    print (f'{predictor.__name__}     Accuracy: {accuracy}       Time: {stime}')\n",
    "    if verbose: \n",
    "        print_table (accuracies, 'accuracy')\n",
    "        print()\n",
    "        print_table (times, 'time')\n",
    "    \n",
    "    y_actu = expected\n",
    "    y_pred = result\n",
    "    df_confusion = pd.crosstab(y_actu, y_pred, rownames=['Actual'], colnames=['Predicted'], margins=False, normalize='index')\n",
    "    \n",
    "    # df_confusion = confusion_matrix(y_actu, y_pred)\n",
    "    confussion_matrices [predictor.__name__] = df_confusion\n",
    "    if plot_confusion:\n",
    "        plot_confusion_matrix(df_confusion, title=predictor.__name__)\n",
    "    \n",
    "    return accuracy\n",
    "    \n",
    "def compute_accuracy_tokens(df, predictor, verbose=False, plot_confusion=True):\n",
    "    return compute_accuracy(df, predictor, 'tokens', verbose, plot_confusion)\n",
    "\n",
    "def compute_accuracy_sentences(df, predictor, verbose=False, plot_confusion=True):\n",
    "    return compute_accuracy(df, predictor, 'sentences', verbose, plot_confusion)"
   ]
  },
  {
   "cell_type": "markdown",
   "metadata": {},
   "source": [
    "# Detecting with NLTK and stopwords\n",
    "\n",
    "You can see an explanation of this algorithm in http://blog.alejandronolla.com/2013/05/15/detecting-text-language-with-python-and-nltk/. It uses a list of stopwords per objetive language, computing language probability depending on which stopwords are used. The NLTK library have several stopwords lists, but not for Galician. Fortunately, in https://github.com/stopwords-iso/stopwords-gl  there are one. I use it in this test. In https://www.ranks.nl/stopwords there are other, if you want test."
   ]
  },
  {
   "cell_type": "code",
   "execution_count": 6,
   "metadata": {},
   "outputs": [
    {
     "name": "stdout",
     "output_type": "stream",
     "text": [
      "[nltk_data] Downloading package stopwords to /home/xurxo/nltk_data...\n",
      "[nltk_data]   Package stopwords is already up-to-date!\n"
     ]
    }
   ],
   "source": [
    "from nltk.corpus import stopwords    \n",
    "nltk.download('stopwords')\n",
    "\n",
    "\n",
    "fileids=['spanish','english','portuguese']\n",
    "\n",
    "\n",
    "# Compute per language included in nltk number of unique stopwords\n",
    "# appearing in analyzed text\n",
    "nltk_stopwords_sets = { language: list(set(stopwords.words(language))) \n",
    "                  for language in fileids} # list of stopwords per language\n",
    "\n",
    "file = open(\"resources/galician_stopwords.txt\", \"r\") \n",
    "original_galician_stopwords = [l[:-1] for l in file.readlines()]\n",
    "nltk_stopwords_sets['galician'] = original_galician_stopwords"
   ]
  },
  {
   "cell_type": "code",
   "execution_count": 7,
   "metadata": {},
   "outputs": [],
   "source": [
    "import random\n",
    "def _calculate_languages_ratios(stopwords_sets, tokens, verbose):\n",
    "    if verbose:\n",
    "        print ('tokens:')\n",
    "        pp.pprint (tokens)\n",
    "    languages_ratios = {}\n",
    "\n",
    "\n",
    "    # Compute per language included in nltk number of unique stopwords\n",
    "    # appearing in analyzed text\n",
    "    for language in stopwords_sets.keys():\n",
    "        stopwords_set = stopwords_sets[language]\n",
    "        words_set = set(tokens)\n",
    "        common_elements = words_set.intersection(stopwords_set)\n",
    "        if verbose:\n",
    "            print(f'{language} common words: ')\n",
    "            pp.pprint( common_elements)\n",
    "            \n",
    "        languages_ratios[language] = len(common_elements) # language \"score\"\n",
    "\n",
    "    return languages_ratios\n",
    "\n",
    "\n",
    "def detect_with_stopwords(stopwords_sets, tokens, verbose=False):\n",
    "    ratios = _calculate_languages_ratios(stopwords_sets, tokens, verbose)\n",
    "    m = max(ratios.values())\n",
    "    return random.choice([k for k, v in ratios.items() if v == m])\n",
    "    \n",
    "def detect_nltk_stopwords (tokens):\n",
    "    return detect_with_stopwords (nltk_stopwords_sets, tokens)\n"
   ]
  },
  {
   "cell_type": "code",
   "execution_count": 8,
   "metadata": {},
   "outputs": [
    {
     "name": "stdout",
     "output_type": "stream",
     "text": [
      "tokens:\n",
      "['ou', 'a', 'praia', 'ou', 'vou', 'ao', 'monte']\n",
      "spanish common words: \n",
      "{'a'}\n",
      "english common words: \n",
      "{'a'}\n",
      "portuguese common words: \n",
      "{'ou', 'a', 'ao'}\n",
      "galician common words: \n",
      "{'ou', 'a', 'ao'}\n"
     ]
    },
    {
     "data": {
      "text/plain": [
       "'galician'"
      ]
     },
     "execution_count": 8,
     "metadata": {},
     "output_type": "execute_result"
    }
   ],
   "source": [
    "detect_with_stopwords(nltk_stopwords_sets, 'Ou a praia ou vou ao monte'.lower().split(), verbose=True )"
   ]
  },
  {
   "cell_type": "code",
   "execution_count": 9,
   "metadata": {},
   "outputs": [
    {
     "name": "stdout",
     "output_type": "stream",
     "text": [
      "english\n",
      "spanish\n",
      "galician\n",
      "portuguese\n"
     ]
    }
   ],
   "source": [
    "print(detect_nltk_stopwords(en_tokens))\n",
    "print(detect_nltk_stopwords(es_tokens))\n",
    "print(detect_nltk_stopwords(gl_tokens))\n",
    "print(detect_nltk_stopwords(pt_tokens))"
   ]
  },
  {
   "cell_type": "code",
   "execution_count": 10,
   "metadata": {},
   "outputs": [
    {
     "name": "stdout",
     "output_type": "stream",
     "text": [
      "detect_nltk_stopwords     Accuracy: 0.741       Time: 0.14765024185180664\n"
     ]
    },
    {
     "data": {
      "text/plain": [
       "0.741"
      ]
     },
     "execution_count": 10,
     "metadata": {},
     "output_type": "execute_result"
    },
    {
     "data": {
      "image/png": "[encoded data removed]",
      "text/plain": [
       "<Figure size 432x288 with 1 Axes>"
      ]
     },
     "metadata": {},
     "output_type": "display_data"
    }
   ],
   "source": [
    "    \n",
    "compute_accuracy_tokens(titles_sentences, detect_nltk_stopwords)"
   ]
  },
  {
   "cell_type": "markdown",
   "metadata": {},
   "source": [
    "## Handmade Galician stopwords list\n",
    "I tried a bigger stopword list for Galician language, based on the 5000 more frequent words (CORGA corpus, by  Centro Ramón Piñeiro). The original list is case sensitive, and too long, so I lowercase it and select the first 400 words, a similar size than other lists. I manually remove common nouns from \n",
    "\n",
    "\n",
    "Reference: Centro Ramón Piñeiro para a investigación en humanidades: Corpus de Referencia do Galego Actual (CORGA) [3.0] <http://corpus.cirp.gal/corga/> "
   ]
  },
  {
   "cell_type": "code",
   "execution_count": 11,
   "metadata": {},
   "outputs": [],
   "source": [
    "import numpy as np\n",
    "\n",
    "galician_freq = pd.read_csv('resources/galician_frequency.txt', sep= '\\t', index_col=0, decimal=',', thousands='.',\n",
    "                           dtype={'Unidade':np.str ,\n",
    "                                  'Coincidencias':np.int ,\n",
    "                                  'Frecuencia':np.float ,\n",
    "                                  'Frecuencia acumulada':np.float})\n",
    "\n"
   ]
  },
  {
   "cell_type": "code",
   "execution_count": 12,
   "metadata": {},
   "outputs": [
    {
     "name": "stdout",
     "output_type": "stream",
     "text": [
      "[   'de', 'que', 'a', 'e', 'o', 'do', 'da', 'non', 'en', 'os', 'un',\n",
      "    'se', 'para', 'unha', 'as', 'no', 'por', 'é', 'na', 'como', 'dos',\n",
      "    'con', 'máis', 'á', 'das', 'ou', 'súa', 'ó', 'seu', 'pero', 'xa',\n",
      "    'ao', 'nos', 'polo', 'lle', 'era', 'tamén', 'cando', 'pola',\n",
      "    'todo', 'sen', 'sobre', 'entre', 'son', 'coa', 'co', 'ser', 'hai',\n",
      "    'foi', 'eu', 'dun', 'aínda', 'moi', 'nas', 'me', 'está', 'así',\n",
      "    'ben', 'anos', 'el', 'seus', 'mesmo', 'porque', 'dunha', 'só',\n",
      "    'este', 'ás', 'ten', 'esta', 'onde', 'nun', 'tempo', 'galicia',\n",
      "    'nin', 'agora', 'coma', 'si', 'quen', 'ata', 'desde', 'dous',\n",
      "    'vez', 'sempre', 'iso', 'día', 'súas', 'parte', 'todos',\n",
      "    'segundo', 'nada', 'pode', 'vida', 'cada', 'despois', 'ós',\n",
      "    'facer', 'estaba', 'tan', 'nunha', 'outra', 'algo', 'casa',\n",
      "    'tanto', 'ela', 'tiña', 'onte', 'ano', 'cara', 'mais', 'contra',\n",
      "    'logo', 'mundo', 'moito', 'meu', 'home', 'cos', 'pois', 'antes',\n",
      "    'pouco', 'outro', 'menos', 'miña', 'tres', 'caso', 'vai',\n",
      "    'galego', 'outros', 'aos', 'primeiro', 'ti', 'novo', 'cun', 'ver',\n",
      "    'ter', 'traballo', 'hoxe', 'nunca', 'dúas', 'lugar', 'goberno',\n",
      "    'ademais', 'aquí', 'mellor', 'dixo', 'mentres', 'durante', 'toda',\n",
      "    'primeira', 'días', 'alí', 'había', 'esa', 'medio', 'momento',\n",
      "    'ese', 'min', 'polos', 'están', 'xeito', 'muller', 'uns', 'dicir',\n",
      "    'cunha', 'cousas', 'isto', 'galega', 'noite', 'coas', 'senón',\n",
      "    'estado', 'deste', 'persoas', 'país', 'veces', 'tal', 'dende',\n",
      "    'xente', 'case', 'neste', 'maior', 'presidente', 'teñen',\n",
      "    'españa', 'nova', 'eles', 'outras', 'xeral', 'política',\n",
      "    'calquera', 'nós', 'man', 'polas', 'foron', 'ollos', 'lles',\n",
      "    'millóns', 'cidade', 'forma', 'conta', 'mesma', 'nosa', 'dentro',\n",
      "    'moitos', 'sexa', 'aquel', 'historia', 'cousa', 'sei', 'eran',\n",
      "    'grupo', 'todas', 'terra', 'desta', 'feito', 'gran', 'fin', 'fai',\n",
      "    'catro', 'poder', 'tipo', 'santiago', 'mar', 'ante', 'será',\n",
      "    'estes', 'certo', 'don', 'estar', 'ninguén', 'social', 'mulleres',\n",
      "    'aquela', 'auga', 'pasado', 'noso', 'situación', 'canto', 'tras',\n",
      "    'falar', 'baixo', 'estas', 'pai', 'horas', 'xunta', 'grande',\n",
      "    'corpo', 'dar', 'poden', 'cento', 'entón', 'fixo', 'homes',\n",
      "    'partido', 'moitas', 'cabeza', 'mal', 'daquela', 'cultura',\n",
      "    'teño', 'nome', 'porta', 'camiño', 'che', 'claro', 'ía', 'debe',\n",
      "    'obra', 'morte', 'sistema', 'ir', 'unhas', 'grandes', 'tarde',\n",
      "    'número', 'sociedade', 'fronte', 'madrid', 'di', 'mañá',\n",
      "    'realidade', 'podía', 'algúns', 'centro', 'manuel', 'sería',\n",
      "    'nai', 'lei', 'fóra', 'ningún', 'coruña', 'boa', 'importante',\n",
      "    'exemplo', 'diante', 'del', 'te', 'hora', 'galegos', 'fose',\n",
      "    'información', 'voz', 'través', 'mans', 'proceso', 'señor',\n",
      "    'fora', 'saber', 'libro', 'la', 'bo', 'banda', 'cal', 'luz',\n",
      "    'vigo', 'cinco', 'tampouco', 'punto', 'proxecto', 'chegar',\n",
      "    'palabras', 'temos', 'parece', 'san', 'maría', 'aí', 'relación',\n",
      "    'josé', 'sentido', 'propia', 'algún', 'tivo', 'sabe', 'nesta',\n",
      "    'respecto', 'propio', 'pra', 'maneira', 'público', 'paso',\n",
      "    'nacional', 'quere', 'meses', 'van', 'novas', 'guerra', 'acordo',\n",
      "    'tódolos', 'podería', 'posible', 'longo', 'datos', 'pp', 'fondo',\n",
      "    'lingua', 'forza', 'total', 'media', 'familia', 'final',\n",
      "    'vostede', 'empresas', 'problemas', 'ca', 'países', 'problema',\n",
      "    'empresa', 'estou', 'verdade', 'partir', 'diferentes', 'século',\n",
      "    'sector', 'desenvolvemento', 'fillo', 'novos', 'interior', 'lado',\n",
      "    'ningunha', 'estaban', 'semana', 'futuro', 'pasar', 'sendo',\n",
      "    'euros', 'español', 'único', 'persoa', 'comunidade', 'amor',\n",
      "    'vello', 'papel', 'idea', 'dereito', 'cabo', 'últimos', 'medios',\n",
      "    'último', 'algunha', 'real', '1']\n"
     ]
    }
   ],
   "source": [
    "galician_freq.Unidade = galician_freq.Unidade.apply(lambda x: str(x).lower())\n",
    "grouped = galician_freq.groupby('Unidade')['Coincidencias'].sum().reset_index()\n",
    "galician_stopwords = [l for l in grouped.sort_values(by='Coincidencias', ascending=False)[:400]['Unidade']]\n",
    "\n",
    "pp.pprint (galician_stopwords)"
   ]
  },
  {
   "cell_type": "markdown",
   "metadata": {},
   "source": [
    "The contains nouns and adjetives, so I manually edited it and create a personalized stopword list."
   ]
  },
  {
   "cell_type": "code",
   "execution_count": 13,
   "metadata": {},
   "outputs": [],
   "source": [
    "galician_stopwords = ['de', 'que', 'a', 'e', 'o', 'do', 'da', 'non', 'en', 'os', 'un', 'se', 'para', 'unha', 'as',\n",
    "                      'no', 'por', 'é', 'na', 'como', 'dos', 'con', 'máis', 'á', 'das', 'ou', 'súa', 'ó', 'seu', \n",
    "                      'pero', 'xa', 'ao', 'nos', 'polo', 'lle', 'era', 'tamén', 'cando', 'pola', 'todo', 'sen', \n",
    "                      'sobre', 'entre', 'son', 'coa', 'co', 'ser', 'hai', 'foi', 'eu', 'dun', 'aínda', 'moi', \n",
    "                      'nas', 'me', 'está', 'así', 'ben', 'el', 'seus', 'mesmo', 'porque', 'dunha', 'só', 'este',\n",
    "                      'ás', 'ten', 'esta', 'onde', 'nun', 'nin', 'coma', 'si', 'quen', 'ata', 'desde', 'sempre',\n",
    "                      'iso', 'súas', 'parte', 'todos', 'segundo', 'nada', 'pode', 'cada', 'despois', 'ós', 'facer', \n",
    "                      'estaba', 'tan', 'nunha', 'outra', 'algo', 'tanto', 'ela', 'tiña', 'mais', 'contra', 'logo',\n",
    "                      'moito', 'meu', 'cos', 'pois', 'antes', 'pouco', 'outro', 'menos', 'miña', 'vai', 'outros', \n",
    "                      'aos', 'ti', 'cun', 'ver', 'ter', 'nunca', 'dúas', 'lugar', 'ademais', 'aquí', 'mellor', 'dixo', \n",
    "                      'mentres', 'durante', 'toda', 'primeira', 'días', 'alí', 'había', 'esa', 'ese', 'min', 'polos', \n",
    "                      'están', 'uns', 'dicir', 'cunha', 'isto', 'noite', 'coas', 'senón', 'deste', 'veces', 'tal', \n",
    "                      'dende', 'case', 'neste', 'maior', 'teñen', 'eles', 'outras', 'xeral', 'calquera', 'nós', 'polas',\n",
    "                      'foron', 'lles', 'forma', 'conta', 'mesma', 'nosa', 'dentro', 'moitos', 'sexa', 'aquel', 'sei',\n",
    "                      'eran', 'todas', 'desta', 'gran', 'fai', 'ante', 'será', 'estes', 'estar', 'ninguén', 'aquela',\n",
    "                      'noso', 'baixo', 'estas', 'dar', 'poden', 'entón', 'fixo', 'moitas', 'mal', 'cultura', 'teño',\n",
    "                      'che', 'ía', 'debe', 'ir', 'unhas', 'grandes', 'di', 'mañá', 'podía', 'algúns', 'sería', 'fóra',\n",
    "                      'ningún', 'diante', 'del', 'te', 'fose', 'través', 'fora', 'saber', 'la', 'bo', 'cal', 'tampouco',\n",
    "                      'temos', 'algún', 'tivo', 'sabe', 'nesta', 'propio', 'pra', 'quere', 'van', 'tódolos', 'podería',\n",
    "                      'vostede', 'ca', 'estou', 'partir', 'ningunha', 'estaban', 'sendo', 'cabo', 'algunha']\n"
   ]
  },
  {
   "cell_type": "code",
   "execution_count": 14,
   "metadata": {},
   "outputs": [],
   "source": [
    "\n",
    "glhandmade_stopwords_sets = dict(nltk_stopwords_sets)\n",
    "glhandmade_stopwords_sets['galician']={l for l in galician_stopwords}\n",
    "\n"
   ]
  },
  {
   "cell_type": "code",
   "execution_count": 15,
   "metadata": {},
   "outputs": [
    {
     "name": "stdout",
     "output_type": "stream",
     "text": [
      "detect_glhandmade_stopwords     Accuracy: 0.749       Time: 0.12692832946777344\n"
     ]
    },
    {
     "data": {
      "text/plain": [
       "0.749"
      ]
     },
     "execution_count": 15,
     "metadata": {},
     "output_type": "execute_result"
    },
    {
     "data": {
      "image/png": "[encoded data removed]",
      "text/plain": [
       "<Figure size 432x288 with 1 Axes>"
      ]
     },
     "metadata": {},
     "output_type": "display_data"
    }
   ],
   "source": [
    "\n",
    "def detect_glhandmade_stopwords (tokens):\n",
    "    return detect_with_stopwords (glhandmade_stopwords_sets, tokens)\n",
    "\n",
    "\n",
    "compute_accuracy_tokens(titles_sentences, detect_glhandmade_stopwords)"
   ]
  },
  {
   "cell_type": "markdown",
   "metadata": {},
   "source": [
    "## Delete common words from lists\n",
    "\n",
    "What about remove words presents in serveral languages (i.e. 'me','a', 'do', ...)?"
   ]
  },
  {
   "cell_type": "code",
   "execution_count": 16,
   "metadata": {},
   "outputs": [],
   "source": [
    "from collections import Counter\n",
    "\n",
    "c = Counter()\n",
    "for sw in ['galician','portuguese']: #nltk_stopwords_sets:\n",
    "    c.update(nltk_stopwords_sets[sw])\n",
    "duplicated = [w for w in c if c[w]>1]\n"
   ]
  },
  {
   "cell_type": "code",
   "execution_count": 17,
   "metadata": {},
   "outputs": [],
   "source": [
    "unique_stopwords_sets = dict(nltk_stopwords_sets)\n",
    "for sw in  unique_stopwords_sets:\n",
    "    unique_stopwords_sets[sw]=list(set(unique_stopwords_sets[sw])-set(duplicated))\n",
    "    "
   ]
  },
  {
   "cell_type": "code",
   "execution_count": 18,
   "metadata": {},
   "outputs": [
    {
     "name": "stdout",
     "output_type": "stream",
     "text": [
      "detect_unique_stopwords     Accuracy: 0.686       Time: 0.1293480396270752\n"
     ]
    },
    {
     "data": {
      "text/plain": [
       "0.686"
      ]
     },
     "execution_count": 18,
     "metadata": {},
     "output_type": "execute_result"
    },
    {
     "data": {
      "image/png": "[encoded data removed]",
      "text/plain": [
       "<Figure size 432x288 with 1 Axes>"
      ]
     },
     "metadata": {},
     "output_type": "display_data"
    }
   ],
   "source": [
    "\n",
    "def detect_unique_stopwords (tokens):\n",
    "    return detect_with_stopwords (unique_stopwords_sets, tokens)\n",
    "\n",
    "\n",
    "compute_accuracy_tokens(titles_sentences, detect_unique_stopwords)"
   ]
  },
  {
   "cell_type": "markdown",
   "metadata": {},
   "source": [
    "## stopwords, other implementation\n",
    "\n",
    "https://tech.people-doc.com/how-to-detect-western-language-with-python.html\n",
    "\n",
    "We first create a dictionary of stop words per language. It must be noted that this dictionnary includes languages which are not present in the genesis corpus, such as Norwegian or Danish. This ensures a fair comparison between custom solutions and external libraries (which have no restriction on which languages might be present).\n"
   ]
  },
  {
   "cell_type": "code",
   "execution_count": 19,
   "metadata": {},
   "outputs": [],
   "source": [
    "\n",
    "\n",
    "from nltk.corpus import stopwords\n",
    "from collections import defaultdict\n",
    "import random\n",
    "from collections import defaultdict, Counter\n",
    "\n",
    "languages = nltk_stopwords_sets.keys()\n",
    "\n",
    "\n",
    "inverse_stopwords_dict = defaultdict(list) # list of languages per stopword\n",
    "for l in languages:\n",
    "    for sw in nltk_stopwords_sets[l]:\n",
    "        inverse_stopwords_dict[sw].append(l)     \n",
    "        \n",
    "\n",
    "def predict_language_naive(tokens, verbose=False): \n",
    "    random.seed(0)\n",
    "    cnt = Counter()\n",
    "    cnt.update(language\n",
    "              for word in tokens\n",
    "              for language in inverse_stopwords_dict.get(word, ()))\n",
    "    if not cnt:\n",
    "        return 'unknown'\n",
    "    if verbose:\n",
    "        pp.pprint(cnt)\n",
    "    m = max(cnt.values())\n",
    "    return random.choice([k for k, v in cnt.items() if v == m])\n",
    "    "
   ]
  },
  {
   "cell_type": "code",
   "execution_count": 20,
   "metadata": {},
   "outputs": [
    {
     "name": "stdout",
     "output_type": "stream",
     "text": [
      "Counter({'spanish': 5, 'galician': 4, 'english': 3, 'portuguese': 3})\n"
     ]
    },
    {
     "data": {
      "text/plain": [
       "'spanish'"
      ]
     },
     "execution_count": 20,
     "metadata": {},
     "output_type": "execute_result"
    }
   ],
   "source": [
    "predict_language_naive('o a la playa o al monte'.split(), verbose=True)"
   ]
  },
  {
   "cell_type": "code",
   "execution_count": 21,
   "metadata": {},
   "outputs": [
    {
     "name": "stdout",
     "output_type": "stream",
     "text": [
      "predict_language_naive     Accuracy: 0.7115       Time: 0.13068032264709473\n"
     ]
    },
    {
     "data": {
      "text/plain": [
       "0.7115"
      ]
     },
     "execution_count": 21,
     "metadata": {},
     "output_type": "execute_result"
    },
    {
     "data": {
      "image/png": "[encoded data removed]",
      "text/plain": [
       "<Figure size 432x288 with 1 Axes>"
      ]
     },
     "metadata": {},
     "output_type": "display_data"
    }
   ],
   "source": [
    "compute_accuracy_tokens(titles_sentences, predict_language_naive)"
   ]
  },
  {
   "cell_type": "code",
   "execution_count": 22,
   "metadata": {},
   "outputs": [
    {
     "name": "stdout",
     "output_type": "stream",
     "text": [
      "                          algorithm     accuracy                 \n",
      "                               ----     ----                     \n",
      "              detect_nltk_stopwords     0.741                    \n",
      "        detect_glhandmade_stopwords     0.749                    \n",
      "            detect_unique_stopwords     0.686                    \n",
      "             predict_language_naive     0.7115                   \n",
      "\n",
      "                          algorithm     time                     \n",
      "                               ----     ----                     \n",
      "              detect_nltk_stopwords     0.14765024185180664      \n",
      "        detect_glhandmade_stopwords     0.12692832946777344      \n",
      "            detect_unique_stopwords     0.1293480396270752       \n",
      "             predict_language_naive     0.13068032264709473      \n"
     ]
    },
    {
     "data": {
      "image/png": "[encoded data removed]",
      "text/plain": [
       "<Figure size 432x288 with 1 Axes>"
      ]
     },
     "metadata": {},
     "output_type": "display_data"
    },
    {
     "data": {
      "image/png": "[encoded data removed]",
      "text/plain": [
       "<Figure size 432x288 with 1 Axes>"
      ]
     },
     "metadata": {},
     "output_type": "display_data"
    },
    {
     "data": {
      "image/png": "[encoded data removed]",
      "text/plain": [
       "<Figure size 432x288 with 1 Axes>"
      ]
     },
     "metadata": {},
     "output_type": "display_data"
    },
    {
     "data": {
      "image/png": "[encoded data removed]",
      "text/plain": [
       "<Figure size 432x288 with 1 Axes>"
      ]
     },
     "metadata": {},
     "output_type": "display_data"
    }
   ],
   "source": [
    "plot_all_accuracies()\n",
    "plot_all_confusion_matrix()"
   ]
  },
  {
   "cell_type": "markdown",
   "metadata": {},
   "source": [
    "# Creating corpora\n",
    "Para algunos algoritmos necesitaremos algunos corpus de diferentes idiomas, compuestos por listas de palabras a partir de diccionarios, textos, etc. Por una parte usaremos algunos de los corpus presentes en NLTK, la librería más usada para iniciarse en el procesamiento de lenguaje natural con Python. Pero también hemos creado dos corpus en gallego para la ocasión, uno a partir de la lista de palabras más usadas en gallego (de nuevo, usando el corpus de Corga) y otro a partir de la Galipedia, la Wikipedia en gallego.\n",
    "\n",
    "Los corpus de NLTK necesitan algunas transformaciones, puesto que existen terminos completos como 'poner_en_marcha' en el que las palabras vienen separadas originalmente por guiones bajos. Otros corpus tienen palabras en mayúsculas y minúsculas, etc."
   ]
  },
  {
   "cell_type": "markdown",
   "metadata": {},
   "source": [
    "\n",
    "To create a galician corpus, we use the wikipedia. You can create a text version with Wikipedia Extractor. Download code  http://medialab.di.unipi.it/wiki/Wikipedia_Extractor . You can make some tweaks like include (or not) titles, sort articles, etc. The process takes 5 min. aprox.\n",
    "\n",
    "```bash\n",
    "\n",
    "$ git clone https://github.com/attardi/wikiextractor.git\n",
    "$ cd wikiextractor\n",
    "$ wget https://dumps.wikimedia.org/glwiki/latest/glwiki-latest-pages-articles.xml.bz2\n",
    "$ bzip2 -d glwiki-latest-pages-articles.xml.bz2\n",
    "$ ./WikiExtractor.py -o . -s --no-templates --min_text_length 150 --filter_disambig_pages -de gallery,timeline,noinclude  glwiki-latest-pages-articles.xml -it abbr,b,big --json -cb 250K\n",
    "...\n",
    "INFO: 414064\tPedersöre\n",
    "INFO: Finished 3-process extraction of 149036 articles in 295.8s (503.8 art/s)\n",
    "\n",
    "$  find . -name '*bz2' -exec bunzip2 -c {} \\; >galician_wikipedia_text.json\n",
    "$  rm -rf extracted\n",
    "```\n"
   ]
  },
  {
   "cell_type": "code",
   "execution_count": 23,
   "metadata": {},
   "outputs": [
    {
     "name": "stdout",
     "output_type": "stream",
     "text": [
      "[nltk_data] Downloading package words to /home/xurxo/nltk_data...\n",
      "[nltk_data]   Package words is already up-to-date!\n",
      "[nltk_data] Downloading package cess_esp to /home/xurxo/nltk_data...\n",
      "[nltk_data]   Package cess_esp is already up-to-date!\n",
      "[nltk_data] Downloading package floresta to /home/xurxo/nltk_data...\n",
      "[nltk_data]   Package floresta is already up-to-date!\n",
      "[nltk_data] Downloading package brown to /home/xurxo/nltk_data...\n",
      "[nltk_data]   Package brown is already up-to-date!\n",
      "[nltk_data] Downloading package omw to /home/xurxo/nltk_data...\n",
      "[nltk_data]   Package omw is already up-to-date!\n",
      "[nltk_data] Downloading package europarl_raw to\n",
      "[nltk_data]     /home/xurxo/nltk_data...\n",
      "[nltk_data]   Package europarl_raw is already up-to-date!\n"
     ]
    }
   ],
   "source": [
    "import nltk\n",
    "import nltk.corpus.europarl_raw\n",
    "# download corpus\n",
    "nltk.download('words')\n",
    "nltk.download('cess_esp')\n",
    "nltk.download('floresta')\n",
    "nltk.download('brown')\n",
    "nltk.download('omw')\n",
    "nltk.download('europarl_raw')\n",
    "\n",
    "\n",
    "def clean_tokens(tokens):\n",
    "    return [token.lower().replace('_', ' ') for token in tokens if token.isalpha()]\n",
    "\n",
    "def get_corpus (corpus_name, word_list):\n",
    "    try:\n",
    "        vocab = deserialize_from_disk(f'{tmp_dir}/corpus/{corpus_name}.corpus')\n",
    "    except:\n",
    "        vocab = clean_tokens(w for w in word_list())\n",
    "        serialize_to_disk(f'{tmp_dir}/corpus/{corpus_name}.corpus', vocab)\n",
    "    return vocab\n",
    "\n",
    "\n",
    "def create_gl_corga():\n",
    "    print('create_gl_corga')\n",
    "    with open(\"resources/galician_frequency.txt\", \"r\") as file: \n",
    "        return list(l for l in (l.split('\\t')[1] for l in file.readlines()[0:10000]))\n",
    "    \n",
    "def create_gl_wikipedia ():\n",
    "    print('create_gl_wikipedia')\n",
    "    import json\n",
    "\n",
    "    corpus_gl_wikipedia = []\n",
    "    file = open(\"resources/galician_wikipedia_text.json\", \"r\") \n",
    "    for l in file.readlines():\n",
    "\n",
    "        text = json.loads(l)['text']\n",
    "        # remove title\n",
    "        text = text.split('\\n\\n')[1:]\n",
    "        text = ' '.join(text)\n",
    "        tokenized_text = nltk.word_tokenize(text)\n",
    "        corpus_gl_wikipedia.extend(([w for w in tokenized_text ]))\n",
    "    return corpus_gl_wikipedia\n",
    "\n",
    "\n",
    "\n",
    "# english\n",
    "corpus_en_brown = lambda:get_corpus('en_brown',nltk.corpus.brown.words)\n",
    "corpus_en_wordnet = lambda:get_corpus('en_wordnet', lambda:nltk.corpus.wordnet.words(lang='eng'))\n",
    "corpus_en_europarl = lambda:get_corpus('en_europarl',nltk.corpus.europarl_raw.__getattribute__('english').words)\n",
    "\n",
    "#spanish\n",
    "corpus_sp_cess = lambda:get_corpus('sp_cess',nltk.corpus.cess_esp.words() )\n",
    "corpus_sp_wordnet = lambda:get_corpus('sp_wordnet',lambda:nltk.corpus.wordnet.words(lang='spa'))\n",
    "corpus_sp_europarl = lambda:get_corpus('sp_europarl',nltk.corpus.europarl_raw.__getattribute__('spanish').words)\n",
    "\n",
    "# portuguese\n",
    "corpus_pt_floresta = lambda:get_corpus('pt_floresta',nltk.corpus.floresta.words )\n",
    "corpus_pt_wordnet = lambda:get_corpus('pt_wordnet',lambda:nltk.corpus.wordnet.words(lang='por'))\n",
    "corpus_pt_europarl = lambda:get_corpus('pt_europarl',nltk.corpus.europarl_raw.__getattribute__('portuguese').words)\n",
    "\n",
    "# galician\n",
    "corpus_gl_wordnet = lambda:get_corpus('gl_wordnet',lambda:nltk.corpus.wordnet.words(lang='glg'))\n",
    "corpus_gl_corga = lambda:get_corpus('gl_corga', create_gl_corga)\n",
    "corpus_gl_wikipedia = lambda: get_corpus('gl_wikipedia', create_gl_wikipedia)\n",
    "    \n",
    "    \n",
    "    \n",
    "\n",
    "    "
   ]
  },
  {
   "cell_type": "code",
   "execution_count": 24,
   "metadata": {},
   "outputs": [],
   "source": [
    "\n",
    "all_corpus = {'galician': \n",
    "                      {\n",
    "                          'gl_corga':  corpus_gl_corga, \n",
    "                          'gl_wordnetl':corpus_gl_wordnet,\n",
    "                          #'gl_wikipedia': corpus_gl_wikipedia,\n",
    "\n",
    "                      },\n",
    "                'portuguese':\n",
    "                      {\n",
    "                          'pt_floresta': corpus_pt_floresta, \n",
    "                          'pt_wordnet': corpus_pt_wordnet,\n",
    "                          'pt_europarl': corpus_pt_wordnet,\n",
    "                      },\n",
    "                'spanish':\n",
    "                      {\n",
    "                          'sp_cess': corpus_sp_cess, \n",
    "                          'sp_wordnet': corpus_sp_wordnet,\n",
    "                          'sp_europarl': corpus_sp_europarl,\n",
    "                      },\n",
    "                'english':\n",
    "                      {\n",
    "                          'en_brown': corpus_en_brown,\n",
    "                          'en_wordnet': corpus_en_wordnet,                               \n",
    "                          'en_europarl': corpus_en_europarl,\n",
    "                      },\n",
    "                  }"
   ]
  },
  {
   "cell_type": "code",
   "execution_count": 25,
   "metadata": {},
   "outputs": [
    {
     "name": "stdout",
     "output_type": "stream",
     "text": [
      "'deserializing from /home/xurxo/todo/tmp//vocabularies/gl_corga.vocab'\n",
      "('deserializing from '\n",
      " '/home/xurxo/todo/tmp//vocabularies/gl_wordnetl.vocab')\n",
      "('deserializing from '\n",
      " '/home/xurxo/todo/tmp//vocabularies/pt_floresta.vocab')\n",
      "('deserializing from '\n",
      " '/home/xurxo/todo/tmp//vocabularies/pt_wordnet.vocab')\n",
      "('deserializing from '\n",
      " '/home/xurxo/todo/tmp//vocabularies/pt_europarl.vocab')\n",
      "'deserializing from /home/xurxo/todo/tmp//vocabularies/sp_cess.vocab'\n",
      "('deserializing from '\n",
      " '/home/xurxo/todo/tmp//vocabularies/sp_wordnet.vocab')\n",
      "('deserializing from '\n",
      " '/home/xurxo/todo/tmp//vocabularies/sp_europarl.vocab')\n",
      "'deserializing from /home/xurxo/todo/tmp//vocabularies/en_brown.vocab'\n",
      "('deserializing from '\n",
      " '/home/xurxo/todo/tmp//vocabularies/en_wordnet.vocab')\n",
      "('deserializing from '\n",
      " '/home/xurxo/todo/tmp//vocabularies/en_europarl.vocab')\n"
     ]
    }
   ],
   "source": [
    "def get_vocabulary (corpus_name, word_list):\n",
    "    try:\n",
    "        vocab = deserialize_from_disk(f'{tmp_dir}/vocabularies/{corpus_name}.vocab')\n",
    "    except:\n",
    "        vocab = set(w for w in word_list)\n",
    "        serialize_to_disk(f'{tmp_dir}/vocabularies/{corpus_name}.vocab', vocab)\n",
    "    return vocab\n",
    "\n",
    "\n",
    "all_vocab= {}\n",
    "for lang, corpus_dict in all_corpus.items():\n",
    "    all_vocab[lang] = {}\n",
    "    for corpus_name, corpus in corpus_dict.items():\n",
    "        all_vocab[lang][corpus_name] =  get_vocabulary(corpus_name, corpus)  "
   ]
  },
  {
   "cell_type": "markdown",
   "metadata": {},
   "source": [
    "# NLTK: comparing words of text with words of corpus \n",
    "\n",
    "\n",
    "The idea is similar to previous part: compare the words in the sentence with a list of words. But in ths case I use a big list of words. Again,for Galician, I use CORGA corpus again\n",
    "\n",
    "\n",
    "For Spanish I used CESS corpora, present in NLTK library, and for Portuguese we use Floresta corups, in NLTK too. I choose it because it have pt_BR and pt_PT sentences. The alternavie, use Mac_morpho corpus, with pt_BR sentences.\n",
    "\n",
    "The algorithm is sensible to dictionary. For example, first I tried nltk.corpus.words corpus to try detect English sentences. But, as you can see in https://stackoverflow.com/questions/34756738/missing-words-in-nltk-vocabulary-python\n",
    "this corpus is big (234377 words), but old (1932): it don't include words like _software_ _monitoring_ _server_ or _recommendations_. So, using this corpus, the algorith returns:\n",
    "\n",
    "```python\n",
    ">>> detect_vocab(['recommendations', 'on', 'server', 'monitoring', 'software'])\n",
    "galician\n",
    "```\n",
    "\n",
    "I try others wordlists, including Brow, Floresta, CESS and WordNet corpora, all present in NLTK. For Galician, again, I use the CORGA corpus, processing it because the original is case sensitive. \n",
    "\n",
    "I tried all the combinations of wordlists:\n",
    "English: brown, wordnet\n",
    "Portuguese: floresta, wordnet\n",
    "Spanish: cess, wordnet\n",
    "Galician: wordnet, Corga corpus \n"
   ]
  },
  {
   "cell_type": "code",
   "execution_count": 26,
   "metadata": {},
   "outputs": [],
   "source": [
    "\n",
    "def detect_vocab (tokens, verbose=False, plot_confusion=True):\n",
    "    ratios={}\n",
    "    text_vocab = set(w for w in tokens if w.isalpha())\n",
    "    if verbose: pp.pprint(('vocab: ', text_vocab))\n",
    "    for v in vocabs:\n",
    "        if verbose: pp.pprint((v, text_vocab.difference(vocabs[v])))\n",
    "        ratios[v] = len(text_vocab.difference(vocabs[v]) )\n",
    "    m = min(ratios.values())\n",
    "    l = [k for k, v in ratios.items() if v == m]\n",
    "    # if (len(l)>1): print(tokens,ratios)\n",
    "    return random.choice([k for k, v in ratios.items() if v == m])\n",
    "\n",
    "    \n"
   ]
  },
  {
   "cell_type": "code",
   "execution_count": 27,
   "metadata": {},
   "outputs": [
    {
     "name": "stdout",
     "output_type": "stream",
     "text": [
      "detect_vocab     Accuracy: 0.8925       Time: 0.0708620548248291\n",
      "detect_vocab     Accuracy: 0.828       Time: 0.06737422943115234\n",
      "detect_vocab     Accuracy: 0.827       Time: 0.06741213798522949\n",
      "detect_vocab     Accuracy: 0.74       Time: 0.06750106811523438\n",
      "detect_vocab     Accuracy: 0.699       Time: 0.06744146347045898\n",
      "detect_vocab     Accuracy: 0.703       Time: 0.06547832489013672\n",
      "detect_vocab     Accuracy: 0.7435       Time: 0.06458091735839844\n",
      "detect_vocab     Accuracy: 0.662       Time: 0.06508851051330566\n",
      "detect_vocab     Accuracy: 0.6725       Time: 0.06605267524719238\n",
      "detect_vocab     Accuracy: 0.641       Time: 0.0649557113647461\n",
      "detect_vocab     Accuracy: 0.653       Time: 0.06519532203674316\n",
      "detect_vocab     Accuracy: 0.6625       Time: 0.06563639640808105\n",
      "detect_vocab     Accuracy: 0.8785       Time: 0.0658719539642334\n",
      "detect_vocab     Accuracy: 0.816       Time: 0.06741690635681152\n",
      "detect_vocab     Accuracy: 0.8195       Time: 0.07823324203491211\n",
      "detect_vocab     Accuracy: 0.735       Time: 0.06873178482055664\n",
      "detect_vocab     Accuracy: 0.69       Time: 0.06619453430175781\n",
      "detect_vocab     Accuracy: 0.6935       Time: 0.0654752254486084\n",
      "detect_vocab     Accuracy: 0.8935       Time: 0.06562018394470215\n",
      "detect_vocab     Accuracy: 0.812       Time: 0.0655975341796875\n",
      "detect_vocab     Accuracy: 0.8175       Time: 0.06740117073059082\n",
      "detect_vocab     Accuracy: 0.7285       Time: 0.06645512580871582\n",
      "detect_vocab     Accuracy: 0.692       Time: 0.06511473655700684\n",
      "detect_vocab     Accuracy: 0.695       Time: 0.0684671401977539\n",
      "detect_vocab     Accuracy: 0.7265       Time: 0.06666851043701172\n",
      "detect_vocab     Accuracy: 0.661       Time: 0.0659327507019043\n",
      "detect_vocab     Accuracy: 0.663       Time: 0.06683778762817383\n",
      "detect_vocab     Accuracy: 0.635       Time: 0.06618428230285645\n",
      "detect_vocab     Accuracy: 0.6655       Time: 0.0646820068359375\n",
      "detect_vocab     Accuracy: 0.6685       Time: 0.06616640090942383\n",
      "detect_vocab     Accuracy: 0.8605       Time: 0.06690621376037598\n",
      "detect_vocab     Accuracy: 0.7915       Time: 0.06593203544616699\n",
      "detect_vocab     Accuracy: 0.789       Time: 0.06751775741577148\n",
      "detect_vocab     Accuracy: 0.7175       Time: 0.06684041023254395\n",
      "detect_vocab     Accuracy: 0.676       Time: 0.06537270545959473\n",
      "detect_vocab     Accuracy: 0.6755       Time: 0.08577513694763184\n",
      "detect_vocab     Accuracy: 0.906       Time: 0.06424880027770996\n",
      "detect_vocab     Accuracy: 0.825       Time: 0.06386184692382812\n",
      "detect_vocab     Accuracy: 0.831       Time: 0.06624770164489746\n",
      "detect_vocab     Accuracy: 0.7435       Time: 0.06490540504455566\n",
      "detect_vocab     Accuracy: 0.703       Time: 0.06435227394104004\n",
      "detect_vocab     Accuracy: 0.7035       Time: 0.06787323951721191\n",
      "detect_vocab     Accuracy: 0.7505       Time: 0.0644369125366211\n",
      "detect_vocab     Accuracy: 0.6655       Time: 0.06465601921081543\n",
      "detect_vocab     Accuracy: 0.675       Time: 0.06566667556762695\n",
      "detect_vocab     Accuracy: 0.649       Time: 0.06799602508544922\n",
      "detect_vocab     Accuracy: 0.7055       Time: 0.06458663940429688\n",
      "detect_vocab     Accuracy: 0.699       Time: 0.06713223457336426\n",
      "detect_vocab     Accuracy: 0.8765       Time: 0.06382989883422852\n",
      "detect_vocab     Accuracy: 0.8095       Time: 0.06458210945129395\n",
      "detect_vocab     Accuracy: 0.81       Time: 0.06574678421020508\n",
      "detect_vocab     Accuracy: 0.7405       Time: 0.06432771682739258\n",
      "detect_vocab     Accuracy: 0.6965       Time: 0.06389617919921875\n",
      "detect_vocab     Accuracy: 0.701       Time: 0.06665754318237305\n"
     ]
    },
    {
     "data": {
      "text/plain": [
       "[('en_wordnet/sp_wordnet/gl_wordnetl/pt_floresta', 0.635),\n",
       " ('en_brown/sp_wordnet/gl_wordnetl/pt_floresta', 0.641),\n",
       " ('en_europarl/sp_wordnet/gl_wordnetl/pt_floresta', 0.649),\n",
       " ('en_brown/sp_wordnet/gl_wordnetl/pt_wordnet', 0.653),\n",
       " ('en_wordnet/sp_wordnet/gl_corga/pt_wordnet', 0.661),\n",
       " ('en_brown/sp_wordnet/gl_corga/pt_wordnet', 0.662),\n",
       " ('en_brown/sp_wordnet/gl_wordnetl/pt_europarl', 0.6625),\n",
       " ('en_wordnet/sp_wordnet/gl_corga/pt_europarl', 0.663),\n",
       " ('en_wordnet/sp_wordnet/gl_wordnetl/pt_wordnet', 0.6655),\n",
       " ('en_europarl/sp_wordnet/gl_corga/pt_wordnet', 0.6655),\n",
       " ('en_wordnet/sp_wordnet/gl_wordnetl/pt_europarl', 0.6685),\n",
       " ('en_brown/sp_wordnet/gl_corga/pt_europarl', 0.6725),\n",
       " ('en_europarl/sp_wordnet/gl_corga/pt_europarl', 0.675),\n",
       " ('en_wordnet/sp_europarl/gl_wordnetl/pt_europarl', 0.6755),\n",
       " ('en_wordnet/sp_europarl/gl_wordnetl/pt_wordnet', 0.676),\n",
       " ('en_brown/sp_europarl/gl_wordnetl/pt_wordnet', 0.69),\n",
       " ('en_wordnet/sp_cess/gl_wordnetl/pt_wordnet', 0.692),\n",
       " ('en_brown/sp_europarl/gl_wordnetl/pt_europarl', 0.6935),\n",
       " ('en_wordnet/sp_cess/gl_wordnetl/pt_europarl', 0.695),\n",
       " ('en_europarl/sp_europarl/gl_wordnetl/pt_wordnet', 0.6965),\n",
       " ('en_brown/sp_cess/gl_wordnetl/pt_wordnet', 0.699),\n",
       " ('en_europarl/sp_wordnet/gl_wordnetl/pt_europarl', 0.699),\n",
       " ('en_europarl/sp_europarl/gl_wordnetl/pt_europarl', 0.701),\n",
       " ('en_brown/sp_cess/gl_wordnetl/pt_europarl', 0.703),\n",
       " ('en_europarl/sp_cess/gl_wordnetl/pt_wordnet', 0.703),\n",
       " ('en_europarl/sp_cess/gl_wordnetl/pt_europarl', 0.7035),\n",
       " ('en_europarl/sp_wordnet/gl_wordnetl/pt_wordnet', 0.7055),\n",
       " ('en_wordnet/sp_europarl/gl_wordnetl/pt_floresta', 0.7175),\n",
       " ('en_wordnet/sp_wordnet/gl_corga/pt_floresta', 0.7265),\n",
       " ('en_wordnet/sp_cess/gl_wordnetl/pt_floresta', 0.7285),\n",
       " ('en_brown/sp_europarl/gl_wordnetl/pt_floresta', 0.735),\n",
       " ('en_brown/sp_cess/gl_wordnetl/pt_floresta', 0.74),\n",
       " ('en_europarl/sp_europarl/gl_wordnetl/pt_floresta', 0.7405),\n",
       " ('en_brown/sp_wordnet/gl_corga/pt_floresta', 0.7435),\n",
       " ('en_europarl/sp_cess/gl_wordnetl/pt_floresta', 0.7435),\n",
       " ('en_europarl/sp_wordnet/gl_corga/pt_floresta', 0.7505),\n",
       " ('en_wordnet/sp_europarl/gl_corga/pt_europarl', 0.789),\n",
       " ('en_wordnet/sp_europarl/gl_corga/pt_wordnet', 0.7915),\n",
       " ('en_europarl/sp_europarl/gl_corga/pt_wordnet', 0.8095),\n",
       " ('en_europarl/sp_europarl/gl_corga/pt_europarl', 0.81),\n",
       " ('en_wordnet/sp_cess/gl_corga/pt_wordnet', 0.812),\n",
       " ('en_brown/sp_europarl/gl_corga/pt_wordnet', 0.816),\n",
       " ('en_wordnet/sp_cess/gl_corga/pt_europarl', 0.8175),\n",
       " ('en_brown/sp_europarl/gl_corga/pt_europarl', 0.8195),\n",
       " ('en_europarl/sp_cess/gl_corga/pt_wordnet', 0.825),\n",
       " ('en_brown/sp_cess/gl_corga/pt_europarl', 0.827),\n",
       " ('en_brown/sp_cess/gl_corga/pt_wordnet', 0.828),\n",
       " ('en_europarl/sp_cess/gl_corga/pt_europarl', 0.831),\n",
       " ('en_wordnet/sp_europarl/gl_corga/pt_floresta', 0.8605),\n",
       " ('en_europarl/sp_europarl/gl_corga/pt_floresta', 0.8765),\n",
       " ('en_brown/sp_europarl/gl_corga/pt_floresta', 0.8785),\n",
       " ('en_brown/sp_cess/gl_corga/pt_floresta', 0.8925),\n",
       " ('en_wordnet/sp_cess/gl_corga/pt_floresta', 0.8935),\n",
       " ('en_europarl/sp_cess/gl_corga/pt_floresta', 0.906)]"
      ]
     },
     "execution_count": 27,
     "metadata": {},
     "output_type": "execute_result"
    }
   ],
   "source": [
    "from operator import itemgetter\n",
    "import random\n",
    "\n",
    "results = {}\n",
    "for english_corpus, english_vocab in all_vocab['english'].items():\n",
    "    for spanish_corpus, spanish_vocab in all_vocab['spanish'].items():\n",
    "        for galician_corpus, galician_vocab in all_vocab['galician'].items():\n",
    "            for portuguese_corpus, portuguese_vocab in all_vocab['portuguese'].items():\n",
    "                \n",
    "                vocabs = { 'english': english_vocab, \n",
    "                          'spanish': spanish_vocab, \n",
    "                          'galician': galician_vocab, \n",
    "                          'portuguese': portuguese_vocab, }\n",
    "                combo_name = '/'.join([english_corpus,spanish_corpus,galician_corpus,portuguese_corpus])\n",
    "                results[combo_name] = compute_accuracy_tokens(titles_sentences, detect_vocab, plot_confusion=False) \n",
    "                \n",
    "\n",
    "sorted(results.items(), key=itemgetter(1))\n"
   ]
  },
  {
   "cell_type": "markdown",
   "metadata": {},
   "source": [
    "The combination brown/cess/wordnet_gl corpora combination seems the most promising. Choose wordnet_pt, europarl_pt or floresta doesn't make the difference. There are a lot of difference between worst and best case: gl_wikipedia corpus contais a lot of non-Galician words, so it cause a lot of mistakes."
   ]
  },
  {
   "cell_type": "code",
   "execution_count": 28,
   "metadata": {},
   "outputs": [
    {
     "name": "stdout",
     "output_type": "stream",
     "text": [
      "detect_vocab     Accuracy: 0.6685       Time: 0.06889510154724121\n"
     ]
    },
    {
     "data": {
      "text/plain": [
       "0.6685"
      ]
     },
     "execution_count": 28,
     "metadata": {},
     "output_type": "execute_result"
    },
    {
     "data": {
      "image/png": "[encoded data removed]",
      "text/plain": [
       "<Figure size 432x288 with 1 Axes>"
      ]
     },
     "metadata": {},
     "output_type": "display_data"
    }
   ],
   "source": [
    "vocabs = { 'english': all_vocab['english']['en_wordnet'], \n",
    "          'spanish':  all_vocab['spanish']['sp_wordnet'], \n",
    "          'galician':  all_vocab['galician']['gl_wordnetl'], # gl_wikipedia\n",
    "          'portuguese':  all_vocab['portuguese']['pt_wordnet'], } \n",
    "\n",
    "compute_accuracy_tokens(titles_sentences, detect_vocab) "
   ]
  },
  {
   "cell_type": "code",
   "execution_count": 29,
   "metadata": {},
   "outputs": [
    {
     "name": "stdout",
     "output_type": "stream",
     "text": [
      "detect_vocab     Accuracy: 0.892       Time: 0.06909370422363281\n"
     ]
    },
    {
     "data": {
      "text/plain": [
       "0.892"
      ]
     },
     "execution_count": 29,
     "metadata": {},
     "output_type": "execute_result"
    },
    {
     "data": {
      "image/png": "[encoded data removed]",
      "text/plain": [
       "<Figure size 432x288 with 1 Axes>"
      ]
     },
     "metadata": {},
     "output_type": "display_data"
    }
   ],
   "source": [
    "\n",
    "vocabs = { 'english': all_vocab['english']['en_europarl'], \n",
    "          'spanish':  all_vocab['spanish']['sp_cess'], \n",
    "          'galician':  all_vocab['galician']['gl_corga'], \n",
    "          'portuguese':  all_vocab['portuguese']['pt_floresta'], } # or floresta\n",
    "\n",
    "compute_accuracy_tokens(titles_sentences, detect_vocab)"
   ]
  },
  {
   "cell_type": "markdown",
   "metadata": {},
   "source": [
    "# NLTK bigram+unigram taggers\n",
    "\n",
    "Essentially, I tag each word in the sentence with several taggers, one per language. 'Tag' a sentence means assign  parts of speech to each word: verb, noun, etc. If you tray tag an English sentence with a Spanish tagger, you will obtain a lot of words untagged. So, the result with more tagged word indicate the more  language. \n",
    "\n",
    "\n",
    "Alternative 1: Use NLTK taggers. They need some training data, a previously list of tagged sentences.\n",
    "\n",
    "The NLTKL library doesn't provide a tagged Galician corpus, either The Linguistic Data Consortium  (https://catalog.ldc.upenn.edu/search). Again, the Centro Ramón Piñeiro provides a tagger for Galician.   Reference: Etiquetador/Lematizador do Galego Actual (XIADA) [2.6] - http://corpus.cirp.es/xiada\n",
    "\n",
    "I used an adapted version of the oriented object tagger by alvations (https://github.com/alvations/spaghetti-tagger/blob/master/spaghetti.py )\n",
    "\n",
    "Alternative:\n",
    "http://www.cis.uni-muenchen.de/~schmid/tools/TreeTagger/ , via the Wraper  https://perso.limsi.fr/pointal/doku.php?id=dev:treetaggerwrapper \n",
    "\n",
    "\n"
   ]
  },
  {
   "cell_type": "code",
   "execution_count": 30,
   "metadata": {},
   "outputs": [],
   "source": [
    "from nltk import UnigramTagger, BigramTagger\n",
    "from nltk.corpus import cess_esp as cess_corpus\n",
    "from nltk.corpus import brown as brown_corpus\n",
    "from nltk.corpus import floresta as floresta_corpus\n",
    "\n",
    "\n",
    "def train_tagger(corpus_name, corpus, ):\n",
    "    \"\"\" Function to train tagger. \"\"\"\n",
    "    # Training UnigramTagger.\n",
    "    uni_tag = UnigramTagger(corpus)\n",
    "    # Training BigramTagger.\n",
    "    bi_tag = BigramTagger(corpus, backoff=uni_tag)\n",
    "    \n",
    "    \n",
    "    return uni_tag, bi_tag\n",
    "\n",
    "def unchunk(corpus): \n",
    "    \"\"\" Function to unchunk corpus. \"\"\"\n",
    "    nomwe_corpus = []\n",
    "    for i in corpus:\n",
    "        nomwe = \" \".join([j[0].replace(\"_\",\" \") for j in i])\n",
    "        nomwe_corpus.append(nomwe.split())\n",
    "    return nomwe_corpus\n",
    "\n",
    "\n",
    "class XiadaCorpus ():\n",
    "    def __init__(self, corpus):\n",
    "        self._corpus = corpus\n",
    "    def tagged_sents(self):\n",
    "        return self._corpus\n",
    "    \n",
    "def get_xiada_corpus ():\n",
    "    xiada  = []\n",
    "    sentence = []\n",
    "    num_line = 0\n",
    "    with open('resources/xiada_corpus/corpus_completo_etiquetado.txt', 'r') as file:\n",
    "        for line in file.readlines():\n",
    "            num_line += 1\n",
    "            try:\n",
    "                if ('\\t' not in line) and sentence:\n",
    "                    xiada.append(sentence)\n",
    "                    sentence = []\n",
    "                else:\n",
    "                    word, tag, _ = line.split ('\\t');\n",
    "                    sentence.append((word, tag))\n",
    "            except:\n",
    "                print ('error at: ' , num_line, line)\n",
    "                raise\n",
    "    return XiadaCorpus(xiada)\n",
    "         "
   ]
  },
  {
   "cell_type": "code",
   "execution_count": 31,
   "metadata": {},
   "outputs": [],
   "source": [
    "import os \n",
    "\n",
    "class BaseTagger():\n",
    "    def __init__(self, filename_prefix, corpus):\n",
    "        unigra_tagger_fname = f'{tmp_dir}/taggers/{filename_prefix}_unigram.tagger'\n",
    "        bigram_tagger_fname = f'{tmp_dir}/taggers/{filename_prefix}_bigram.tagger'\n",
    "        if not os.path.isfile(unigra_tagger_fname):\n",
    "            # Train tagger if it's used for the first time.\n",
    "            print (f\"*** First-time use of {filename_prefix} tagger ***\", file=sys.stderr)\n",
    "            print (\"Training tagger ...\", file=sys.stderr)\n",
    "            # Load corpus.\n",
    "            corpus = corpus.tagged_sents()\n",
    "            # corpus = unchunk(corpus.tagged_sents())\n",
    "            # corpus = pos_tag_sents(corpus, False)\n",
    "            slef_uni, self.bi = train_tagger (filename_prefix, corpus)\n",
    "            serialize_to_disk (unigram_tagger_fname, slef_uni)\n",
    "            serialize_to_disk(bigram_tagger_fname, self.bi)\n",
    "        else:\n",
    "            # Load tagger.\n",
    "            self.uni = deserialize_from_disk (unigra_tagger_fname)\n",
    "            self.bi = deserialize_from_disk (bigram_tagger_fname)\n",
    "        \n",
    "        \n",
    "class FlorestaTagger(BaseTagger):\n",
    "    def __init__(self):\n",
    "        super().__init__('floresta', floresta_corpus)\n",
    "\n",
    "class CESSTagger(BaseTagger):\n",
    "    def __init__(self):\n",
    "        super().__init__('cess', cess_corpus)\n",
    "        \n",
    "class BrownTagger(BaseTagger):\n",
    "    def __init__(self):\n",
    "        super().__init__('brown', brown_corpus)\n",
    "\n",
    "class XiadaTagger(BaseTagger):\n",
    "    def __init__(self):\n",
    "        super().__init__('xiada', get_xiada_corpus())"
   ]
  },
  {
   "cell_type": "code",
   "execution_count": 32,
   "metadata": {},
   "outputs": [
    {
     "name": "stdout",
     "output_type": "stream",
     "text": [
      "('deserializing from '\n",
      " '/home/xurxo/todo/tmp//taggers/xiada_unigram.tagger')\n",
      "'deserializing from /home/xurxo/todo/tmp//taggers/xiada_bigram.tagger'\n"
     ]
    },
    {
     "data": {
      "text/plain": [
       "[('os', 'Ddmp'),\n",
       " ('activistas', 'Scap'),\n",
       " ('explicaron', 'Vei30p'),\n",
       " ('aos', None),\n",
       " ('presentes', 'A0mp'),\n",
       " ('que', 'Cs'),\n",
       " ('a', 'Ddfs'),\n",
       " ('reapertura', 'Scfs'),\n",
       " ('da', 'Vpi30s'),\n",
       " ('explotación', 'Scfs'),\n",
       " ('en', 'P'),\n",
       " ('touro', 'Scms'),\n",
       " ('“', None),\n",
       " ('non', 'Wn'),\n",
       " ('ten', 'Vpi30s'),\n",
       " ('viablidade', None),\n",
       " ('”', None),\n",
       " ('.', 'Q.'),\n",
       " ('e', 'Cc'),\n",
       " ('avisaron', 'Vei30p'),\n",
       " ('da', 'Vpi30s'),\n",
       " ('“', None),\n",
       " ('forte', 'A0ms'),\n",
       " ('oposición', 'Scfs'),\n",
       " ('”', None),\n",
       " ('veciñal', None),\n",
       " ('á', None),\n",
       " ('mesma', 'Idfs'),\n",
       " (',', 'Q,'),\n",
       " ('que', 'Cs'),\n",
       " ('soborda', None),\n",
       " ('a', 'Ddfs'),\n",
       " ('bisbarra', 'Scfs'),\n",
       " ('e', 'Cc'),\n",
       " ('esténdese', None),\n",
       " ('ulla', None),\n",
       " ('abaixo', 'Wn'),\n",
       " ('.', 'Q.'),\n",
       " ('de', 'P'),\n",
       " ('feito', 'Scms'),\n",
       " (',', 'Q,'),\n",
       " ('as', 'Ddfp'),\n",
       " ('comarcas', 'Scfp'),\n",
       " ('da', 'Vpi30s'),\n",
       " ('arousa', None),\n",
       " ('atópanse', None),\n",
       " ('entre', 'P'),\n",
       " ('as', 'Ddfp'),\n",
       " ('prinicipais', None),\n",
       " ('zonas', 'Scfp'),\n",
       " ('contrarias', None),\n",
       " ('á', None),\n",
       " ('mina', 'Scfs'),\n",
       " ('.', 'Q.')]"
      ]
     },
     "execution_count": 32,
     "metadata": {},
     "output_type": "execute_result"
    }
   ],
   "source": [
    "XiadaTagger().uni.tag(gl_tokens)"
   ]
  },
  {
   "cell_type": "code",
   "execution_count": 33,
   "metadata": {},
   "outputs": [
    {
     "name": "stdout",
     "output_type": "stream",
     "text": [
      "('deserializing from '\n",
      " '/home/xurxo/todo/tmp//taggers/brown_unigram.tagger')\n",
      "'deserializing from /home/xurxo/todo/tmp//taggers/brown_bigram.tagger'\n",
      "'deserializing from /home/xurxo/todo/tmp//taggers/cess_unigram.tagger'\n",
      "'deserializing from /home/xurxo/todo/tmp//taggers/cess_bigram.tagger'\n",
      "('deserializing from '\n",
      " '/home/xurxo/todo/tmp//taggers/floresta_unigram.tagger')\n",
      "('deserializing from '\n",
      " '/home/xurxo/todo/tmp//taggers/floresta_bigram.tagger')\n",
      "('deserializing from '\n",
      " '/home/xurxo/todo/tmp//taggers/xiada_unigram.tagger')\n",
      "'deserializing from /home/xurxo/todo/tmp//taggers/xiada_bigram.tagger'\n"
     ]
    }
   ],
   "source": [
    "taggers = {'english' : BrownTagger(),\n",
    "           'spanish' : CESSTagger(),\n",
    "           'portuguese' : FlorestaTagger(),\n",
    "           'galician' : XiadaTagger(),}\n",
    "\n",
    "def detect_nltk_tagger (tokens):\n",
    "\n",
    "    \n",
    "    result = {}\n",
    "    for k, tagger in taggers.items():\n",
    "        tagged_words = list(n for n in tagger.uni.tag(tokens) if n[1])\n",
    "        result[k]=  len(tagged_words)\n",
    "                     \n",
    "    most_rated_language = max(result.values())\n",
    "    \n",
    "    return random.choice([k for k, v in result.items() if v == most_rated_language])\n",
    "\n",
    "\n",
    "    return most_rated_language\n"
   ]
  },
  {
   "cell_type": "code",
   "execution_count": 34,
   "metadata": {},
   "outputs": [
    {
     "name": "stdout",
     "output_type": "stream",
     "text": [
      "english\n",
      "spanish\n",
      "galician\n",
      "portuguese\n"
     ]
    }
   ],
   "source": [
    "print(detect_nltk_tagger(en_tokens))\n",
    "print(detect_nltk_tagger(es_tokens))\n",
    "print(detect_nltk_tagger(gl_tokens))\n",
    "print(detect_nltk_tagger(pt_tokens))"
   ]
  },
  {
   "cell_type": "code",
   "execution_count": 35,
   "metadata": {},
   "outputs": [
    {
     "name": "stdout",
     "output_type": "stream",
     "text": [
      "detect_nltk_tagger     Accuracy: 0.858       Time: 0.3388049602508545\n"
     ]
    },
    {
     "data": {
      "text/plain": [
       "0.858"
      ]
     },
     "execution_count": 35,
     "metadata": {},
     "output_type": "execute_result"
    },
    {
     "data": {
      "image/png": "[encoded data removed]",
      "text/plain": [
       "<Figure size 432x288 with 1 Axes>"
      ]
     },
     "metadata": {},
     "output_type": "display_data"
    }
   ],
   "source": [
    "compute_accuracy_tokens(titles_sentences, detect_nltk_tagger)"
   ]
  },
  {
   "cell_type": "code",
   "execution_count": 36,
   "metadata": {},
   "outputs": [
    {
     "name": "stdout",
     "output_type": "stream",
     "text": [
      "                          algorithm     accuracy                 \n",
      "                               ----     ----                     \n",
      "              detect_nltk_stopwords     0.741                    \n",
      "        detect_glhandmade_stopwords     0.749                    \n",
      "            detect_unique_stopwords     0.686                    \n",
      "             predict_language_naive     0.7115                   \n",
      "                       detect_vocab     0.892                    \n",
      "                 detect_nltk_tagger     0.858                    \n",
      "\n",
      "                          algorithm     time                     \n",
      "                               ----     ----                     \n",
      "              detect_nltk_stopwords     0.14765024185180664      \n",
      "        detect_glhandmade_stopwords     0.12692832946777344      \n",
      "            detect_unique_stopwords     0.1293480396270752       \n",
      "             predict_language_naive     0.13068032264709473      \n",
      "                       detect_vocab     0.06909370422363281      \n",
      "                 detect_nltk_tagger     0.3388049602508545       \n"
     ]
    }
   ],
   "source": [
    "plot_all_accuracies()"
   ]
  },
  {
   "cell_type": "markdown",
   "metadata": {},
   "source": [
    "# Langdetect\n",
    "Port of Google’s (https://code.google.com/p/language-detection/) library (version from 03/03/2014) to Python\n",
    "\n",
    "See: https://pypi.org/project/langdetect/\n",
    "```bash\n",
    "pip install langdetect\n",
    "```\n",
    " \n",
    " \n",
    "- Galician no available out of the box (https://code.google.com/archive/p/language-detection/wikis/LanguageList.wiki), but accept create new profiles\n",
    "- The algorithm use a improved dataset extracted from Wikipedia, and a naive Bayes (see https://www.slideshare.net/shuyo/language-detection-library-for-java)\n",
    "\n",
    "In order to create new profile , run:\n",
    "\n",
    "```bash\n",
    "\n",
    "git clone https://github.com/shuyo/language-detection.git\n",
    "cd language-detection\n",
    "wget https://dumps.wikimedia.org/glwiki/latest/glwiki-latest-abstract.xml.gz\n",
    "java -jar lib/langdetect.jar --genprofile -d . gl\n",
    "cp language-detection/profiles/gl /home/xurxo/.pyenv/versions/langdetect-survey/lib/python3.6/site-packages/langdetect/profiles \n",
    "```\n"
   ]
  },
  {
   "cell_type": "code",
   "execution_count": 37,
   "metadata": {},
   "outputs": [],
   "source": [
    "from langdetect import detect, lang_detect_exception\n",
    "\n",
    "\n",
    "def detect_langdetect(sentence):\n",
    "    try:\n",
    "        return iso_to_human[detect(sentence)]\n",
    "    except (lang_detect_exception.LangDetectException, KeyError):\n",
    "        return 'unknown'"
   ]
  },
  {
   "cell_type": "code",
   "execution_count": 38,
   "metadata": {},
   "outputs": [
    {
     "name": "stdout",
     "output_type": "stream",
     "text": [
      "english\n",
      "spanish\n",
      "galician\n",
      "portuguese\n"
     ]
    }
   ],
   "source": [
    "print(detect_langdetect(english_text))\n",
    "print(detect_langdetect(spanish_text))\n",
    "print(detect_langdetect(galician_text))\n",
    "print(detect_langdetect(portuguese_text))\n"
   ]
  },
  {
   "cell_type": "code",
   "execution_count": 39,
   "metadata": {
    "scrolled": false
   },
   "outputs": [
    {
     "name": "stdout",
     "output_type": "stream",
     "text": [
      "detect_langdetect     Accuracy: 0.874       Time: 65.69226431846619\n"
     ]
    },
    {
     "data": {
      "text/plain": [
       "0.874"
      ]
     },
     "execution_count": 39,
     "metadata": {},
     "output_type": "execute_result"
    },
    {
     "data": {
      "image/png": "[encoded data removed]",
      "text/plain": [
       "<Figure size 432x288 with 1 Axes>"
      ]
     },
     "metadata": {},
     "output_type": "display_data"
    }
   ],
   "source": [
    "# very slow\n",
    "\n",
    "compute_accuracy_sentences(titles_sentences_small, detect_langdetect)"
   ]
  },
  {
   "cell_type": "markdown",
   "metadata": {},
   "source": [
    "# Langid\n",
    "\n",
    "https://github.com/saffsd/langid.py\n",
    "\n",
    "```bash\n",
    "pip install langid\n",
    "```\n",
    "\n",
    "Galician out of the box!"
   ]
  },
  {
   "cell_type": "code",
   "execution_count": 40,
   "metadata": {},
   "outputs": [],
   "source": [
    "import langid\n",
    "langid.set_languages(['es','en','gl','pt'])\n",
    "langid.classify(\"This is a test\")\n",
    "\n",
    "\n",
    "def lang_id_detection(sentence):\n",
    "    return iso_to_human[langid.classify(sentence)[0]]\n"
   ]
  },
  {
   "cell_type": "code",
   "execution_count": 41,
   "metadata": {},
   "outputs": [
    {
     "name": "stdout",
     "output_type": "stream",
     "text": [
      "english\n",
      "spanish\n",
      "galician\n",
      "portuguese\n"
     ]
    }
   ],
   "source": [
    "print(lang_id_detection(english_text))\n",
    "print(lang_id_detection(spanish_text))\n",
    "print(lang_id_detection(galician_text))\n",
    "print(lang_id_detection(portuguese_text))\n"
   ]
  },
  {
   "cell_type": "code",
   "execution_count": 42,
   "metadata": {},
   "outputs": [
    {
     "name": "stdout",
     "output_type": "stream",
     "text": [
      "lang_id_detection     Accuracy: 0.8525       Time: 1.3216664791107178\n"
     ]
    },
    {
     "data": {
      "text/plain": [
       "0.8525"
      ]
     },
     "execution_count": 42,
     "metadata": {},
     "output_type": "execute_result"
    },
    {
     "data": {
      "image/png": "[encoded data removed]",
      "text/plain": [
       "<Figure size 432x288 with 1 Axes>"
      ]
     },
     "metadata": {},
     "output_type": "display_data"
    }
   ],
   "source": [
    "\n",
    "compute_accuracy_sentences(titles_sentences, lang_id_detection)"
   ]
  },
  {
   "cell_type": "markdown",
   "metadata": {},
   "source": [
    "# Not valid solutions\n",
    "\n",
    "## Gesslanguage\n",
    "https://pypi.org/project/guess-language/\n",
    "\n",
    "```bash\n",
    "pip install guess_language-spirit\n",
    "```\n",
    "\n",
    "Based on guesslanguage.cpp by Jacob R Rideout for KDE which itself is based on Language::Guess by Maciej Ceglowski.\n",
    "\n",
    "Detects over 60 languages - all languages listed in the trigrams directory plus Japanese, Chinese, Korean and Greek.\n",
    "\n",
    "guess_language uses heuristics based on the character set and trigrams in a sample text to detect the language. It works better with longer samples.\n",
    "\n",
    "It needs enchant spellchecking (a simple but comprehensive abstraction for dealing\n",
    "with different spell checking libraries in a consistent way) in order to work with sentences with 20 words or less. You need the pyenchant wrapper, and the dictionaries of the languages. Enchant repo: https://github.com/AbiWord/enchant\n",
    "\n",
    "```bash\n",
    "sudo apt install aspell-pt aspell-gl-minimos aspell-es aspell-en aspell enchant\n",
    "```\n",
    "\n",
    "\n",
    "See https://bitbucket.org/spirit/guess_language to current python library version"
   ]
  },
  {
   "cell_type": "code",
   "execution_count": 43,
   "metadata": {},
   "outputs": [],
   "source": [
    "from guess_language import guess_language\n",
    "\n",
    "def guess_language_detection(sentence):\n",
    "    return iso_to_human.get(guess_language(sentence),'unknow')"
   ]
  },
  {
   "cell_type": "code",
   "execution_count": 44,
   "metadata": {},
   "outputs": [
    {
     "name": "stdout",
     "output_type": "stream",
     "text": [
      "english\n",
      "spanish\n",
      "spanish\n",
      "portuguese\n"
     ]
    }
   ],
   "source": [
    "print(guess_language_detection(english_text))\n",
    "print(guess_language_detection(spanish_text))\n",
    "print(guess_language_detection('O periódico funcionou sempre como semanario, aínda que en diversos períodos viuse obrigado a saír quincenalmente, facendo en total 33 anos. En decembro de 2007 o periódico realizou unha importante reforma deseñística e de contidos[2]: Eiré, o daquela director, ascendía a conselleiro delegado, e as tarefas de dirección xornalística recaían en Manuel Veiga. Asemade, publicábase unha edición electrónica coordinada por César Lorenzo. Os problemas económicos, endémicos durante toda a vida desta cabeceira, comezaron a sucederse[3] ata que en agosto de 2010 a empresa editora, Promocións Culturais Galegas SA anunciou a suspensión de pagamentos e o peche do semanario en papel. A partir dese momento, continuou actualizándose a edición electrónica, que pechou definitivamente os seus contidos o 23 de setembro de 2011'))\n",
    "print(guess_language_detection(portuguese_text))\n"
   ]
  },
  {
   "cell_type": "code",
   "execution_count": 45,
   "metadata": {},
   "outputs": [
    {
     "name": "stdout",
     "output_type": "stream",
     "text": [
      "guess_language_detection     Accuracy: 0.7015       Time: 3.5139923095703125\n"
     ]
    },
    {
     "data": {
      "text/plain": [
       "0.7015"
      ]
     },
     "execution_count": 45,
     "metadata": {},
     "output_type": "execute_result"
    },
    {
     "data": {
      "image/png": "[encoded data removed]",
      "text/plain": [
       "<Figure size 432x288 with 1 Axes>"
      ]
     },
     "metadata": {},
     "output_type": "display_data"
    }
   ],
   "source": [
    "\n",
    "compute_accuracy_sentences(titles_sentences, guess_language_detection)"
   ]
  },
  {
   "cell_type": "markdown",
   "metadata": {},
   "source": [
    "\n",
    "## language-detector\n",
    "https://github.com/DanielJDufour/language-detector\n",
    "\n",
    "```bash\n",
    "pip install language-detector \n",
    "```\n",
    "\n",
    "No galician either  portuguese languages available"
   ]
  },
  {
   "cell_type": "code",
   "execution_count": 46,
   "metadata": {},
   "outputs": [],
   "source": [
    "from language_detector import detect_language\n",
    "\n",
    "\n",
    "\n",
    "\n",
    "def guess_language_detection(sentence):\n",
    "    lang = detect_language(sentence)\n",
    "    return lang.lower() if lang else 'unknow'"
   ]
  },
  {
   "cell_type": "code",
   "execution_count": 47,
   "metadata": {},
   "outputs": [
    {
     "name": "stdout",
     "output_type": "stream",
     "text": [
      "english\n",
      "spanish\n",
      "spanish\n",
      "french\n"
     ]
    }
   ],
   "source": [
    "print(guess_language_detection(english_text))\n",
    "print(guess_language_detection(spanish_text))\n",
    "print(guess_language_detection(galician_text))\n",
    "print(guess_language_detection(portuguese_text))"
   ]
  },
  {
   "cell_type": "code",
   "execution_count": 48,
   "metadata": {},
   "outputs": [
    {
     "name": "stdout",
     "output_type": "stream",
     "text": [
      "guess_language_detection     Accuracy: 0.349       Time: 0.09810543060302734\n"
     ]
    },
    {
     "data": {
      "text/plain": [
       "0.349"
      ]
     },
     "execution_count": 48,
     "metadata": {},
     "output_type": "execute_result"
    },
    {
     "data": {
      "image/png": "[encoded data removed]",
      "text/plain": [
       "<Figure size 432x288 with 1 Axes>"
      ]
     },
     "metadata": {},
     "output_type": "display_data"
    }
   ],
   "source": [
    "compute_accuracy_sentences(titles_sentences, guess_language_detection)"
   ]
  },
  {
   "cell_type": "markdown",
   "metadata": {},
   "source": [
    "# polyglot\n",
    "https://github.com/aboSamoor/polyglot / http://polyglot-nlp.com\n",
    "\n",
    "A multilingual text (NLP) processing toolkit  by Rami Al-Rfou \n",
    "\n",
    "```bash\n",
    "pip install polyglot pyicu  pycld2 morfessor\n",
    "```\n",
    "\n",
    "Polyglot uses  cld2 library, so I didn't test it here.\n"
   ]
  },
  {
   "cell_type": "code",
   "execution_count": 49,
   "metadata": {},
   "outputs": [],
   "source": [
    "from polyglot.text import Text, Detector\n",
    "\n",
    "    \n",
    "def detect_with_polyglot (text):\n",
    "    try:\n",
    "        if detector.language.code in iso_to_human:\n",
    "            return iso_to_human[Text(text).language.code]\n",
    "        else:\n",
    "            return 'unknow'\n",
    "    except:\n",
    "        return detect_vocab(word_tokenize(text))"
   ]
  },
  {
   "cell_type": "code",
   "execution_count": 50,
   "metadata": {},
   "outputs": [
    {
     "name": "stdout",
     "output_type": "stream",
     "text": [
      "english\n",
      "spanish\n",
      "galician\n",
      "portuguese\n"
     ]
    }
   ],
   "source": [
    "print(detect_with_polyglot(english_text))\n",
    "print(detect_with_polyglot(spanish_text))\n",
    "print(detect_with_polyglot(galician_text))\n",
    "print(detect_with_polyglot(portuguese_text))"
   ]
  },
  {
   "cell_type": "code",
   "execution_count": 51,
   "metadata": {},
   "outputs": [
    {
     "name": "stdout",
     "output_type": "stream",
     "text": [
      "detect_with_polyglot     Accuracy: 0.8945       Time: 1.0910234451293945\n"
     ]
    },
    {
     "data": {
      "text/plain": [
       "0.8945"
      ]
     },
     "execution_count": 51,
     "metadata": {},
     "output_type": "execute_result"
    },
    {
     "data": {
      "image/png": "[encoded data removed]",
      "text/plain": [
       "<Figure size 432x288 with 1 Axes>"
      ]
     },
     "metadata": {},
     "output_type": "display_data"
    }
   ],
   "source": [
    "import warnings\n",
    "\n",
    "warnings.filterwarnings(\"ignore\")\n",
    "\n",
    "compute_accuracy_sentences(titles_sentences, detect_with_polyglot)"
   ]
  },
  {
   "cell_type": "code",
   "execution_count": 52,
   "metadata": {},
   "outputs": [
    {
     "name": "stdout",
     "output_type": "stream",
     "text": [
      "                          algorithm     accuracy                 \n",
      "                               ----     ----                     \n",
      "              detect_nltk_stopwords     0.741                    \n",
      "        detect_glhandmade_stopwords     0.749                    \n",
      "            detect_unique_stopwords     0.686                    \n",
      "             predict_language_naive     0.7115                   \n",
      "                       detect_vocab     0.892                    \n",
      "                 detect_nltk_tagger     0.858                    \n",
      "                  detect_langdetect     0.874                    \n",
      "                  lang_id_detection     0.8525                   \n",
      "           guess_language_detection     0.349                    \n",
      "               detect_with_polyglot     0.8945                   \n",
      "\n",
      "                          algorithm     time                     \n",
      "                               ----     ----                     \n",
      "              detect_nltk_stopwords     0.14765024185180664      \n",
      "        detect_glhandmade_stopwords     0.12692832946777344      \n",
      "            detect_unique_stopwords     0.1293480396270752       \n",
      "             predict_language_naive     0.13068032264709473      \n",
      "                       detect_vocab     0.06909370422363281      \n",
      "                 detect_nltk_tagger     0.3388049602508545       \n",
      "                  detect_langdetect     65.69226431846619        \n",
      "                  lang_id_detection     1.3216664791107178       \n",
      "           guess_language_detection     0.09810543060302734      \n",
      "               detect_with_polyglot     1.0910234451293945       \n"
     ]
    }
   ],
   "source": [
    "plot_all_accuracies()"
   ]
  },
  {
   "cell_type": "markdown",
   "metadata": {},
   "source": [
    "# FastText: Learn a classifier based on n-grams embeddings\n",
    "\n",
    "Directly copied from https://tech.people-doc.com/how-to-detect-western-language-with-python.html#Learn-a-classifier-based-on-n-grams-embeddings\n",
    "\n",
    "More info abou the library FastText, by *Facebook*: https://fasttext.cc/\n",
    "\n",
    "```bash\n",
    "pip install cython\n",
    "pip install pyfasttext sklearn scipy \n",
    "# optional \n",
    "pip install csygnals numpy\n",
    "```\n",
    "\n",
    "To create a galician corpus, we use the wikipedia. You can create a text version with Wikipedia Extractor. Download code  http://medialab.di.unipi.it/wiki/Wikipedia_Extractor . You can make some tweaks like include (or not) titles, sort articles, etc. The process takes 5 min. aprox.\n",
    "\n",
    "```bash\n",
    "\n",
    "$ git clone https://github.com/attardi/wikiextractor.git\n",
    "$ cd wikiextractor\n",
    "$ wget https://dumps.wikimedia.org/glwiki/latest/glwiki-latest-pages-articles.xml.bz2\n",
    "$ bzip2 -d glwiki-latest-pages-articles.xml.bz2\n",
    "$ ./WikiExtractor.py -o . -s --no-templates --min_text_length 150 --filter_disambig_pages -de gallery,timeline,noinclude  glwiki-latest-pages-articles.xml -it abbr,b,big --json -cb 250K\n",
    "...\n",
    "INFO: 414064\tPedersöre\n",
    "INFO: Finished 3-process extraction of 149036 articles in 295.8s (503.8 art/s)\n",
    "\n",
    "$  find . -name '*bz2' -exec bunzip2 -c {} \\; >galician_wikipedia_text.json\n",
    "$  rm -rf extracted\n",
    "```\n",
    "\n",
    "\n",
    "\n",
    "\n",
    "\n"
   ]
  },
  {
   "cell_type": "code",
   "execution_count": 53,
   "metadata": {},
   "outputs": [
    {
     "name": "stdout",
     "output_type": "stream",
     "text": [
      "'deserializing from /home/xurxo/todo/tmp//corpus/gl_corga.corpus'\n",
      "galician, gl_corga, 9801\n",
      "'deserializing from /home/xurxo/todo/tmp//corpus/gl_wordnet.corpus'\n",
      "galician, gl_wordnetl, 14154\n",
      "'deserializing from /home/xurxo/todo/tmp//corpus/pt_floresta.corpus'\n",
      "portuguese, pt_floresta, 168643\n",
      "'deserializing from /home/xurxo/todo/tmp//corpus/pt_wordnet.corpus'\n",
      "portuguese, pt_wordnet, 35299\n",
      "'deserializing from /home/xurxo/todo/tmp//corpus/pt_wordnet.corpus'\n",
      "portuguese, pt_europarl, 35299\n",
      "'deserializing from /home/xurxo/todo/tmp//corpus/sp_cess.corpus'\n",
      "spanish, sp_cess, 155978\n",
      "'deserializing from /home/xurxo/todo/tmp//corpus/sp_wordnet.corpus'\n",
      "spanish, sp_wordnet, 22477\n",
      "'deserializing from /home/xurxo/todo/tmp//corpus/sp_europarl.corpus'\n",
      "spanish, sp_europarl, 548301\n",
      "'deserializing from /home/xurxo/todo/tmp//corpus/en_brown.corpus'\n",
      "english, en_brown, 981716\n",
      "'deserializing from /home/xurxo/todo/tmp//corpus/en_wordnet.corpus'\n",
      "english, en_wordnet, 77503\n",
      "'deserializing from /home/xurxo/todo/tmp//corpus/en_europarl.corpus'\n",
      "english, en_europarl, 494443\n"
     ]
    }
   ],
   "source": [
    "for lang, corpora in all_corpus.items():\n",
    "    for corpus_name, corpus in corpora.items():\n",
    "        print (f'{lang}, {corpus_name}, {len(corpus())}')\n",
    "        "
   ]
  },
  {
   "cell_type": "code",
   "execution_count": 54,
   "metadata": {},
   "outputs": [
    {
     "data": {
      "text/plain": [
       "9045"
      ]
     },
     "execution_count": 54,
     "metadata": {},
     "output_type": "execute_result"
    }
   ],
   "source": [
    "all_vocab = None\n",
    "\n",
    "import gc\n",
    "gc.collect()"
   ]
  },
  {
   "cell_type": "code",
   "execution_count": 55,
   "metadata": {},
   "outputs": [],
   "source": [
    "from pyfasttext import FastText\n",
    "from sklearn.model_selection import train_test_split\n",
    "from nltk import ngrams\n",
    "import os.path\n",
    "\n",
    "from operator import itemgetter\n",
    "\n",
    "\n",
    "\n",
    "def get_trigrams (copus_name, language, words, n):\n",
    "    fname = '/home/xurxo/todo/tmp/fasttext/trigrams_' + copus_name \n",
    "    if not os.path.isfile(fname):\n",
    "        partial_set = [(language, ' '.join(trigram)) for trigram in ngrams(words, 2) ]\n",
    "        serialize_to_disk(fname, partial_set)\n",
    "    else:\n",
    "        partial_set = deserialize_from_disk(fname)\n",
    "    return partial_set\n",
    "\n",
    "                \n",
    "\n",
    "def fasttext_predict_for_model(model, sentence):\n",
    "    return model.predict([sentence+'\\n'])[0][0]\n",
    "\n",
    "class fasttext_predict:\n",
    "    def __init__(self, model):\n",
    "        self.model = model\n",
    "        self.__name__ = 'fasttext_predict'\n",
    "        \n",
    "    def __call__(self, sentence):\n",
    "        return fasttext_predict_for_model (self.model, sentence)\n",
    "    \n"
   ]
  },
  {
   "cell_type": "code",
   "execution_count": 56,
   "metadata": {},
   "outputs": [
    {
     "name": "stdout",
     "output_type": "stream",
     "text": [
      "'deserializing from /home/xurxo/todo/tmp//corpus/gl_corga.corpus'\n",
      "'deserializing from /home/xurxo/todo/tmp/fasttext/trigrams_gl_corga'\n",
      "'deserializing from /home/xurxo/todo/tmp//corpus/gl_wordnet.corpus'\n",
      "('deserializing from '\n",
      " '/home/xurxo/todo/tmp/fasttext/trigrams_gl_wordnetl')\n",
      "'deserializing from /home/xurxo/todo/tmp//corpus/pt_floresta.corpus'\n",
      "('deserializing from '\n",
      " '/home/xurxo/todo/tmp/fasttext/trigrams_pt_floresta')\n",
      "'deserializing from /home/xurxo/todo/tmp//corpus/pt_wordnet.corpus'\n",
      "'deserializing from /home/xurxo/todo/tmp/fasttext/trigrams_pt_wordnet'\n",
      "'deserializing from /home/xurxo/todo/tmp//corpus/pt_wordnet.corpus'\n",
      "('deserializing from '\n",
      " '/home/xurxo/todo/tmp/fasttext/trigrams_pt_europarl')\n",
      "'deserializing from /home/xurxo/todo/tmp//corpus/sp_cess.corpus'\n",
      "'deserializing from /home/xurxo/todo/tmp/fasttext/trigrams_sp_cess'\n",
      "'deserializing from /home/xurxo/todo/tmp//corpus/sp_wordnet.corpus'\n",
      "'deserializing from /home/xurxo/todo/tmp/fasttext/trigrams_sp_wordnet'\n",
      "'deserializing from /home/xurxo/todo/tmp//corpus/sp_europarl.corpus'\n",
      "('deserializing from '\n",
      " '/home/xurxo/todo/tmp/fasttext/trigrams_sp_europarl')\n",
      "'deserializing from /home/xurxo/todo/tmp//corpus/en_brown.corpus'\n",
      "'deserializing from /home/xurxo/todo/tmp/fasttext/trigrams_en_brown'\n",
      "'deserializing from /home/xurxo/todo/tmp//corpus/en_wordnet.corpus'\n",
      "'deserializing from /home/xurxo/todo/tmp/fasttext/trigrams_en_wordnet'\n",
      "'deserializing from /home/xurxo/todo/tmp//corpus/en_europarl.corpus'\n",
      "('deserializing from '\n",
      " '/home/xurxo/todo/tmp/fasttext/trigrams_en_europarl')\n"
     ]
    }
   ],
   "source": [
    "for language, corpora in all_corpus.items():\n",
    "    for corpus_name, words in corpora.items():\n",
    "        get_trigrams(corpus_name, language, words(), 2)\n"
   ]
  },
  {
   "cell_type": "code",
   "execution_count": 57,
   "metadata": {},
   "outputs": [],
   "source": [
    "import gc\n",
    "\n",
    "\n",
    "\n",
    "\n",
    "def detect_fasttext (combo_name, doc_set, corpus_names):\n",
    "        model_fname = f'{tmp_dir}/fasttext/model_fasttext_' + combo_name\n",
    "\n",
    "        if not os.path.isfile(model_fname + '.vec'):\n",
    "            pp.pprint ('creating trigrams for ' + combo_name)\n",
    "            trigrams_set= []\n",
    "            for (language, words) in doc_set:\n",
    "                partial_set = get_trigrams(corpus_names[language], language, words(), 2)\n",
    "                trigrams_set.extend(partial_set)\n",
    "\n",
    "            #trigrams_set = [(language, ' '.join(trigram)) \n",
    "            #                for (language, words) in doc_set\n",
    "            #                for trigram in ngrams(words, 2)] \n",
    "            # serialize_to_disk(trigram_fname, trigrams_set)\n",
    "\n",
    "            train_set, test_set = train_test_split(trigrams_set, \n",
    "                                                   test_size = 0.30, \n",
    "                                                   random_state=0)\n",
    "\n",
    "            pp.pprint ('generating train data for ' + combo_name)\n",
    "            train_data_fname = f'{tmp_dir}/fasttext/train_data_fasttext_{combo_name}.txt'\n",
    "            with open(train_data_fname, 'w') as f:\n",
    "                for label, words in train_set:\n",
    "                    f.write('__label__{} {}\\n'.format(label, words))\n",
    "\n",
    "            pp.pprint ('generating model for ' + combo_name)\n",
    "            model = FastText()\n",
    "            model.supervised(input=train_data_fname,\n",
    "                         output=model_fname, \n",
    "                         epoch=10, lr=0.7, wordNgrams=2)\n",
    "\n",
    "            # train accuracy\n",
    "            labels, samples = np.split(np.array(train_set), 2, axis=1)\n",
    "            print ('train accuracy:' + str ( (np.array(model.predict(samples.T[0])) == labels).sum() / len(train_set) ))\n",
    "            # test accuracy\n",
    "            labels, samples = np.split(np.array(test_set), 2, axis=1)\n",
    "            print ('test accuracy:' + str ( (np.array(model.predict(samples.T[0])) == labels).sum() / len(test_set) ) )\n",
    "        else:\n",
    "            pp.pprint ('deserializing model for ' + combo_name)\n",
    "            model = FastText(model_fname + '.bin')\n",
    "\n",
    "        pp.pprint ('calculating accuracy for ' + combo_name)\n",
    "        \n",
    "        predictor = fasttext_predict (model)\n",
    "        \n",
    "        return compute_accuracy_sentences(titles_sentences, predictor, verbose=False) \n",
    "                    "
   ]
  },
  {
   "cell_type": "code",
   "execution_count": 58,
   "metadata": {},
   "outputs": [
    {
     "name": "stdout",
     "output_type": "stream",
     "text": [
      "'en_brown-sp_cess-gl_corga-pt_floresta'\n",
      "'deserializing model for en_brown-sp_cess-gl_corga-pt_floresta'\n",
      "'calculating accuracy for en_brown-sp_cess-gl_corga-pt_floresta'\n",
      "fasttext_predict     Accuracy: 0.773       Time: 0.08224058151245117\n",
      "'en_brown-sp_cess-gl_corga-pt_wordnet'\n",
      "'deserializing model for en_brown-sp_cess-gl_corga-pt_wordnet'\n",
      "'calculating accuracy for en_brown-sp_cess-gl_corga-pt_wordnet'\n",
      "fasttext_predict     Accuracy: 0.558       Time: 0.0716848373413086\n",
      "'en_brown-sp_cess-gl_corga-pt_europarl'\n",
      "'deserializing model for en_brown-sp_cess-gl_corga-pt_europarl'\n",
      "'calculating accuracy for en_brown-sp_cess-gl_corga-pt_europarl'\n",
      "fasttext_predict     Accuracy: 0.5495       Time: 0.06950259208679199\n",
      "'en_brown-sp_cess-gl_wordnetl-pt_floresta'\n",
      "'deserializing model for en_brown-sp_cess-gl_wordnetl-pt_floresta'\n",
      "'calculating accuracy for en_brown-sp_cess-gl_wordnetl-pt_floresta'\n",
      "fasttext_predict     Accuracy: 0.7265       Time: 0.06849312782287598\n",
      "'en_brown-sp_cess-gl_wordnetl-pt_wordnet'\n",
      "'deserializing model for en_brown-sp_cess-gl_wordnetl-pt_wordnet'\n",
      "'calculating accuracy for en_brown-sp_cess-gl_wordnetl-pt_wordnet'\n",
      "fasttext_predict     Accuracy: 0.5145       Time: 0.07343316078186035\n",
      "'en_brown-sp_cess-gl_wordnetl-pt_europarl'\n",
      "'deserializing model for en_brown-sp_cess-gl_wordnetl-pt_europarl'\n",
      "'calculating accuracy for en_brown-sp_cess-gl_wordnetl-pt_europarl'\n",
      "fasttext_predict     Accuracy: 0.516       Time: 0.06998062133789062\n",
      "'en_brown-sp_wordnet-gl_corga-pt_floresta'\n",
      "'deserializing model for en_brown-sp_wordnet-gl_corga-pt_floresta'\n",
      "'calculating accuracy for en_brown-sp_wordnet-gl_corga-pt_floresta'\n",
      "fasttext_predict     Accuracy: 0.542       Time: 0.06641197204589844\n",
      "'en_brown-sp_wordnet-gl_corga-pt_wordnet'\n",
      "'deserializing model for en_brown-sp_wordnet-gl_corga-pt_wordnet'\n",
      "'calculating accuracy for en_brown-sp_wordnet-gl_corga-pt_wordnet'\n",
      "fasttext_predict     Accuracy: 0.465       Time: 0.06890368461608887\n",
      "'en_brown-sp_wordnet-gl_corga-pt_europarl'\n",
      "'deserializing model for en_brown-sp_wordnet-gl_corga-pt_europarl'\n",
      "'calculating accuracy for en_brown-sp_wordnet-gl_corga-pt_europarl'\n",
      "fasttext_predict     Accuracy: 0.4615       Time: 0.06892824172973633\n",
      "'en_brown-sp_wordnet-gl_wordnetl-pt_floresta'\n",
      "'deserializing model for en_brown-sp_wordnet-gl_wordnetl-pt_floresta'\n",
      "'calculating accuracy for en_brown-sp_wordnet-gl_wordnetl-pt_floresta'\n",
      "fasttext_predict     Accuracy: 0.4915       Time: 0.0676124095916748\n",
      "'en_brown-sp_wordnet-gl_wordnetl-pt_wordnet'\n",
      "'deserializing model for en_brown-sp_wordnet-gl_wordnetl-pt_wordnet'\n",
      "'calculating accuracy for en_brown-sp_wordnet-gl_wordnetl-pt_wordnet'\n",
      "fasttext_predict     Accuracy: 0.3475       Time: 0.06779098510742188\n",
      "'en_brown-sp_wordnet-gl_wordnetl-pt_europarl'\n",
      "'deserializing model for en_brown-sp_wordnet-gl_wordnetl-pt_europarl'\n",
      "'calculating accuracy for en_brown-sp_wordnet-gl_wordnetl-pt_europarl'\n",
      "fasttext_predict     Accuracy: 0.3505       Time: 0.06702780723571777\n",
      "'en_brown-sp_europarl-gl_corga-pt_floresta'\n",
      "'deserializing model for en_brown-sp_europarl-gl_corga-pt_floresta'\n",
      "'calculating accuracy for en_brown-sp_europarl-gl_corga-pt_floresta'\n",
      "fasttext_predict     Accuracy: 0.769       Time: 0.07000017166137695\n",
      "'en_brown-sp_europarl-gl_corga-pt_wordnet'\n",
      "'deserializing model for en_brown-sp_europarl-gl_corga-pt_wordnet'\n",
      "'calculating accuracy for en_brown-sp_europarl-gl_corga-pt_wordnet'\n",
      "fasttext_predict     Accuracy: 0.5445       Time: 0.0712442398071289\n",
      "'en_brown-sp_europarl-gl_corga-pt_europarl'\n",
      "'deserializing model for en_brown-sp_europarl-gl_corga-pt_europarl'\n",
      "'calculating accuracy for en_brown-sp_europarl-gl_corga-pt_europarl'\n",
      "fasttext_predict     Accuracy: 0.549       Time: 0.06797599792480469\n",
      "'en_brown-sp_europarl-gl_wordnetl-pt_floresta'\n",
      "'deserializing model for en_brown-sp_europarl-gl_wordnetl-pt_floresta'\n",
      "('calculating accuracy for '\n",
      " 'en_brown-sp_europarl-gl_wordnetl-pt_floresta')\n",
      "fasttext_predict     Accuracy: 0.7285       Time: 0.07036924362182617\n",
      "'en_brown-sp_europarl-gl_wordnetl-pt_wordnet'\n",
      "'deserializing model for en_brown-sp_europarl-gl_wordnetl-pt_wordnet'\n",
      "'calculating accuracy for en_brown-sp_europarl-gl_wordnetl-pt_wordnet'\n",
      "fasttext_predict     Accuracy: 0.513       Time: 0.07069182395935059\n",
      "'en_brown-sp_europarl-gl_wordnetl-pt_europarl'\n",
      "'deserializing model for en_brown-sp_europarl-gl_wordnetl-pt_europarl'\n",
      "('calculating accuracy for '\n",
      " 'en_brown-sp_europarl-gl_wordnetl-pt_europarl')\n",
      "fasttext_predict     Accuracy: 0.5105       Time: 0.06897854804992676\n",
      "'en_wordnet-sp_cess-gl_corga-pt_floresta'\n",
      "'deserializing model for en_wordnet-sp_cess-gl_corga-pt_floresta'\n",
      "'calculating accuracy for en_wordnet-sp_cess-gl_corga-pt_floresta'\n",
      "fasttext_predict     Accuracy: 0.665       Time: 0.07227587699890137\n",
      "'en_wordnet-sp_cess-gl_corga-pt_wordnet'\n",
      "'deserializing model for en_wordnet-sp_cess-gl_corga-pt_wordnet'\n",
      "'calculating accuracy for en_wordnet-sp_cess-gl_corga-pt_wordnet'\n",
      "fasttext_predict     Accuracy: 0.452       Time: 0.07145810127258301\n",
      "'en_wordnet-sp_cess-gl_corga-pt_europarl'\n",
      "'deserializing model for en_wordnet-sp_cess-gl_corga-pt_europarl'\n",
      "'calculating accuracy for en_wordnet-sp_cess-gl_corga-pt_europarl'\n",
      "fasttext_predict     Accuracy: 0.451       Time: 0.0707693099975586\n",
      "'en_wordnet-sp_cess-gl_wordnetl-pt_floresta'\n",
      "'deserializing model for en_wordnet-sp_cess-gl_wordnetl-pt_floresta'\n",
      "'calculating accuracy for en_wordnet-sp_cess-gl_wordnetl-pt_floresta'\n",
      "fasttext_predict     Accuracy: 0.657       Time: 0.06826448440551758\n",
      "'en_wordnet-sp_cess-gl_wordnetl-pt_wordnet'\n",
      "'deserializing model for en_wordnet-sp_cess-gl_wordnetl-pt_wordnet'\n",
      "'calculating accuracy for en_wordnet-sp_cess-gl_wordnetl-pt_wordnet'\n",
      "fasttext_predict     Accuracy: 0.471       Time: 0.06753659248352051\n",
      "'en_wordnet-sp_cess-gl_wordnetl-pt_europarl'\n",
      "'deserializing model for en_wordnet-sp_cess-gl_wordnetl-pt_europarl'\n",
      "'calculating accuracy for en_wordnet-sp_cess-gl_wordnetl-pt_europarl'\n",
      "fasttext_predict     Accuracy: 0.4705       Time: 0.07004141807556152\n",
      "'en_wordnet-sp_wordnet-gl_corga-pt_floresta'\n",
      "'deserializing model for en_wordnet-sp_wordnet-gl_corga-pt_floresta'\n",
      "'calculating accuracy for en_wordnet-sp_wordnet-gl_corga-pt_floresta'\n",
      "fasttext_predict     Accuracy: 0.4415       Time: 0.0804450511932373\n",
      "'en_wordnet-sp_wordnet-gl_corga-pt_wordnet'\n",
      "'deserializing model for en_wordnet-sp_wordnet-gl_corga-pt_wordnet'\n",
      "'calculating accuracy for en_wordnet-sp_wordnet-gl_corga-pt_wordnet'\n",
      "fasttext_predict     Accuracy: 0.446       Time: 0.07052779197692871\n",
      "'en_wordnet-sp_wordnet-gl_corga-pt_europarl'\n",
      "'deserializing model for en_wordnet-sp_wordnet-gl_corga-pt_europarl'\n",
      "'calculating accuracy for en_wordnet-sp_wordnet-gl_corga-pt_europarl'\n",
      "fasttext_predict     Accuracy: 0.4585       Time: 0.07139706611633301\n",
      "'en_wordnet-sp_wordnet-gl_wordnetl-pt_floresta'\n",
      "('deserializing model for '\n",
      " 'en_wordnet-sp_wordnet-gl_wordnetl-pt_floresta')\n",
      "('calculating accuracy for '\n",
      " 'en_wordnet-sp_wordnet-gl_wordnetl-pt_floresta')\n",
      "fasttext_predict     Accuracy: 0.4235       Time: 0.06754779815673828\n",
      "'en_wordnet-sp_wordnet-gl_wordnetl-pt_wordnet'\n",
      "'deserializing model for en_wordnet-sp_wordnet-gl_wordnetl-pt_wordnet'\n",
      "('calculating accuracy for '\n",
      " 'en_wordnet-sp_wordnet-gl_wordnetl-pt_wordnet')\n",
      "fasttext_predict     Accuracy: 0.658       Time: 0.06910848617553711\n",
      "'en_wordnet-sp_wordnet-gl_wordnetl-pt_europarl'\n",
      "('deserializing model for '\n",
      " 'en_wordnet-sp_wordnet-gl_wordnetl-pt_europarl')\n",
      "('calculating accuracy for '\n",
      " 'en_wordnet-sp_wordnet-gl_wordnetl-pt_europarl')\n",
      "fasttext_predict     Accuracy: 0.6305       Time: 0.0657963752746582\n",
      "'en_wordnet-sp_europarl-gl_corga-pt_floresta'\n",
      "'deserializing model for en_wordnet-sp_europarl-gl_corga-pt_floresta'\n",
      "'calculating accuracy for en_wordnet-sp_europarl-gl_corga-pt_floresta'\n",
      "fasttext_predict     Accuracy: 0.5935       Time: 0.07954716682434082\n",
      "'en_wordnet-sp_europarl-gl_corga-pt_wordnet'\n",
      "'deserializing model for en_wordnet-sp_europarl-gl_corga-pt_wordnet'\n",
      "'calculating accuracy for en_wordnet-sp_europarl-gl_corga-pt_wordnet'\n",
      "fasttext_predict     Accuracy: 0.405       Time: 0.06758785247802734\n",
      "'en_wordnet-sp_europarl-gl_corga-pt_europarl'\n",
      "'deserializing model for en_wordnet-sp_europarl-gl_corga-pt_europarl'\n",
      "'calculating accuracy for en_wordnet-sp_europarl-gl_corga-pt_europarl'\n",
      "fasttext_predict     Accuracy: 0.411       Time: 0.06803607940673828\n"
     ]
    },
    {
     "name": "stdout",
     "output_type": "stream",
     "text": [
      "'en_wordnet-sp_europarl-gl_wordnetl-pt_floresta'\n",
      "('deserializing model for '\n",
      " 'en_wordnet-sp_europarl-gl_wordnetl-pt_floresta')\n",
      "('calculating accuracy for '\n",
      " 'en_wordnet-sp_europarl-gl_wordnetl-pt_floresta')\n",
      "fasttext_predict     Accuracy: 0.584       Time: 0.07198572158813477\n",
      "'en_wordnet-sp_europarl-gl_wordnetl-pt_wordnet'\n",
      "('deserializing model for '\n",
      " 'en_wordnet-sp_europarl-gl_wordnetl-pt_wordnet')\n",
      "('calculating accuracy for '\n",
      " 'en_wordnet-sp_europarl-gl_wordnetl-pt_wordnet')\n",
      "fasttext_predict     Accuracy: 0.378       Time: 0.06739306449890137\n",
      "'en_wordnet-sp_europarl-gl_wordnetl-pt_europarl'\n",
      "('deserializing model for '\n",
      " 'en_wordnet-sp_europarl-gl_wordnetl-pt_europarl')\n",
      "('calculating accuracy for '\n",
      " 'en_wordnet-sp_europarl-gl_wordnetl-pt_europarl')\n",
      "fasttext_predict     Accuracy: 0.3725       Time: 0.06810450553894043\n",
      "'en_europarl-sp_cess-gl_corga-pt_floresta'\n",
      "'deserializing model for en_europarl-sp_cess-gl_corga-pt_floresta'\n",
      "'calculating accuracy for en_europarl-sp_cess-gl_corga-pt_floresta'\n",
      "fasttext_predict     Accuracy: 0.754       Time: 0.06864333152770996\n",
      "'en_europarl-sp_cess-gl_corga-pt_wordnet'\n",
      "'deserializing model for en_europarl-sp_cess-gl_corga-pt_wordnet'\n",
      "'calculating accuracy for en_europarl-sp_cess-gl_corga-pt_wordnet'\n",
      "fasttext_predict     Accuracy: 0.5285       Time: 0.0677645206451416\n",
      "'en_europarl-sp_cess-gl_corga-pt_europarl'\n",
      "'deserializing model for en_europarl-sp_cess-gl_corga-pt_europarl'\n",
      "'calculating accuracy for en_europarl-sp_cess-gl_corga-pt_europarl'\n",
      "fasttext_predict     Accuracy: 0.529       Time: 0.0681297779083252\n",
      "'en_europarl-sp_cess-gl_wordnetl-pt_floresta'\n",
      "'deserializing model for en_europarl-sp_cess-gl_wordnetl-pt_floresta'\n",
      "'calculating accuracy for en_europarl-sp_cess-gl_wordnetl-pt_floresta'\n",
      "fasttext_predict     Accuracy: 0.717       Time: 0.06982731819152832\n",
      "'en_europarl-sp_cess-gl_wordnetl-pt_wordnet'\n",
      "'deserializing model for en_europarl-sp_cess-gl_wordnetl-pt_wordnet'\n",
      "'calculating accuracy for en_europarl-sp_cess-gl_wordnetl-pt_wordnet'\n",
      "fasttext_predict     Accuracy: 0.5       Time: 0.06809782981872559\n",
      "'en_europarl-sp_cess-gl_wordnetl-pt_europarl'\n",
      "'deserializing model for en_europarl-sp_cess-gl_wordnetl-pt_europarl'\n",
      "'calculating accuracy for en_europarl-sp_cess-gl_wordnetl-pt_europarl'\n",
      "fasttext_predict     Accuracy: 0.5015       Time: 0.06889915466308594\n",
      "'en_europarl-sp_wordnet-gl_corga-pt_floresta'\n",
      "'deserializing model for en_europarl-sp_wordnet-gl_corga-pt_floresta'\n",
      "'calculating accuracy for en_europarl-sp_wordnet-gl_corga-pt_floresta'\n",
      "fasttext_predict     Accuracy: 0.5195       Time: 0.06838703155517578\n",
      "'en_europarl-sp_wordnet-gl_corga-pt_wordnet'\n",
      "'deserializing model for en_europarl-sp_wordnet-gl_corga-pt_wordnet'\n",
      "'calculating accuracy for en_europarl-sp_wordnet-gl_corga-pt_wordnet'\n",
      "fasttext_predict     Accuracy: 0.4405       Time: 0.0682229995727539\n",
      "'en_europarl-sp_wordnet-gl_corga-pt_europarl'\n",
      "'deserializing model for en_europarl-sp_wordnet-gl_corga-pt_europarl'\n",
      "'calculating accuracy for en_europarl-sp_wordnet-gl_corga-pt_europarl'\n",
      "fasttext_predict     Accuracy: 0.4225       Time: 0.06843876838684082\n",
      "'en_europarl-sp_wordnet-gl_wordnetl-pt_floresta'\n",
      "('deserializing model for '\n",
      " 'en_europarl-sp_wordnet-gl_wordnetl-pt_floresta')\n",
      "('calculating accuracy for '\n",
      " 'en_europarl-sp_wordnet-gl_wordnetl-pt_floresta')\n",
      "fasttext_predict     Accuracy: 0.476       Time: 0.07016515731811523\n",
      "'en_europarl-sp_wordnet-gl_wordnetl-pt_wordnet'\n",
      "('deserializing model for '\n",
      " 'en_europarl-sp_wordnet-gl_wordnetl-pt_wordnet')\n",
      "('calculating accuracy for '\n",
      " 'en_europarl-sp_wordnet-gl_wordnetl-pt_wordnet')\n",
      "fasttext_predict     Accuracy: 0.332       Time: 0.06800174713134766\n",
      "'en_europarl-sp_wordnet-gl_wordnetl-pt_europarl'\n",
      "('deserializing model for '\n",
      " 'en_europarl-sp_wordnet-gl_wordnetl-pt_europarl')\n",
      "('calculating accuracy for '\n",
      " 'en_europarl-sp_wordnet-gl_wordnetl-pt_europarl')\n",
      "fasttext_predict     Accuracy: 0.34       Time: 0.0672760009765625\n",
      "'en_europarl-sp_europarl-gl_corga-pt_floresta'\n",
      "'deserializing model for en_europarl-sp_europarl-gl_corga-pt_floresta'\n",
      "('calculating accuracy for '\n",
      " 'en_europarl-sp_europarl-gl_corga-pt_floresta')\n",
      "fasttext_predict     Accuracy: 0.759       Time: 0.06934571266174316\n",
      "'en_europarl-sp_europarl-gl_corga-pt_wordnet'\n",
      "'deserializing model for en_europarl-sp_europarl-gl_corga-pt_wordnet'\n",
      "'calculating accuracy for en_europarl-sp_europarl-gl_corga-pt_wordnet'\n",
      "fasttext_predict     Accuracy: 0.535       Time: 0.0670313835144043\n",
      "'en_europarl-sp_europarl-gl_corga-pt_europarl'\n",
      "'deserializing model for en_europarl-sp_europarl-gl_corga-pt_europarl'\n",
      "('calculating accuracy for '\n",
      " 'en_europarl-sp_europarl-gl_corga-pt_europarl')\n",
      "fasttext_predict     Accuracy: 0.5305       Time: 0.06990838050842285\n",
      "'en_europarl-sp_europarl-gl_wordnetl-pt_floresta'\n",
      "('deserializing model for '\n",
      " 'en_europarl-sp_europarl-gl_wordnetl-pt_floresta')\n",
      "('calculating accuracy for '\n",
      " 'en_europarl-sp_europarl-gl_wordnetl-pt_floresta')\n",
      "fasttext_predict     Accuracy: 0.714       Time: 0.07732653617858887\n",
      "'en_europarl-sp_europarl-gl_wordnetl-pt_wordnet'\n",
      "('deserializing model for '\n",
      " 'en_europarl-sp_europarl-gl_wordnetl-pt_wordnet')\n",
      "('calculating accuracy for '\n",
      " 'en_europarl-sp_europarl-gl_wordnetl-pt_wordnet')\n",
      "fasttext_predict     Accuracy: 0.5005       Time: 0.06763482093811035\n",
      "'en_europarl-sp_europarl-gl_wordnetl-pt_europarl'\n",
      "('deserializing model for '\n",
      " 'en_europarl-sp_europarl-gl_wordnetl-pt_europarl')\n",
      "('calculating accuracy for '\n",
      " 'en_europarl-sp_europarl-gl_wordnetl-pt_europarl')\n",
      "fasttext_predict     Accuracy: 0.4985       Time: 0.0730295181274414\n"
     ]
    },
    {
     "data": {
      "image/png": "[encoded data removed]",
      "text/plain": [
       "<Figure size 432x288 with 1 Axes>"
      ]
     },
     "metadata": {},
     "output_type": "display_data"
    }
   ],
   "source": [
    "\n",
    "results = {}\n",
    "for english_corpus_name, english_words in all_corpus['english'].items():\n",
    "    for spanish_corpus_name, spanish_words in all_corpus['spanish'].items():\n",
    "        for galician_corpus_name, galician_words in all_corpus['galician'].items():\n",
    "            for portuguese_corpus_name, portuguese_words in all_corpus['portuguese'].items():\n",
    "                gc.collect()\n",
    "                try:\n",
    "                    combo_name = '-'.join([english_corpus_name,spanish_corpus_name,galician_corpus_name,portuguese_corpus_name])\n",
    "                    doc_set = [('english', english_words,),\n",
    "                               ('spanish', spanish_words,),\n",
    "                               ('galician', galician_words,), \n",
    "                               ('portuguese', portuguese_words,),]\n",
    "                    corpus_names = {'english': english_corpus_name,\n",
    "                                    'spanish': spanish_corpus_name,\n",
    "                                    'galician': galician_corpus_name,\n",
    "                                    'portuguese': portuguese_corpus_name,}\n",
    "                                          # en_europarl/sp_cess/gl_corga/pt_floresta           \n",
    "                    #doc_set = [('english', all_corpus['english']['en_brown'],),\n",
    "                    #           ('spanish', all_corpus['spanish']['sp_cess'],),\n",
    "                    #           ('galician', all_corpus['galician']['gl_wordnetl'],), \n",
    "                    #           ('portuguese', all_corpus['portuguese']['pt_floresta'],),]\n",
    "                    #combo_name = '-'.join(['en_brown','sp_cess','gl_corga','pt_floresta'])\n",
    "                    pp.pprint(combo_name)\n",
    "                    results[combo_name] =  detect_fasttext (combo_name, doc_set, corpus_names)\n",
    "                    \n",
    "\n",
    "                except Exception as e:\n",
    "                    print (e)"
   ]
  },
  {
   "cell_type": "code",
   "execution_count": 59,
   "metadata": {},
   "outputs": [
    {
     "data": {
      "text/plain": [
       "[('en_europarl-sp_wordnet-gl_wordnetl-pt_wordnet', 0.332),\n",
       " ('en_europarl-sp_wordnet-gl_wordnetl-pt_europarl', 0.34),\n",
       " ('en_brown-sp_wordnet-gl_wordnetl-pt_wordnet', 0.3475),\n",
       " ('en_brown-sp_wordnet-gl_wordnetl-pt_europarl', 0.3505),\n",
       " ('en_wordnet-sp_europarl-gl_wordnetl-pt_europarl', 0.3725),\n",
       " ('en_wordnet-sp_europarl-gl_wordnetl-pt_wordnet', 0.378),\n",
       " ('en_wordnet-sp_europarl-gl_corga-pt_wordnet', 0.405),\n",
       " ('en_wordnet-sp_europarl-gl_corga-pt_europarl', 0.411),\n",
       " ('en_europarl-sp_wordnet-gl_corga-pt_europarl', 0.4225),\n",
       " ('en_wordnet-sp_wordnet-gl_wordnetl-pt_floresta', 0.4235),\n",
       " ('en_europarl-sp_wordnet-gl_corga-pt_wordnet', 0.4405),\n",
       " ('en_wordnet-sp_wordnet-gl_corga-pt_floresta', 0.4415),\n",
       " ('en_wordnet-sp_wordnet-gl_corga-pt_wordnet', 0.446),\n",
       " ('en_wordnet-sp_cess-gl_corga-pt_europarl', 0.451),\n",
       " ('en_wordnet-sp_cess-gl_corga-pt_wordnet', 0.452),\n",
       " ('en_wordnet-sp_wordnet-gl_corga-pt_europarl', 0.4585),\n",
       " ('en_brown-sp_wordnet-gl_corga-pt_europarl', 0.4615),\n",
       " ('en_brown-sp_wordnet-gl_corga-pt_wordnet', 0.465),\n",
       " ('en_wordnet-sp_cess-gl_wordnetl-pt_europarl', 0.4705),\n",
       " ('en_wordnet-sp_cess-gl_wordnetl-pt_wordnet', 0.471),\n",
       " ('en_europarl-sp_wordnet-gl_wordnetl-pt_floresta', 0.476),\n",
       " ('en_brown-sp_wordnet-gl_wordnetl-pt_floresta', 0.4915),\n",
       " ('en_europarl-sp_europarl-gl_wordnetl-pt_europarl', 0.4985),\n",
       " ('en_europarl-sp_cess-gl_wordnetl-pt_wordnet', 0.5),\n",
       " ('en_europarl-sp_europarl-gl_wordnetl-pt_wordnet', 0.5005),\n",
       " ('en_europarl-sp_cess-gl_wordnetl-pt_europarl', 0.5015),\n",
       " ('en_brown-sp_europarl-gl_wordnetl-pt_europarl', 0.5105),\n",
       " ('en_brown-sp_europarl-gl_wordnetl-pt_wordnet', 0.513),\n",
       " ('en_brown-sp_cess-gl_wordnetl-pt_wordnet', 0.5145),\n",
       " ('en_brown-sp_cess-gl_wordnetl-pt_europarl', 0.516),\n",
       " ('en_europarl-sp_wordnet-gl_corga-pt_floresta', 0.5195),\n",
       " ('en_europarl-sp_cess-gl_corga-pt_wordnet', 0.5285),\n",
       " ('en_europarl-sp_cess-gl_corga-pt_europarl', 0.529),\n",
       " ('en_europarl-sp_europarl-gl_corga-pt_europarl', 0.5305),\n",
       " ('en_europarl-sp_europarl-gl_corga-pt_wordnet', 0.535),\n",
       " ('en_brown-sp_wordnet-gl_corga-pt_floresta', 0.542),\n",
       " ('en_brown-sp_europarl-gl_corga-pt_wordnet', 0.5445),\n",
       " ('en_brown-sp_europarl-gl_corga-pt_europarl', 0.549),\n",
       " ('en_brown-sp_cess-gl_corga-pt_europarl', 0.5495),\n",
       " ('en_brown-sp_cess-gl_corga-pt_wordnet', 0.558),\n",
       " ('en_wordnet-sp_europarl-gl_wordnetl-pt_floresta', 0.584),\n",
       " ('en_wordnet-sp_europarl-gl_corga-pt_floresta', 0.5935),\n",
       " ('en_wordnet-sp_wordnet-gl_wordnetl-pt_europarl', 0.6305),\n",
       " ('en_wordnet-sp_cess-gl_wordnetl-pt_floresta', 0.657),\n",
       " ('en_wordnet-sp_wordnet-gl_wordnetl-pt_wordnet', 0.658),\n",
       " ('en_wordnet-sp_cess-gl_corga-pt_floresta', 0.665),\n",
       " ('en_europarl-sp_europarl-gl_wordnetl-pt_floresta', 0.714),\n",
       " ('en_europarl-sp_cess-gl_wordnetl-pt_floresta', 0.717),\n",
       " ('en_brown-sp_cess-gl_wordnetl-pt_floresta', 0.7265),\n",
       " ('en_brown-sp_europarl-gl_wordnetl-pt_floresta', 0.7285),\n",
       " ('en_europarl-sp_cess-gl_corga-pt_floresta', 0.754),\n",
       " ('en_europarl-sp_europarl-gl_corga-pt_floresta', 0.759),\n",
       " ('en_brown-sp_europarl-gl_corga-pt_floresta', 0.769),\n",
       " ('en_brown-sp_cess-gl_corga-pt_floresta', 0.773)]"
      ]
     },
     "execution_count": 59,
     "metadata": {},
     "output_type": "execute_result"
    }
   ],
   "source": [
    "\n",
    "\n",
    "sorted(results.items(), key=itemgetter(1))"
   ]
  },
  {
   "cell_type": "code",
   "execution_count": 60,
   "metadata": {},
   "outputs": [
    {
     "name": "stdout",
     "output_type": "stream",
     "text": [
      "fasttext_predict     Accuracy: 0.773       Time: 0.07419610023498535\n"
     ]
    },
    {
     "data": {
      "text/plain": [
       "0.773"
      ]
     },
     "execution_count": 60,
     "metadata": {},
     "output_type": "execute_result"
    },
    {
     "data": {
      "image/png": "[encoded data removed]",
      "text/plain": [
       "<Figure size 432x288 with 1 Axes>"
      ]
     },
     "metadata": {},
     "output_type": "display_data"
    }
   ],
   "source": [
    "\n",
    "model_fname = f'{tmp_dir}/fasttext/model_fasttext_' + 'en_brown-sp_cess-gl_corga-pt_floresta'\n",
    "model = FastText(model_fname + '.bin')\n",
    "predictor = fasttext_predict (model)\n",
    "\n",
    "compute_accuracy_sentences(titles_sentences, predictor, verbose=False) \n",
    "    "
   ]
  },
  {
   "cell_type": "markdown",
   "metadata": {},
   "source": [
    "# textpipe\n",
    "\n",
    "https://github.com/textpipe/textpipe\n",
    "\n",
    "```bash\n",
    "pip install textpipe\n",
    "```\n",
    "\n",
    "textpipe is a Python package for converting raw text in to clean, readable text and extracting metadata from that text. Its functionalities include transforming raw text into readable text by removing HTML tags and extracting metadata such as the number of words and named entities from the text.\n"
   ]
  },
  {
   "cell_type": "code",
   "execution_count": 61,
   "metadata": {},
   "outputs": [
    {
     "name": "stdout",
     "output_type": "stream",
     "text": [
      "detect_textpipe     Accuracy: 0.8275       Time: 0.6964163780212402\n"
     ]
    },
    {
     "data": {
      "text/plain": [
       "0.8275"
      ]
     },
     "execution_count": 61,
     "metadata": {},
     "output_type": "execute_result"
    },
    {
     "data": {
      "image/png": "[encoded data removed]",
      "text/plain": [
       "<Figure size 432x288 with 1 Axes>"
      ]
     },
     "metadata": {},
     "output_type": "display_data"
    }
   ],
   "source": [
    "from textpipe import doc, pipeline\n",
    "\n",
    "def detect_textpipe(sentence):\n",
    "    document = doc.Doc(sentence)\n",
    "    return iso_to_human.get(document.language,'unknow')\n",
    "    \n",
    "\n",
    "\n",
    "compute_accuracy_sentences (titles_sentences, detect_textpipe) "
   ]
  },
  {
   "cell_type": "code",
   "execution_count": 62,
   "metadata": {},
   "outputs": [
    {
     "name": "stdout",
     "output_type": "stream",
     "text": [
      "                          algorithm     accuracy                 \n",
      "                               ----     ----                     \n",
      "              detect_nltk_stopwords     0.741                    \n",
      "        detect_glhandmade_stopwords     0.749                    \n",
      "            detect_unique_stopwords     0.686                    \n",
      "             predict_language_naive     0.7115                   \n",
      "                       detect_vocab     0.892                    \n",
      "                 detect_nltk_tagger     0.858                    \n",
      "                  detect_langdetect     0.874                    \n",
      "                  lang_id_detection     0.8525                   \n",
      "           guess_language_detection     0.349                    \n",
      "               detect_with_polyglot     0.8945                   \n",
      "                   fasttext_predict     0.773                    \n",
      "                    detect_textpipe     0.8275                   \n",
      "\n",
      "                          algorithm     time                     \n",
      "                               ----     ----                     \n",
      "              detect_nltk_stopwords     0.14765024185180664      \n",
      "        detect_glhandmade_stopwords     0.12692832946777344      \n",
      "            detect_unique_stopwords     0.1293480396270752       \n",
      "             predict_language_naive     0.13068032264709473      \n",
      "                       detect_vocab     0.06909370422363281      \n",
      "                 detect_nltk_tagger     0.3388049602508545       \n",
      "                  detect_langdetect     65.69226431846619        \n",
      "                  lang_id_detection     1.3216664791107178       \n",
      "           guess_language_detection     0.09810543060302734      \n",
      "               detect_with_polyglot     1.0910234451293945       \n",
      "                   fasttext_predict     0.07419610023498535      \n",
      "                    detect_textpipe     0.6964163780212402       \n"
     ]
    }
   ],
   "source": [
    "plot_all_accuracies()"
   ]
  },
  {
   "cell_type": "code",
   "execution_count": 69,
   "metadata": {},
   "outputs": [
    {
     "data": {
      "image/png": "[encoded data removed]",
      "text/plain": [
       "<Figure size 432x288 with 1 Axes>"
      ]
     },
     "metadata": {},
     "output_type": "display_data"
    }
   ],
   "source": [
    "plot_confusion_matrix(confussion_matrices['detect_vocab'], title='detect_vocab')\n"
   ]
  },
  {
   "cell_type": "code",
   "execution_count": 68,
   "metadata": {},
   "outputs": [
    {
     "data": {
      "image/png": "[encoded data removed]",
      "text/plain": [
       "<Figure size 432x288 with 1 Axes>"
      ]
     },
     "metadata": {},
     "output_type": "display_data"
    }
   ],
   "source": [
    "plot_confusion_matrix(confussion_matrices['detect_with_polyglot'], title='detect_with_polyglot')\n"
   ]
  },
  {
   "cell_type": "code",
   "execution_count": null,
   "metadata": {},
   "outputs": [],
   "source": []
  }
 ],
 "metadata": {
  "kernelspec": {
   "display_name": "Python 3",
   "language": "python",
   "name": "python3"
  },
  "language_info": {
   "codemirror_mode": {
    "name": "ipython",
    "version": 3
   },
   "file_extension": ".py",
   "mimetype": "text/x-python",
   "name": "python",
   "nbconvert_exporter": "python",
   "pygments_lexer": "ipython3",
   "version": "3.6.4"
  },
  "toc": {
   "base_numbering": 1,
   "nav_menu": {
    "height": "402px",
    "width": "462px"
   },
   "number_sections": true,
   "sideBar": true,
   "skip_h1_title": false,
   "title_cell": "Table of Contents",
   "title_sidebar": "Contents",
   "toc_cell": false,
   "toc_position": {},
   "toc_section_display": true,
   "toc_window_display": false
  }
 },
 "nbformat": 4,
 "nbformat_minor": 2
}
